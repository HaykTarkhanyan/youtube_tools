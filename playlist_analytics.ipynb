{
 "cells": [
  {
   "cell_type": "code",
   "execution_count": 16,
   "id": "3909683f",
   "metadata": {},
   "outputs": [],
   "source": [
    "from pytubefix import YouTube\n"
   ]
  },
  {
   "cell_type": "code",
   "execution_count": 17,
   "id": "bb8da982",
   "metadata": {},
   "outputs": [],
   "source": [
    "# from pytube.innertube import _default_clients\n",
    "\n",
    "# _default_clients[ \"ANDROID\"][ \"context\"][\"client\"][\"clientVersion\"] = \"19.08.35\"\n",
    "# _default_clients[\"IOS\"][\"context\"][\"client\"][\"clientVersion\"] = \"19.08.35\"\n",
    "# _default_clients[ \"ANDROID_EMBED\"][ \"context\"][ \"client\"][\"clientVersion\"] = \"19.08.35\"\n",
    "# _default_clients[ \"IOS_EMBED\"][ \"context\"][\"client\"][\"clientVersion\"] = \"19.08.35\"\n",
    "# _default_clients[\"IOS_MUSIC\"][ \"context\"][\"client\"][\"clientVersion\"] = \"6.41\"\n",
    "# _default_clients[ \"ANDROID_MUSIC\"] = _default_clients[ \"ANDROID_CREATOR\" ]"
   ]
  },
  {
   "cell_type": "code",
   "execution_count": 21,
   "id": "651e3622",
   "metadata": {},
   "outputs": [],
   "source": [
    "URL = \"https://www.youtube.com/watch?v=omw7gYJRc7A&list=PLDDuEZQEC_uDcYhabzxMCFCs3vGGSGVX4&index=2\""
   ]
  },
  {
   "cell_type": "code",
   "execution_count": 22,
   "id": "ccc785d5",
   "metadata": {},
   "outputs": [],
   "source": [
    "yt = YouTube(URL)"
   ]
  },
  {
   "cell_type": "code",
   "execution_count": 23,
   "id": "6f14012c",
   "metadata": {},
   "outputs": [
    {
     "data": {
      "text/plain": [
       "'Kargin Haghordum sketch 202 (Hayko Mko)'"
      ]
     },
     "execution_count": 23,
     "metadata": {},
     "output_type": "execute_result"
    }
   ],
   "source": [
    "yt.title"
   ]
  },
  {
   "cell_type": "code",
   "execution_count": null,
   "id": "4d88d0ad",
   "metadata": {},
   "outputs": [],
   "source": []
  }
 ],
 "metadata": {
  "kernelspec": {
   "display_name": "Python 3",
   "language": "python",
   "name": "python3"
  },
  "language_info": {
   "codemirror_mode": {
    "name": "ipython",
    "version": 3
   },
   "file_extension": ".py",
   "mimetype": "text/x-python",
   "name": "python",
   "nbconvert_exporter": "python",
   "pygments_lexer": "ipython3",
   "version": "3.10.16"
  }
 },
 "nbformat": 4,
 "nbformat_minor": 5
}
