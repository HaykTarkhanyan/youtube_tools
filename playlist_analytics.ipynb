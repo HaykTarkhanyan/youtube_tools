{
 "cells": [
  {
   "cell_type": "code",
   "execution_count": 1,
   "id": "3909683f",
   "metadata": {},
   "outputs": [],
   "source": [
    "import time\n",
    "from tqdm import tqdm\n",
    "from pytubefix import Playlist, YouTube"
   ]
  },
  {
   "cell_type": "code",
   "execution_count": 3,
   "id": "b22627d1",
   "metadata": {},
   "outputs": [],
   "source": [
    "def get_info(url: str) -> dict:\n",
    "    \"\"\"Fetches basic info about a YouTube video.\n",
    "    \n",
    "    Note:\n",
    "        Returns 1. title, 2. views, ....\n",
    "    \n",
    "    Args:\n",
    "        url (str): The URL of the YouTube video.\n",
    "    \n",
    "    Returns:\n",
    "        dict: A dictionary containing the video's title, author, and description.\n",
    "    \"\"\"\n",
    "    yt = YouTube(url)\n",
    "    \n",
    "    data = {\n",
    "        \"title\": yt.title,\n",
    "        \"views\": yt.views,\n",
    "        \"length\": yt.length,\n",
    "        \"publish_date\": yt.publish_date#time.strftime(\"%Y-%m-%d\", time.localtime(yt.publish_date)),\n",
    "    }\n",
    "    \n",
    "    return data"
   ]
  },
  {
   "cell_type": "code",
   "execution_count": 4,
   "id": "fd840d4b",
   "metadata": {},
   "outputs": [
    {
     "data": {
      "text/plain": [
       "{'title': 'Kargin Haghordum sketch 204 (Hayko Mko)',\n",
       " 'views': 1490541,\n",
       " 'length': 188,\n",
       " 'publish_date': datetime.datetime(2012, 12, 27, 14, 17, 46, tzinfo=datetime.timezone(datetime.timedelta(days=-1, seconds=57600)))}"
      ]
     },
     "execution_count": 4,
     "metadata": {},
     "output_type": "execute_result"
    }
   ],
   "source": [
    "get_info(\"https://www.youtube.com/watch?v=Cwo1ZwjbfBg&list=PLDDuEZQEC_uDcYhabzxMCFCs3vGGSGVX4&index=4\")"
   ]
  },
  {
   "cell_type": "markdown",
   "id": "2be5bf6c",
   "metadata": {},
   "source": [
    "# Playlist"
   ]
  },
  {
   "cell_type": "code",
   "execution_count": 5,
   "id": "1ec800af",
   "metadata": {},
   "outputs": [],
   "source": [
    "PLAYLIST_URL = \"https://www.youtube.com/playlist?list=PLDDuEZQEC_uAv0tip8VEJoGG9SulCWxAj\""
   ]
  },
  {
   "cell_type": "code",
   "execution_count": null,
   "id": "114b6b06",
   "metadata": {},
   "outputs": [],
   "source": [
    "def get_playlist_info(pl_url: str) -> list:\n",
    "    \"\"\"Fetches basic info about a YouTube playlist.\n",
    "    \n",
    "    Args:\n",
    "        pl_url (str): The URL of the YouTube playlist.\n",
    "        \n",
    "    Returns:\n",
    "        dict: A dictionary containing the playlist's title, author, and description.\n",
    "    \"\"\"\n",
    "    pl = Playlist(pl_url)\n",
    "    \n",
    "    \n",
    "    all_videos = []\n",
    "    for video in tqdm(pl.video_urls):\n",
    "        all_videos.append(get_info(video))\n",
    "\n",
    "    all_videos.sort(key=lambda x: x[\"views\"], reverse=True)\n",
    "    \n",
    "    return all_videos\n"
   ]
  },
  {
   "cell_type": "code",
   "execution_count": 7,
   "id": "736f2155",
   "metadata": {},
   "outputs": [
    {
     "name": "stderr",
     "output_type": "stream",
     "text": [
      "100%|██████████| 2/2 [00:15<00:00,  7.71s/it]\n"
     ]
    },
    {
     "data": {
      "text/plain": [
       "[{'title': 'Ես կարող եմ աշխատել',\n",
       "  'views': 89192,\n",
       "  'length': 64,\n",
       "  'publish_date': datetime.datetime(2013, 7, 24, 7, 48, 19, tzinfo=datetime.timezone(datetime.timedelta(days=-1, seconds=61200)))},\n",
       " {'title': 'Չեմ վճարելու 150 դրամ',\n",
       "  'views': 171948,\n",
       "  'length': 78,\n",
       "  'publish_date': datetime.datetime(2013, 7, 24, 14, 23, 33, tzinfo=datetime.timezone(datetime.timedelta(days=-1, seconds=61200)))}]"
      ]
     },
     "execution_count": 7,
     "metadata": {},
     "output_type": "execute_result"
    }
   ],
   "source": [
    "get_playlist_info(PLAYLIST_URL)"
   ]
  },
  {
   "cell_type": "code",
   "execution_count": null,
   "id": "ad8ae5fe",
   "metadata": {},
   "outputs": [],
   "source": []
  }
 ],
 "metadata": {
  "kernelspec": {
   "display_name": "Python 3",
   "language": "python",
   "name": "python3"
  },
  "language_info": {
   "codemirror_mode": {
    "name": "ipython",
    "version": 3
   },
   "file_extension": ".py",
   "mimetype": "text/x-python",
   "name": "python",
   "nbconvert_exporter": "python",
   "pygments_lexer": "ipython3",
   "version": "3.10.16"
  }
 },
 "nbformat": 4,
 "nbformat_minor": 5
}
