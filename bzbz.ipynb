{
 "cells": [
  {
   "cell_type": "code",
   "execution_count": 123,
   "id": "8dc9d831",
   "metadata": {},
   "outputs": [],
   "source": [
    "import os\n",
    "import pandas as pd\n",
    "\n",
    "import toml\n",
    "\n",
    "from dotenv import load_dotenv\n",
    "load_dotenv()\n",
    "\n",
    "\n",
    "config = toml.load(\"config.toml\")"
   ]
  },
  {
   "cell_type": "code",
   "execution_count": 124,
   "id": "7e84556d",
   "metadata": {},
   "outputs": [],
   "source": [
    "import pytubefix\n",
    "from pytubefix import Playlist, Channel, YouTube\n",
    "\n",
    "from _youtube import YouTubeVideo\n"
   ]
  },
  {
   "cell_type": "code",
   "execution_count": 125,
   "id": "f26b5ffb",
   "metadata": {},
   "outputs": [],
   "source": [
    "def folder_csvs_to_excel(folder_path = \"out\", filename = \"merged\"):\n",
    "    all_files = [f for f in os.listdir(folder_path) if f.endswith('.csv')]\n",
    "    with pd.ExcelWriter(f\"{folder_path}/{filename}.xlsx\") as writer:\n",
    "        for file in all_files:\n",
    "            df = pd.read_csv(os.path.join(folder_path, file))\n",
    "            sheet_name = os.path.splitext(file)[0][:31]  # Excel sheet name max length is 31\n",
    "            df.to_excel(writer, sheet_name=sheet_name, index=False)"
   ]
  },
  {
   "cell_type": "code",
   "execution_count": 126,
   "id": "551c2985",
   "metadata": {},
   "outputs": [],
   "source": [
    "v = YouTube(\"https://www.youtube.com/watch?v=kYB8IZa5AuE&list=PLZHQObOWTQDPD3MizzM2xVFitgF8hE_ab&index=3&t=4s\")"
   ]
  },
  {
   "cell_type": "code",
   "execution_count": 127,
   "id": "fbf2e89a",
   "metadata": {},
   "outputs": [
    {
     "data": {
      "text/plain": [
       "\"Hey everyone! If I had to choose just one topic that makes all of the others in linear algebra start to click, and which too often goes unlearned the first time a student takes linear algebra, it would be this one. The idea of a linear transformation and its relation to matrices. For this video, I'm just going to focus on what these transformations look like in the case of two dimensions, and how they relate to the idea of matrix vector multiplication. In particular, I want to show you a way to think about matrix vector multiplication that doesn't rely on memorization. To start, let's just parse this term, linear transformation. Transformation is essentially a fancy word for function. It's something that takes in inputs and spits out an output for each one. Specifically, in the context of linear algebra, we like to think about transformations that take in some vector and spit out another vector. So why use the word transformation instead of function if they mean the same thing? Well, it's to be suggestive of a certain way to visualize this input-output relation. You see, a great way to understand functions of vectors is to use movement. If a transformation takes some input vector to some output vector, we imagine that input vector moving over to the output vector. Then to understand the transformation as a whole, we might imagine watching every possible input vector move over to its corresponding output vector. It gets really crowded to think about all of the vectors all at once, each one as an arrow. So as I mentioned last video, a nice trick is to conceptualize each vector not as an arrow, but as a single point, the point where its tip sits. That way, to think about a transformation taking every possible input vector to some output vector, we watch every point in space moving to some other point. In the case of transformations in two dimensions, to get a better feel for the whole shape of the transformation, I like to do this with all of the points on an infinite grid. I also sometimes like to keep a copy of the grid in the background, just to help keep track of where everything ends up relative to where it starts. The effect for various transformations moving around all of the points in space is, you've got to admit, beautiful. It gives the feeling of squishing and morphing space itself. As you can imagine though, arbitrary transformations can look pretty complicated. But luckily, linear algebra limits itself to a special type of transformation, ones that are easier to understand, called linear transformations. Visually speaking, a transformation is linear if it has two properties. All lines must remain lines without getting curved, and the origin must remain fixed in place. For example, this right here would not be a linear transformation, since the lines get all curvy. And this one right here, although it keeps the lines straight, is not a linear transformation, because it moves the origin. This one here fixes the origin, and it might look like it keeps lines straight, but that's just because I'm only showing the horizontal and vertical grid lines. When you see what it does to a diagonal line, it becomes clear that it's not at all linear, since it turns that line all curvy. In general, you should think of linear transformations as keeping grid lines parallel and evenly spaced. Some linear transformations are simple to think about, like rotations about the origin. Others are a little trickier to describe with words. So, how do you think you could describe these transformations numerically? If you were, say, programming some animations to make a video teaching the topic, what formula do you give the computer so that if you give it the coordinates of a vector, it can give you the coordinates of where that vector lands? It turns out that you only need to record where the two basis vectors, i-hat and j-hat, each land, and everything else will follow from that. For example, consider the vector v with coordinates negative 1, 2, meaning that it equals negative 1 times i-hat plus 2 times j-hat. If we play some transformation and follow where all three of these vectors go, the property that grid lines remain parallel and evenly spaced has a really important consequence. The place where v lands will be negative 1 times the vector where i-hat landed plus 2 times the vector where j-hat landed. In other words, it started off as a certain linear combination of i-hat and j-hat, and it ends up as that same linear combination of where those two vectors landed. This means you can deduce where v must go based only on where i-hat and j-hat each land. This is why I like keeping a copy of the original grid in the background. For the transformation shown here, we can read off that i-hat lands on the coordinates 1, negative 2, and j-hat lands on the x-axis over at the coordinates 3, 0. This means that the vector represented by negative 1 i-hat plus 2 times j-hat ends up at negative 1 times the vector 1, negative 2 plus 2 times the vector 3, 0. Adding that all together, you can deduce that it has to land on the vector 5, 2. This is a good point to pause and ponder, because it's pretty important. Now, given that I'm actually showing you the full transformation, you could have just looked to see that v has the coordinates 5, 2. But the cool part here is that this gives us a technique to deduce where any vectors land so long as we have a record of where i-hat and j-hat each land without needing to watch the transformation itself. Write the vector with more general coordinates, x and y, and it will land on x times the vector where i-hat lands, 1, negative 2, plus y times the vector where j-hat lands, 3, 0. Carrying out that sum, you see that it lands at 1x plus 3y, negative 2x plus 0y. I give you any vector, and you can tell me where that vector lands using this formula. What all of this is saying is that a two-dimensional linear transformation is completely described by just four numbers, the two coordinates for where i-hat lands and the two coordinates for where j-hat lands. Isn't that cool? It's common to package these coordinates into a 2x2 grid of numbers called a 2x2 matrix, where you can interpret the columns as the two special vectors where i-hat and j-hat each land. If you're given a 2x2 matrix describing a linear transformation and some specific vector, and you want to know where that linear transformation takes that vector, you can take the coordinates of the vector, multiply them by the corresponding columns of the matrix, then add together what you get. This corresponds with the idea of adding the scaled versions of our new basis vectors. Let's see what this looks like in the most general case, where your matrix has entries A, B, C, D. And remember, this matrix is just a way of packaging the information needed to describe a linear transformation. Always remember to interpret that first column, AC, as the place where the first basis vector lands, and that second column, BD, as the place where the second basis vector lands. When we apply this transformation to some vector xy, what do you get? Well, it'll be x times AC plus y times BD. Putting this together, you get a vector Ax plus By, Cx plus Dy. You could even define this as matrix vector multiplication, when you put the matrix on the left of the vector like it's a function. Then, you could make high schoolers memorize this without showing them the crucial part that makes it feel intuitive. But, isn't it more fun to think about these columns as the transformed versions of your basis vectors, and to think about the result as the appropriate linear combination of those vectors? Let's practice describing a few linear transformations with matrices. For example, if we rotate all of space 90 degrees counterclockwise, then i-hat lands on the coordinates 0, 1. And j-hat lands on the coordinates negative 1, 0. So the matrix we end up with has columns 0, 1, negative 1, 0. To figure out what happens to any vector after a 90-degree rotation, you could just multiply its coordinates by this matrix. Here's a fun transformation with a special name, called a shear. In it, i-hat remains fixed, so the first column of the matrix is 1, 0. But j-hat moves over to the coordinates 1, 1, which become the second column of the matrix. And at the risk of being redundant here, figuring out how a shear transforms a given vector comes down to multiplying this matrix by that vector. Let's say we want to go the other way around, starting with a matrix, say with columns 1, 2 and 3, 1, and we want to deduce what its transformation looks like. Pause and take a moment to see if you can imagine it. One way to do this is to first move i-hat to 1, 2, then move j-hat to 3, 1. Always moving the rest of space in such a way that keeps gridlines parallel and evenly spaced. If the vectors that i-hat and j-hat land on are linearly dependent, which, if you recall from last video, means that one is a scaled version of the other, it means that the linear transformation squishes all of 2D space onto the line where those two vectors sit, also known as the one-dimensional span of those two linearly dependent vectors. To sum up, linear transformations are a way to move around space such that gridlines remain parallel and evenly spaced, and such that the origin remains fixed. Delightfully, these transformations can be described using only a handful of numbers, the coordinates of where each basis vector lands. Matrices give us a language to describe these transformations, where the columns represent those coordinates, and matrix-vector multiplication is just a way to compute what that transformation does to a given vector. The important takeaway here is that every time you see a matrix, you can interpret it as a certain transformation of space. Once you really digest this idea, you're in a great position to understand linear algebra deeply. Almost all of the topics coming up, from matrix multiplication to determinants, change of basis, eigenvalues, all of these will become easier to understand once you start thinking about matrices as transformations of space. Most immediately, in the next video, I'll be talking about multiplying two matrices together. See you then! Thank you for watching!\""
      ]
     },
     "execution_count": 127,
     "metadata": {},
     "output_type": "execute_result"
    }
   ],
   "source": [
    "v.captions[\"en\"].generate_txt_captions()"
   ]
  },
  {
   "cell_type": "code",
   "execution_count": 128,
   "id": "e849285d",
   "metadata": {},
   "outputs": [],
   "source": [
    "import os\n",
    "import wordcloud\n",
    "import pandas as pd\n",
    "from pathlib import Path\n",
    "\n",
    "class Transcript:\n",
    "    def __init__(self, video_url: str, language: str = \"en\"):\n",
    "        self.video_url = video_url\n",
    "        self.language = language\n",
    "        \n",
    "        self.video = YouTube(video_url)\n",
    "        \n",
    "        self.title = self.video.title\n",
    "        self.title_no_special_chars = ''.join(e for e in self.title \n",
    "                                              if e.isalnum() or e.isspace()).replace(\" \", \"_\")\n",
    "        print(f\"Video Title: {self.title_no_special_chars}\")\n",
    "    \n",
    "        self.get_transcript(language=self.language)\n",
    "    @staticmethod\n",
    "    def srt_to_csv(srt_text: str) -> pd.DataFrame:\n",
    "        \"\"\"\n",
    "        Convert SRT text to a DataFrame.\n",
    "        \"\"\"\n",
    "        lines = srt_text.strip().split('\\n')\n",
    "        data = []\n",
    "        for i in range(0, len(lines), 4):\n",
    "            if i + 3 < len(lines):\n",
    "                index = lines[i].strip()\n",
    "                time_range = lines[i + 1].strip()\n",
    "                text = lines[i + 2].strip()\n",
    "                data.append({\"index\": index, \"time_range\": time_range, \"text\": text})\n",
    "        return pd.DataFrame(data)\n",
    "    \n",
    "    @staticmethod\n",
    "    def transcript_info(text: str) -> dict:\n",
    "        \"\"\"\n",
    "        Extracts information from the transcript text.\n",
    "        Returns a dictionary with the number of words and characters.\n",
    "        \"\"\"\n",
    "        words = text.split()\n",
    "        num_sentences = text.count('.') + text.count('!') + text.count('?')\n",
    "        num_words = len(words)\n",
    "        num_chars = len(text)\n",
    "        \n",
    "        return {\n",
    "            \"num_sentences\": num_sentences,\n",
    "            \"num_words\": num_words,\n",
    "            \"num_chars\": num_chars\n",
    "        }\n",
    "    \n",
    "    def get_available_languages(self):\n",
    "        languages_available = self.video.captions.keys()\n",
    "        if \"a.hy\" in languages_available:\n",
    "            print(\"Automatic armenian subtitles are available.\")\n",
    "        if \"en\" in languages_available:\n",
    "            print(\"English subtitles are available.\")\n",
    "        return languages_available\n",
    "        \n",
    "    \n",
    "    \n",
    "    def get_transcript(self, language: str = \"en\"):\n",
    "        if language not in self.video.captions:\n",
    "            msg = f\"Language '{language}' not available. Available languages: {self.get_available_languages()}\"\n",
    "            print(msg)\n",
    "            raise Exception(msg)\n",
    "        \n",
    "        self.caption = self.video.captions[language]\n",
    "        self.text = self.caption.generate_txt_captions()\n",
    "        self.srt = self.caption.generate_srt_captions()\n",
    "        print(f\"Transcript for '{language}' language has been generated.\")\n",
    "        print(f\"Transcript info: {self.transcript_info(self.text)}\")\n",
    "        \n",
    "        Path.mkdir(Path(\"videos\", self.title_no_special_chars), exist_ok=True)\n",
    "        \n",
    "        filename = Path(\"videos\", self.title_no_special_chars, self.title_no_special_chars)\n",
    "        with open(f\"{filename}.txt\", \"w\", encoding=\"utf-8\") as f:\n",
    "            f.write(self.text)\n",
    "        \n",
    "        with open(f\"{filename}.srt\", \"w\", encoding=\"utf-8\") as f:\n",
    "            f.write(self.srt)\n",
    "        print(f\"Transcript saved to {filename}.txt and {filename}.srt\")\n",
    "        \n",
    "        # Save srt to CSV\n",
    "        self.srt_df = self.srt_to_csv(self.srt)\n",
    "        csv_filename = f\"{filename}.csv\"\n",
    "        self.srt_df.to_csv(csv_filename, index=False, encoding=\"utf-8\")\n",
    "        print(f\"SRT converted to CSV and saved to {csv_filename}\")\n",
    "        \n",
    "        # Generate word cloud\n",
    "        wordcloud_filename = f\"{filename}_wordcloud.png\"\n",
    "        wordcloud_image = wordcloud.WordCloud(width=800, height=400, background_color='white')\n",
    "        wordcloud_image.generate(self.text)\n",
    "        wordcloud_image.to_file(wordcloud_filename)\n",
    "        print(f\"Word cloud generated and saved to {wordcloud_filename}\")\n",
    "        \n",
    "        return self.text, self.srt, self.srt_df    \n",
    "          "
   ]
  },
  {
   "cell_type": "code",
   "execution_count": 130,
   "id": "e094140d",
   "metadata": {},
   "outputs": [
    {
     "name": "stdout",
     "output_type": "stream",
     "text": [
      "Video Title: Linear_transformations_and_matrices__Chapter_3_Essence_of_linear_algebra\n",
      "Transcript for 'en' language has been generated.\n",
      "Transcript info: {'num_sentences': 87, 'num_words': 1810, 'num_chars': 10269}\n",
      "Transcript saved to videos\\Linear_transformations_and_matrices__Chapter_3_Essence_of_linear_algebra\\Linear_transformations_and_matrices__Chapter_3_Essence_of_linear_algebra.txt and videos\\Linear_transformations_and_matrices__Chapter_3_Essence_of_linear_algebra\\Linear_transformations_and_matrices__Chapter_3_Essence_of_linear_algebra.srt\n",
      "SRT converted to CSV and saved to videos\\Linear_transformations_and_matrices__Chapter_3_Essence_of_linear_algebra\\Linear_transformations_and_matrices__Chapter_3_Essence_of_linear_algebra.csv\n",
      "Word cloud generated and saved to videos\\Linear_transformations_and_matrices__Chapter_3_Essence_of_linear_algebra\\Linear_transformations_and_matrices__Chapter_3_Essence_of_linear_algebra_wordcloud.png\n"
     ]
    }
   ],
   "source": [
    "t = Transcript(\"https://www.youtube.com/watch?v=kYB8IZa5AuE&list=PLZHQObOWTQDPD3MizzM2xVFitgF8hE_ab&index=3&t=4s\")"
   ]
  },
  {
   "cell_type": "code",
   "execution_count": 48,
   "id": "020aa05f",
   "metadata": {},
   "outputs": [
    {
     "name": "stdout",
     "output_type": "stream",
     "text": [
      "Transcript for 'en' language has been generated.\n",
      "Transcript info: {'num_sentences': 78, 'num_words': 1075, 'num_chars': 5742}\n",
      "Transcript saved to videos\\Optimistic_Nihilism\\Optimistic_Nihilism.txt and videos\\Optimistic_Nihilism\\Optimistic_Nihilism.srt\n",
      "SRT converted to CSV and saved to videos\\Optimistic_Nihilism\\Optimistic_Nihilism.csv\n",
      "Word cloud generated and saved to videos\\Optimistic_Nihilism\\Optimistic_Nihilism_wordcloud.png\n"
     ]
    },
    {
     "data": {
      "text/plain": [
       "(\"Human existence is scary and confusing. A few hundred thousand years ago, we became conscious and found ourselves in a strange place. It was filled with other beings. We could eat some; some could eat us. There was liquid stuff we could drink; things we could use to make more things. The daytime sky had a tiny yellow ball that warmed our skin. The night sky was filled with beautiful lights. This place was obviously made for us. Something was watching over us. We were home. This made everything much less scary and confusing. But the older we got, the more we learned about the world and ourselves. We learned that the twinkling lights are not shining beautifully for us, they just are. We learned that we're not at the center of what we now call the universe, and that it is much, much older than we thought. We learned that we're made of many little dead things, which make up bigger things that are not dead, for some reason, and that we're just another temporary stage in a history going back over a billion years. We learned, in awe, that we live on a moist speck of dust moving around a medium-sized star in a quiet region of one arm of an average galaxy, which is part of a galaxy group that we will never leave. And this group is only one of thousands that, together, make up a galaxy supercluster. But even our supercluster is only one in thousands that make up what we call the observable universe. The universe might be a million times bigger, but we will never know. We can throw words around like two hundred million galaxies or trillions of stars or bazillions of planets, but all of these numbers mean nothing. Our brains can't comprehend these concepts. The universe is too big. There is too much of it. But size is not the most troubling concept we have to deal with. It's time, or, more precisely, the time we have. If you're lucky enough to live to one hundred, you have five thousand two hundred weeks at your disposal. If you're twenty-five now, then you have three thousand nine hundred weeks left. If you're going to die at seventy, then there are two thousand three hundred and forty weeks left - a lot of time, but also ... not really. And then what? Your biological processes will break down, and the dynamic pattern that is you will stop beinge dynamic. It will dissolve until there is no you left. Some believe that there is a part of us we can't see or measure, but we have no way to find out, so this life might be it and we might end up dead forever. This is less scary than it sounds, though. If you don't remember the 13.75 billion years that went by before you existed, Then the trillions and trillions and trillions of years that come after will pass in no time once you're gone. Close your eyes. Count to 1. That's how long forever feels. And as far as we know, in the end, the universe itself will die and nothing will ever change again. Our videos induce existential dread in many people, and the last few minutes probably haven't helped. So, for once, we want to offer a different way of looking at these things: an unscientific, subjective point of view, the philosophy of Kurzgesagt, if you want. Please take it with a grain of salt; we don't know any more about human existence than you do. We counter existential dread with optimistic nihilism. What do we mean by that? Well, to summarize, it seems very unlikely that 200 trillion trillion stars have been made for us. In a way, it feels like the cruelest joke in existence has been played on us. We became self-aware only to realize this story is not about us. While it is great to know about electrons and the powerhouse of the cell, Science doesn't do a lot to make this less depressing. Okay, but so what? You only get one shot at life, which is scary, but it also sets you free. If the universe ends in heat death, every humiliation you suffer in your life will be forgotten. Every mistake you made will not matter in the end. Every bad thing you did will be voided. If our life is all we get to experience, then it's the only thing that matters. If the universe has no principles, the only principles relevant are the ones we decide on. If the universe has no purpose, then we get to dictate what its purpose is. Humans will most certainly cease to exist at some point, but before we do, we get to explore ourselves and the world around us. We get to experience feelings. We get to experience food, books, sunrises, and being with each other. The fact that we're even able to think about these things is already kind of incredible. It's easy to think of ourselves as separated from everything, but this is not true. We are as much the universe as a neutron star or a black hole or a nebula. Even better, actually, we are its thinking and feeling part: the centre organs of the universe. We are truly free in a universe-sized playground, so we might as well aim to be happy and to build some kind of utopia in the stars. It's not as if we've found out everything there is to know We don't know why the rules of the universe are as they are, how life came into existence, what life is. We have no idea what consciousness is or if we are alone in the universe. But we can try to find some answers. There are billions of stars to visit, diseases to cure, people to help, happy feelings to be experienced, and video games to finish. There is so much to do. So, wrapping up, you've probably used up a good chunk of the time available to you. If this is our one shot at life, there is no reason not to have fun and live as happy as possible. Bonus points if you made the life of other people better. More bonus points if you help build a galactic human empire. Do the things that make you feel good. You get to decide whatever this means for you.\",\n",
       " \"1\\n00:00:00,520 --> 00:00:04,019\\nHuman existence is scary and confusing.\\n\\n2\\n00:00:04,019 --> 00:00:09,600\\nA few hundred thousand years ago, we became conscious and found ourselves in a strange place.\\n\\n3\\n00:00:09,600 --> 00:00:14,820\\nIt was filled with other beings. We could eat some; some could eat us.\\n\\n4\\n00:00:14,820 --> 00:00:19,500\\nThere was liquid stuff we could drink; things we could use to make more things.\\n\\n5\\n00:00:19,500 --> 00:00:22,900\\nThe daytime sky had a tiny yellow ball that warmed our skin.\\n\\n6\\n00:00:22,900 --> 00:00:25,620\\nThe night sky was filled with beautiful lights.\\n\\n7\\n00:00:25,620 --> 00:00:28,100\\nThis place was obviously made for us.\\n\\n8\\n00:00:28,100 --> 00:00:29,940\\nSomething was watching over us.\\n\\n9\\n00:00:29,940 --> 00:00:35,020\\nWe were home. This made everything much less scary and confusing.\\n\\n10\\n00:00:35,020 --> 00:00:38,960\\nBut the older we got, the more we learned about the world and ourselves.\\n\\n11\\n00:00:38,960 --> 00:00:43,660\\nWe learned that the twinkling lights are not shining beautifully for us, they just are.\\n\\n12\\n00:00:43,660 --> 00:00:46,840\\nWe learned that we're not at the center of what we now call the universe,\\n\\n13\\n00:00:46,840 --> 00:00:49,900\\nand that it is much, much older than we thought.\\n\\n14\\n00:00:49,900 --> 00:00:52,600\\nWe learned that we're made of many little dead things,\\n\\n15\\n00:00:52,600 --> 00:00:55,680\\nwhich make up bigger things that are not dead, for some reason,\\n\\n16\\n00:00:55,680 --> 00:01:01,380\\nand that we're just another temporary stage in a history going back over a billion years.\\n\\n17\\n00:01:01,380 --> 00:01:06,320\\nWe learned, in awe, that we live on a moist speck of dust moving around a medium-sized star\\n\\n18\\n00:01:06,320 --> 00:01:11,840\\nin a quiet region of one arm of an average galaxy, which is part of a galaxy group that we will never leave.\\n\\n19\\n00:01:11,840 --> 00:01:16,720\\nAnd this group is only one of thousands that, together, make up a galaxy supercluster.\\n\\n20\\n00:01:16,720 --> 00:01:22,860\\nBut even our supercluster is only one in thousands that make up what we call the observable universe.\\n\\n21\\n00:01:22,860 --> 00:01:27,580\\nThe universe might be a million times bigger, but we will never know.\\n\\n22\\n00:01:27,580 --> 00:01:30,740\\nWe can throw words around like two hundred million galaxies\\n\\n23\\n00:01:30,740 --> 00:01:33,560\\nor trillions of stars or bazillions of planets,\\n\\n24\\n00:01:33,560 --> 00:01:38,240\\nbut all of these numbers mean nothing. Our brains can't comprehend these concepts.\\n\\n25\\n00:01:38,240 --> 00:01:42,000\\nThe universe is too big. There is too much of it.\\n\\n26\\n00:01:42,000 --> 00:01:45,520\\nBut size is not the most troubling concept we have to deal with.\\n\\n27\\n00:01:45,520 --> 00:01:49,380\\nIt's time, or, more precisely, the time we have.\\n\\n28\\n00:01:49,960 --> 00:01:51,960\\nIf you're lucky enough to live to one hundred,\\n\\n29\\n00:01:51,960 --> 00:01:55,120\\nyou have five thousand two hundred weeks at your disposal.\\n\\n30\\n00:01:55,120 --> 00:01:59,960\\nIf you're twenty-five now, then you have three thousand nine hundred weeks left.\\n\\n31\\n00:01:59,960 --> 00:02:05,800\\nIf you're going to die at seventy, then there are two thousand three hundred and forty weeks left -\\n\\n32\\n00:02:05,800 --> 00:02:08,760\\na lot of time, but also ... not really.\\n\\n33\\n00:02:09,460 --> 00:02:10,700\\nAnd then what?\\n\\n34\\n00:02:10,940 --> 00:02:13,740\\nYour biological processes will break down,\\n\\n35\\n00:02:13,740 --> 00:02:17,060\\nand the dynamic pattern that is you will stop beinge dynamic.\\n\\n36\\n00:02:17,060 --> 00:02:20,580\\nIt will dissolve until there is no you left.\\n\\n37\\n00:02:20,580 --> 00:02:23,935\\nSome believe that there is a part of us we can't see or measure,\\n\\n38\\n00:02:23,940 --> 00:02:28,220\\nbut we have no way to find out, so this life might be it\\n\\n39\\n00:02:28,220 --> 00:02:30,800\\nand we might end up dead forever.\\n\\n40\\n00:02:30,800 --> 00:02:33,180\\nThis is less scary than it sounds, though.\\n\\n41\\n00:02:33,180 --> 00:02:37,720\\nIf you don't remember the 13.75 billion years that went by before you existed,\\n\\n42\\n00:02:37,720 --> 00:02:43,980\\nThen the trillions and trillions and trillions of years that come after will pass in no time once you're gone.\\n\\n43\\n00:02:43,980 --> 00:02:46,840\\nClose your eyes. Count to 1.\\n\\n44\\n00:02:47,400 --> 00:02:49,560\\nThat's how long forever feels.\\n\\n45\\n00:02:49,980 --> 00:02:55,680\\nAnd as far as we know, in the end, the universe itself will die and nothing will ever change again.\\n\\n46\\n00:02:56,380 --> 00:02:59,320\\nOur videos induce existential dread in many people,\\n\\n47\\n00:02:59,320 --> 00:03:01,560\\nand the last few minutes probably haven't helped.\\n\\n48\\n00:03:01,880 --> 00:03:05,380\\nSo, for once, we want to offer a different way of looking at these things:\\n\\n49\\n00:03:05,380 --> 00:03:10,760\\nan unscientific, subjective point of view, the philosophy of Kurzgesagt, if you want.\\n\\n50\\n00:03:10,760 --> 00:03:15,540\\nPlease take it with a grain of salt; we don't know any more about human existence than you do.\\n\\n51\\n00:03:15,540 --> 00:03:19,780\\nWe counter existential dread with optimistic nihilism.\\n\\n52\\n00:03:19,780 --> 00:03:21,360\\nWhat do we mean by that?\\n\\n53\\n00:03:21,880 --> 00:03:28,240\\nWell, to summarize, it seems very unlikely that 200 trillion trillion stars have been made for us.\\n\\n54\\n00:03:28,240 --> 00:03:31,980\\nIn a way, it feels like the cruelest joke in existence has been played on us.\\n\\n55\\n00:03:31,980 --> 00:03:36,440\\nWe became self-aware only to realize this story is not about us.\\n\\n56\\n00:03:36,440 --> 00:03:40,000\\nWhile it is great to know about electrons and the powerhouse of the cell,\\n\\n57\\n00:03:40,000 --> 00:03:43,200\\nScience doesn't do a lot to make this less depressing.\\n\\n58\\n00:03:43,620 --> 00:03:45,660\\nOkay, but so what?\\n\\n59\\n00:03:45,660 --> 00:03:49,920\\nYou only get one shot at life, which is scary, but it also sets you free.\\n\\n60\\n00:03:50,280 --> 00:03:55,580\\nIf the universe ends in heat death, every humiliation you suffer in your life will be forgotten.\\n\\n61\\n00:03:55,580 --> 00:03:58,700\\nEvery mistake you made will not matter in the end.\\n\\n62\\n00:03:58,700 --> 00:04:01,600\\nEvery bad thing you did will be voided.\\n\\n63\\n00:04:01,600 --> 00:04:06,460\\nIf our life is all we get to experience, then it's the only thing that matters.\\n\\n64\\n00:04:06,460 --> 00:04:11,580\\nIf the universe has no principles, the only principles relevant are the ones we decide on.\\n\\n65\\n00:04:11,580 --> 00:04:16,240\\nIf the universe has no purpose, then we get to dictate what its purpose is.\\n\\n66\\n00:04:16,240 --> 00:04:20,040\\nHumans will most certainly cease to exist at some point,\\n\\n67\\n00:04:20,040 --> 00:04:24,560\\nbut before we do, we get to explore ourselves and the world around us.\\n\\n68\\n00:04:24,560 --> 00:04:30,960\\nWe get to experience feelings. We get to experience food, books, sunrises, and being with each other.\\n\\n69\\n00:04:30,960 --> 00:04:35,920\\nThe fact that we're even able to think about these things is already kind of incredible.\\n\\n70\\n00:04:35,920 --> 00:04:40,840\\nIt's easy to think of ourselves as separated from everything, but this is not true.\\n\\n71\\n00:04:40,840 --> 00:04:43,780\\nWe are as much the universe as a neutron star\\n\\n72\\n00:04:43,780 --> 00:04:45,980\\nor a black hole or a nebula.\\n\\n73\\n00:04:45,980 --> 00:04:49,455\\nEven better, actually, we are its thinking and feeling part:\\n\\n74\\n00:04:49,460 --> 00:04:52,060\\nthe centre organs of the universe.\\n\\n75\\n00:04:52,060 --> 00:04:55,435\\nWe are truly free in a universe-sized playground,\\n\\n76\\n00:04:55,440 --> 00:05:00,400\\nso we might as well aim to be happy and to build some kind of utopia in the stars.\\n\\n77\\n00:05:00,400 --> 00:05:03,400\\nIt's not as if we've found out everything there is to know\\n\\n78\\n00:05:03,400 --> 00:05:06,140\\nWe don't know why the rules of the universe are as they are,\\n\\n79\\n00:05:06,140 --> 00:05:09,540\\nhow life came into existence, what life is.\\n\\n80\\n00:05:09,540 --> 00:05:14,560\\nWe have no idea what consciousness is or if we are alone in the universe.\\n\\n81\\n00:05:14,560 --> 00:05:17,060\\nBut we can try to find some answers.\\n\\n82\\n00:05:17,540 --> 00:05:20,980\\nThere are billions of stars to visit, diseases to cure,\\n\\n83\\n00:05:20,980 --> 00:05:23,920\\npeople to help, happy feelings to be experienced,\\n\\n84\\n00:05:23,920 --> 00:05:25,900\\nand video games to finish.\\n\\n85\\n00:05:25,900 --> 00:05:28,160\\nThere is so much to do.\\n\\n86\\n00:05:28,160 --> 00:05:32,940\\nSo, wrapping up, you've probably used up a good chunk of the time available to you.\\n\\n87\\n00:05:32,940 --> 00:05:37,040\\nIf this is our one shot at life, there is no reason not to have fun\\n\\n88\\n00:05:37,040 --> 00:05:38,840\\nand live as happy as possible.\\n\\n89\\n00:05:39,460 --> 00:05:42,400\\nBonus points if you made the life of other people better.\\n\\n90\\n00:05:42,400 --> 00:05:45,980\\nMore bonus points if you help build a galactic human empire.\\n\\n91\\n00:05:46,680 --> 00:05:49,320\\nDo the things that make you feel good.\\n\\n92\\n00:05:49,320 --> 00:05:51,500\\nYou get to decide whatever this means for you.\",\n",
       "    index                     time_range  \\\n",
       " 0      1  00:00:00,520 --> 00:00:04,019   \n",
       " 1      2  00:00:04,019 --> 00:00:09,600   \n",
       " 2      3  00:00:09,600 --> 00:00:14,820   \n",
       " 3      4  00:00:14,820 --> 00:00:19,500   \n",
       " 4      5  00:00:19,500 --> 00:00:22,900   \n",
       " ..   ...                            ...   \n",
       " 86    87  00:05:32,940 --> 00:05:37,040   \n",
       " 87    88  00:05:37,040 --> 00:05:38,840   \n",
       " 88    89  00:05:39,460 --> 00:05:42,400   \n",
       " 89    90  00:05:42,400 --> 00:05:45,980   \n",
       " 90    91  00:05:46,680 --> 00:05:49,320   \n",
       " \n",
       "                                                  text  \n",
       " 0             Human existence is scary and confusing.  \n",
       " 1   A few hundred thousand years ago, we became co...  \n",
       " 2   It was filled with other beings. We could eat ...  \n",
       " 3   There was liquid stuff we could drink; things ...  \n",
       " 4   The daytime sky had a tiny yellow ball that wa...  \n",
       " ..                                                ...  \n",
       " 86  If this is our one shot at life, there is no r...  \n",
       " 87                     and live as happy as possible.  \n",
       " 88  Bonus points if you made the life of other peo...  \n",
       " 89  More bonus points if you help build a galactic...  \n",
       " 90             Do the things that make you feel good.  \n",
       " \n",
       " [91 rows x 3 columns])"
      ]
     },
     "execution_count": 48,
     "metadata": {},
     "output_type": "execute_result"
    }
   ],
   "source": [
    "t.get_transcript()"
   ]
  },
  {
   "cell_type": "code",
   "execution_count": 146,
   "id": "a5ae0aef",
   "metadata": {},
   "outputs": [],
   "source": [
    "import os\n",
    "import asyncio\n",
    "import logging\n",
    "from googletrans import Translator\n",
    "# Set up logging to both file and console\n",
    "log_formatter = logging.Formatter('%(asctime)s [%(levelname)s] %(name)s: %(message)s')\n",
    "\n",
    "# File handler\n",
    "file_handler = logging.FileHandler(\"translate.log\", encoding=\"utf-8\")\n",
    "file_handler.setFormatter(log_formatter)\n",
    "file_handler.setLevel(logging.INFO)\n",
    "\n",
    "# Console handler\n",
    "console_handler = logging.StreamHandler()\n",
    "console_handler.setFormatter(log_formatter)\n",
    "console_handler.setLevel(logging.INFO)\n",
    "\n",
    "# Root logger setup\n",
    "logging.basicConfig(level=logging.INFO, handlers=[file_handler, console_handler])\n",
    "logger = logging.getLogger(__name__)\n",
    "\n",
    "class Translate:   \n",
    "    def __init__(self, tr: Transcript, \n",
    "                 use_claude: bool = False, client=None, model: str = \"claude-3-5-sonnet-20241022\"):\n",
    "        self.tr = tr\n",
    "        self.text = tr.text\n",
    "        self.df = tr.srt_df\n",
    "        \n",
    "        self.use_claude = use_claude\n",
    "        self.client = client\n",
    "        self.model = model\n",
    "        self.prompt = \"Translate the following text to Armenian․ Do not add any extra text or explanations. Just provide the translation in Armenian.\"\n",
    "        \n",
    "        self.google_translated_text = None\n",
    "        self.google_translated_df = None\n",
    "        self.claude_translated_text = None\n",
    "        self.claude_translated_df = None\n",
    "        \n",
    "        self.PATH = Path(\"videos\", tr.title_no_special_chars, \"translations\")\n",
    "        Path.mkdir(self.PATH, exist_ok=True)\n",
    "        \n",
    "        if self.use_claude:\n",
    "            logger.info(f\"Using Claude for translation. | Model: {self.model}\")\n",
    "            if client is None:\n",
    "                logger.info(\"No client provided, initializing Anthropic client.\")\n",
    "                from anthropic import Anthropic\n",
    "                self.client = Anthropic(api_key=os.getenv(\"ANTHROPIC_API_KEY\"))\n",
    "        \n",
    "    async def google_translate(self, target_lang: str = \"hy\"):\n",
    "        async with Translator() as translator:\n",
    "            res = await translator.translate(self.text, dest=target_lang)\n",
    "            self.google_translated_text = res.text\n",
    "            \n",
    "            with open(self.PATH / \"google.txt\", \"w\", encoding=\"utf-8\") as f:\n",
    "                f.write(self.google_translated_text)\n",
    "            logger.info(\"Google translation completed and saved to file.\")\n",
    "            return self.google_translated_text\n",
    "\n",
    "    async def google_translate_df(self, target_lang: str = \"hy\") -> pd.DataFrame:\n",
    "        \"\"\"\n",
    "        Translate the 'text' column of a DataFrame to the target language.\n",
    "        \"\"\"\n",
    "        async with Translator() as translator:\n",
    "            translations = await asyncio.gather(\n",
    "                *[translator.translate(text, dest=target_lang) for text in self.df['text']]\n",
    "            )\n",
    "            self.df['google_translate'] = [t.text for t in translations]\n",
    "            self.google_translated_df = self.df\n",
    "            self.df.to_csv(self.PATH / \"google.csv\", index=False, encoding=\"utf-8\")\n",
    "        logger.info(\"Google DataFrame translation completed and saved to CSV.\")\n",
    "        return self.df\n",
    "        \n",
    "    @staticmethod\n",
    "    def claude_request(client, model, prompt, messages):\n",
    "        return client.messages.create(\n",
    "            model=model,\n",
    "            max_tokens=1024,\n",
    "            system=prompt,\n",
    "            messages=messages\n",
    "        )    \n",
    "    \n",
    "    def claude_translate(self, experiment_mode: bool = True):\n",
    "        if experiment_mode:\n",
    "            text_to_translate = self.tr.text[:100]\n",
    "        else:\n",
    "            text_to_translate = self.tr.text\n",
    "        \n",
    "            \n",
    "        self.response = self.claude_request(\n",
    "            self.client, \n",
    "            self.model, \n",
    "            self.prompt, \n",
    "            [{\"role\": \"user\", \"content\": text_to_translate}]\n",
    "        )   \n",
    "        self.claude_text = self.response.content[0].text\n",
    "        \n",
    "        with open(self.PATH / \"claude.txt\", \"w\", encoding=\"utf-8\") as f:\n",
    "            f.write(self.claude_text)\n",
    "        \n",
    "        self.inp_tokens = self.response.usage.input_tokens\n",
    "        self.out_tokens = self.response.usage.output_tokens\n",
    "        \n",
    "        logger.info(f\"Claude translation completed. Input tokens: {self.inp_tokens} | Output tokens: {self.out_tokens}\")\n",
    "        \n",
    "        return self.claude_text\n",
    "    \n",
    "    def claude_translate_df(self, target_lang: str = \"en\", experiment_mode: bool = True):\n",
    "        if experiment_mode:\n",
    "            df_to_translate = self.tr.srt_df.head(2)\n",
    "        else:\n",
    "            df_to_translate = self.tr.srt_df\n",
    "        \n",
    "        df_to_translate['claude_translation'] = df_to_translate['text'].apply(\n",
    "            lambda text: self.claude_request(\n",
    "                self.client, \n",
    "                self.model, \n",
    "                self.prompt, \n",
    "                [{\"role\": \"user\", \"content\": text}]\n",
    "            ).content[0].text\n",
    "        )\n",
    "        self.claude_translated_df = df_to_translate\n",
    "        \n",
    "        df_to_translate.to_csv(self.PATH / \"claude.csv\", index=False, encoding=\"utf-8\")\n",
    "        logger.info(\"Claude DataFrame translation completed and saved to CSV.\")\n",
    "        \n",
    "        return df_to_translate  \n",
    "    \n",
    "    @staticmethod\n",
    "    def shorten_srt_range(ts_range: str) -> str:\n",
    "        \"\"\"\n",
    "        Convert an SRT time range like\n",
    "        \"00:00:00,520 --> 00:00:04,019\"\n",
    "        into\n",
    "        \"00:00 -> 00:04\"\n",
    "        \"\"\"\n",
    "        pattern = r\"(\\d+):(\\d+):(\\d+),\\d+\\s*-->\\s*(\\d+):(\\d+):(\\d+),\\d+\"\n",
    "        m = re.match(pattern, ts_range)\n",
    "        if not m:\n",
    "            raise ValueError(f\"Invalid SRT time range: {ts_range!r}\")\n",
    "\n",
    "        sh, sm, ss, eh, em, es = m.groups()\n",
    "\n",
    "        # combine hours into total minutes, then format as MM:SS\n",
    "        start_total_min = int(sh) * 60 + int(sm)\n",
    "        end_total_min   = int(eh) * 60 + int(em)\n",
    "\n",
    "        start_fmt = f\"{start_total_min:02d}:{int(ss):02d}\"\n",
    "        end_fmt   = f\"{end_total_min:02d}:{int(es):02d}\"\n",
    "\n",
    "        return f\"{start_fmt} -> {end_fmt}\"\n",
    "    \n",
    "    async def do_all(self):\n",
    "        logger.info(\"Google Text\")\n",
    "        await self.google_translate(target_lang=\"hy\")\n",
    "        logger.info(\"Google DataFrame\")\n",
    "        await self.google_translate_df(target_lang=\"hy\")\n",
    "        logger.info(\"Claude Text\")\n",
    "        self.claude_translate(experiment_mode=True)\n",
    "        logger.info(\"Claude DataFrame\")\n",
    "        self.claude_translate_df(experiment_mode=True)\n",
    "    \n",
    "    def gather_translations(self):\n",
    "        files = os.listdir(self.PATH)\n",
    "        if not files:\n",
    "            logger.warning(\"No translation files found in the directory.\")\n",
    "            raise FileNotFoundError(\"No translation files found in the directory.\")\n",
    "        \n",
    "        expected_files = {\"google.txt\", \"claude.txt\", \"google.csv\", \"claude.csv\"}\n",
    "        missing_files = expected_files - set(files)\n",
    "        if missing_files:\n",
    "            logger.warning(f\"Missing translation files: {', '.join(missing_files)}\")\n",
    "        else:\n",
    "            logger.info(\"All expected translation files are present.\")\n",
    "        \n",
    "        df_google = pd.read_csv(self.PATH / \"google.csv\", encoding=\"utf-8\")\n",
    "        df_claude = pd.read_csv(self.PATH / \"claude.csv\", encoding=\"utf-8\")\n",
    "        text_google = open(self.PATH / \"google.txt\", \"r\", encoding=\"utf-8\").read()\n",
    "        text_claude = open(self.PATH / \"claude.txt\", \"r\", encoding=\"utf-8\").read()\n",
    "        \n",
    "        df_google['claude_translation'] = df_claude['claude_translation']\n",
    "        df_all = df_google.copy()\n",
    "        \n",
    "        # improve time range column \"\"00:00:03,520 --> 00:03\"\"\n",
    "        df_all[\"time_range\"] = df_all[\"time_range\"].apply(\n",
    "            self.shorten_srt_range\n",
    "        )\n",
    "        \n",
    "        df_all[\"link\"] = self.tr.video_url\n",
    "        \n",
    "        df_full = pd.DataFrame({\n",
    "            \"text\": self.tr.text,\n",
    "            \"google_translation\": [text_google],\n",
    "            \"claude_translation\": [text_claude],\n",
    "        })\n",
    "        \n",
    "        new_folder = Path(self.PATH) / \"combined\"\n",
    "        Path.mkdir(new_folder, exist_ok=True)\n",
    "        df_all.to_csv(new_folder / \"both_translations.csv\", index=False, encoding=\"utf-8\")\n",
    "        df_full.to_csv(new_folder / \"full_translations.csv\", index=False, encoding=\"utf-8\")\n",
    "        \n",
    "        folder_csvs_to_excel(new_folder, filename=\"translations_combined\")\n",
    "        \n",
    "        \n",
    "        \n",
    "        \n",
    "        "
   ]
  },
  {
   "cell_type": "code",
   "execution_count": 147,
   "id": "a0eaf28a",
   "metadata": {},
   "outputs": [
    {
     "name": "stderr",
     "output_type": "stream",
     "text": [
      "INFO:__main__:Using Claude for translation. | Model: claude-3-5-sonnet-20241022\n",
      "INFO:__main__:No client provided, initializing Anthropic client.\n"
     ]
    }
   ],
   "source": [
    "translator = Translate(t, use_claude=True)"
   ]
  },
  {
   "cell_type": "code",
   "execution_count": 148,
   "id": "148f5840",
   "metadata": {},
   "outputs": [
    {
     "name": "stderr",
     "output_type": "stream",
     "text": [
      "INFO:__main__:Google Text\n",
      "INFO:httpx:HTTP Request: GET https://translate.googleapis.com/translate_a/single?client=gtx&sl=auto&tl=hy&hl=hy&dt=at&dt=bd&dt=ex&dt=ld&dt=md&dt=qca&dt=rw&dt=rm&dt=ss&dt=t&ie=UTF-8&oe=UTF-8&otf=1&ssel=0&tsel=0&tk=xxxx&q=Hey+everyone%21+If+I+had+to+choose+just+one+topic+that+makes+all+of+the+others+in+linear+algebra+start+to+click%2C+and+which+too+often+goes+unlearned+the+first+time+a+student+takes+linear+algebra%2C+it+would+be+this+one.+The+idea+of+a+linear+transformation+and+its+relation+to+matrices.+For+this+video%2C+I%27m+just+going+to+focus+on+what+these+transformations+look+like+in+the+case+of+two+dimensions%2C+and+how+they+relate+to+the+idea+of+matrix+vector+multiplication.+In+particular%2C+I+want+to+show+you+a+way+to+think+about+matrix+vector+multiplication+that+doesn%27t+rely+on+memorization.+To+start%2C+let%27s+just+parse+this+term%2C+linear+transformation.+Transformation+is+essentially+a+fancy+word+for+function.+It%27s+something+that+takes+in+inputs+and+spits+out+an+output+for+each+one.+Specifically%2C+in+the+context+of+linear+algebra%2C+we+like+to+think+about+transformations+that+take+in+some+vector+and+spit+out+another+vector.+So+why+use+the+word+transformation+instead+of+function+if+they+mean+the+same+thing%3F+Well%2C+it%27s+to+be+suggestive+of+a+certain+way+to+visualize+this+input-output+relation.+You+see%2C+a+great+way+to+understand+functions+of+vectors+is+to+use+movement.+If+a+transformation+takes+some+input+vector+to+some+output+vector%2C+we+imagine+that+input+vector+moving+over+to+the+output+vector.+Then+to+understand+the+transformation+as+a+whole%2C+we+might+imagine+watching+every+possible+input+vector+move+over+to+its+corresponding+output+vector.+It+gets+really+crowded+to+think+about+all+of+the+vectors+all+at+once%2C+each+one+as+an+arrow.+So+as+I+mentioned+last+video%2C+a+nice+trick+is+to+conceptualize+each+vector+not+as+an+arrow%2C+but+as+a+single+point%2C+the+point+where+its+tip+sits.+That+way%2C+to+think+about+a+transformation+taking+every+possible+input+vector+to+some+output+vector%2C+we+watch+every+point+in+space+moving+to+some+other+point.+In+the+case+of+transformations+in+two+dimensions%2C+to+get+a+better+feel+for+the+whole+shape+of+the+transformation%2C+I+like+to+do+this+with+all+of+the+points+on+an+infinite+grid.+I+also+sometimes+like+to+keep+a+copy+of+the+grid+in+the+background%2C+just+to+help+keep+track+of+where+everything+ends+up+relative+to+where+it+starts.+The+effect+for+various+transformations+moving+around+all+of+the+points+in+space+is%2C+you%27ve+got+to+admit%2C+beautiful.+It+gives+the+feeling+of+squishing+and+morphing+space+itself.+As+you+can+imagine+though%2C+arbitrary+transformations+can+look+pretty+complicated.+But+luckily%2C+linear+algebra+limits+itself+to+a+special+type+of+transformation%2C+ones+that+are+easier+to+understand%2C+called+linear+transformations.+Visually+speaking%2C+a+transformation+is+linear+if+it+has+two+properties.+All+lines+must+remain+lines+without+getting+curved%2C+and+the+origin+must+remain+fixed+in+place.+For+example%2C+this+right+here+would+not+be+a+linear+transformation%2C+since+the+lines+get+all+curvy.+And+this+one+right+here%2C+although+it+keeps+the+lines+straight%2C+is+not+a+linear+transformation%2C+because+it+moves+the+origin.+This+one+here+fixes+the+origin%2C+and+it+might+look+like+it+keeps+lines+straight%2C+but+that%27s+just+because+I%27m+only+showing+the+horizontal+and+vertical+grid+lines.+When+you+see+what+it+does+to+a+diagonal+line%2C+it+becomes+clear+that+it%27s+not+at+all+linear%2C+since+it+turns+that+line+all+curvy.+In+general%2C+you+should+think+of+linear+transformations+as+keeping+grid+lines+parallel+and+evenly+spaced.+Some+linear+transformations+are+simple+to+think+about%2C+like+rotations+about+the+origin.+Others+are+a+little+trickier+to+describe+with+words.+So%2C+how+do+you+think+you+could+describe+these+transformations+numerically%3F+If+you+were%2C+say%2C+programming+some+animations+to+make+a+video+teaching+the+topic%2C+what+formula+do+you+give+the+computer+so+that+if+you+give+it+the+coordinates+of+a+vector%2C+it+can+give+you+the+coordinates+of+where+that+vector+lands%3F+It+turns+out+that+you+only+need+to+record+where+the+two+basis+vectors%2C+i-hat+and+j-hat%2C+each+land%2C+and+everything+else+will+follow+from+that.+For+example%2C+consider+the+vector+v+with+coordinates+negative+1%2C+2%2C+meaning+that+it+equals+negative+1+times+i-hat+plus+2+times+j-hat.+If+we+play+some+transformation+and+follow+where+all+three+of+these+vectors+go%2C+the+property+that+grid+lines+remain+parallel+and+evenly+spaced+has+a+really+important+consequence.+The+place+where+v+lands+will+be+negative+1+times+the+vector+where+i-hat+landed+plus+2+times+the+vector+where+j-hat+landed.+In+other+words%2C+it+started+off+as+a+certain+linear+combination+of+i-hat+and+j-hat%2C+and+it+ends+up+as+that+same+linear+combination+of+where+those+two+vectors+landed.+This+means+you+can+deduce+where+v+must+go+based+only+on+where+i-hat+and+j-hat+each+land.+This+is+why+I+like+keeping+a+copy+of+the+original+grid+in+the+background.+For+the+transformation+shown+here%2C+we+can+read+off+that+i-hat+lands+on+the+coordinates+1%2C+negative+2%2C+and+j-hat+lands+on+the+x-axis+over+at+the+coordinates+3%2C+0.+This+means+that+the+vector+represented+by+negative+1+i-hat+plus+2+times+j-hat+ends+up+at+negative+1+times+the+vector+1%2C+negative+2+plus+2+times+the+vector+3%2C+0.+Adding+that+all+together%2C+you+can+deduce+that+it+has+to+land+on+the+vector+5%2C+2.+This+is+a+good+point+to+pause+and+ponder%2C+because+it%27s+pretty+important.+Now%2C+given+that+I%27m+actually+showing+you+the+full+transformation%2C+you+could+have+just+looked+to+see+that+v+has+the+coordinates+5%2C+2.+But+the+cool+part+here+is+that+this+gives+us+a+technique+to+deduce+where+any+vectors+land+so+long+as+we+have+a+record+of+where+i-hat+and+j-hat+each+land+without+needing+to+watch+the+transformation+itself.+Write+the+vector+with+more+general+coordinates%2C+x+and+y%2C+and+it+will+land+on+x+times+the+vector+where+i-hat+lands%2C+1%2C+negative+2%2C+plus+y+times+the+vector+where+j-hat+lands%2C+3%2C+0.+Carrying+out+that+sum%2C+you+see+that+it+lands+at+1x+plus+3y%2C+negative+2x+plus+0y.+I+give+you+any+vector%2C+and+you+can+tell+me+where+that+vector+lands+using+this+formula.+What+all+of+this+is+saying+is+that+a+two-dimensional+linear+transformation+is+completely+described+by+just+four+numbers%2C+the+two+coordinates+for+where+i-hat+lands+and+the+two+coordinates+for+where+j-hat+lands.+Isn%27t+that+cool%3F+It%27s+common+to+package+these+coordinates+into+a+2x2+grid+of+numbers+called+a+2x2+matrix%2C+where+you+can+interpret+the+columns+as+the+two+special+vectors+where+i-hat+and+j-hat+each+land.+If+you%27re+given+a+2x2+matrix+describing+a+linear+transformation+and+some+specific+vector%2C+and+you+want+to+know+where+that+linear+transformation+takes+that+vector%2C+you+can+take+the+coordinates+of+the+vector%2C+multiply+them+by+the+corresponding+columns+of+the+matrix%2C+then+add+together+what+you+get.+This+corresponds+with+the+idea+of+adding+the+scaled+versions+of+our+new+basis+vectors.+Let%27s+see+what+this+looks+like+in+the+most+general+case%2C+where+your+matrix+has+entries+A%2C+B%2C+C%2C+D.+And+remember%2C+this+matrix+is+just+a+way+of+packaging+the+information+needed+to+describe+a+linear+transformation.+Always+remember+to+interpret+that+first+column%2C+AC%2C+as+the+place+where+the+first+basis+vector+lands%2C+and+that+second+column%2C+BD%2C+as+the+place+where+the+second+basis+vector+lands.+When+we+apply+this+transformation+to+some+vector+xy%2C+what+do+you+get%3F+Well%2C+it%27ll+be+x+times+AC+plus+y+times+BD.+Putting+this+together%2C+you+get+a+vector+Ax+plus+By%2C+Cx+plus+Dy.+You+could+even+define+this+as+matrix+vector+multiplication%2C+when+you+put+the+matrix+on+the+left+of+the+vector+like+it%27s+a+function.+Then%2C+you+could+make+high+schoolers+memorize+this+without+showing+them+the+crucial+part+that+makes+it+feel+intuitive.+But%2C+isn%27t+it+more+fun+to+think+about+these+columns+as+the+transformed+versions+of+your+basis+vectors%2C+and+to+think+about+the+result+as+the+appropriate+linear+combination+of+those+vectors%3F+Let%27s+practice+describing+a+few+linear+transformations+with+matrices.+For+example%2C+if+we+rotate+all+of+space+90+degrees+counterclockwise%2C+then+i-hat+lands+on+the+coordinates+0%2C+1.+And+j-hat+lands+on+the+coordinates+negative+1%2C+0.+So+the+matrix+we+end+up+with+has+columns+0%2C+1%2C+negative+1%2C+0.+To+figure+out+what+happens+to+any+vector+after+a+90-degree+rotation%2C+you+could+just+multiply+its+coordinates+by+this+matrix.+Here%27s+a+fun+transformation+with+a+special+name%2C+called+a+shear.+In+it%2C+i-hat+remains+fixed%2C+so+the+first+column+of+the+matrix+is+1%2C+0.+But+j-hat+moves+over+to+the+coordinates+1%2C+1%2C+which+become+the+second+column+of+the+matrix.+And+at+the+risk+of+being+redundant+here%2C+figuring+out+how+a+shear+transforms+a+given+vector+comes+down+to+multiplying+this+matrix+by+that+vector.+Let%27s+say+we+want+to+go+the+other+way+around%2C+starting+with+a+matrix%2C+say+with+columns+1%2C+2+and+3%2C+1%2C+and+we+want+to+deduce+what+its+transformation+looks+like.+Pause+and+take+a+moment+to+see+if+you+can+imagine+it.+One+way+to+do+this+is+to+first+move+i-hat+to+1%2C+2%2C+then+move+j-hat+to+3%2C+1.+Always+moving+the+rest+of+space+in+such+a+way+that+keeps+gridlines+parallel+and+evenly+spaced.+If+the+vectors+that+i-hat+and+j-hat+land+on+are+linearly+dependent%2C+which%2C+if+you+recall+from+last+video%2C+means+that+one+is+a+scaled+version+of+the+other%2C+it+means+that+the+linear+transformation+squishes+all+of+2D+space+onto+the+line+where+those+two+vectors+sit%2C+also+known+as+the+one-dimensional+span+of+those+two+linearly+dependent+vectors.+To+sum+up%2C+linear+transformations+are+a+way+to+move+around+space+such+that+gridlines+remain+parallel+and+evenly+spaced%2C+and+such+that+the+origin+remains+fixed.+Delightfully%2C+these+transformations+can+be+described+using+only+a+handful+of+numbers%2C+the+coordinates+of+where+each+basis+vector+lands.+Matrices+give+us+a+language+to+describe+these+transformations%2C+where+the+columns+represent+those+coordinates%2C+and+matrix-vector+multiplication+is+just+a+way+to+compute+what+that+transformation+does+to+a+given+vector.+The+important+takeaway+here+is+that+every+time+you+see+a+matrix%2C+you+can+interpret+it+as+a+certain+transformation+of+space.+Once+you+really+digest+this+idea%2C+you%27re+in+a+great+position+to+understand+linear+algebra+deeply.+Almost+all+of+the+topics+coming+up%2C+from+matrix+multiplication+to+determinants%2C+change+of+basis%2C+eigenvalues%2C+all+of+these+will+become+easier+to+understand+once+you+start+thinking+about+matrices+as+transformations+of+space.+Most+immediately%2C+in+the+next+video%2C+I%27ll+be+talking+about+multiplying+two+matrices+together.+See+you+then%21+Thank+you+for+watching%21 \"HTTP/2 200 OK\"\n",
      "INFO:__main__:Google translation completed and saved to file.\n",
      "INFO:__main__:Google DataFrame\n",
      "INFO:httpx:HTTP Request: GET https://translate.googleapis.com/translate_a/single?client=gtx&sl=auto&tl=hy&hl=hy&dt=at&dt=bd&dt=ex&dt=ld&dt=md&dt=qca&dt=rw&dt=rm&dt=ss&dt=t&ie=UTF-8&oe=UTF-8&otf=1&ssel=0&tsel=0&tk=xxxx&q=Transformation+is+essentially+a+fancy+word+for+function. \"HTTP/2 200 OK\"\n",
      "INFO:httpx:HTTP Request: GET https://translate.googleapis.com/translate_a/single?client=gtx&sl=auto&tl=hy&hl=hy&dt=at&dt=bd&dt=ex&dt=ld&dt=md&dt=qca&dt=rw&dt=rm&dt=ss&dt=t&ie=UTF-8&oe=UTF-8&otf=1&ssel=0&tsel=0&tk=xxxx&q=It%27s+something+that+takes+in+inputs+and+spits+out+an+output+for+each+one. \"HTTP/2 200 OK\"\n",
      "INFO:httpx:HTTP Request: GET https://translate.googleapis.com/translate_a/single?client=gtx&sl=auto&tl=hy&hl=hy&dt=at&dt=bd&dt=ex&dt=ld&dt=md&dt=qca&dt=rw&dt=rm&dt=ss&dt=t&ie=UTF-8&oe=UTF-8&otf=1&ssel=0&tsel=0&tk=xxxx&q=It+gives+the+feeling+of+squishing+and+morphing+space+itself. \"HTTP/2 200 OK\"\n",
      "INFO:httpx:HTTP Request: GET https://translate.googleapis.com/translate_a/single?client=gtx&sl=auto&tl=hy&hl=hy&dt=at&dt=bd&dt=ex&dt=ld&dt=md&dt=qca&dt=rw&dt=rm&dt=ss&dt=t&ie=UTF-8&oe=UTF-8&otf=1&ssel=0&tsel=0&tk=xxxx&q=Visually+speaking%2C+a+transformation+is+linear+if+it+has+two+properties. \"HTTP/2 200 OK\"\n",
      "INFO:httpx:HTTP Request: GET https://translate.googleapis.com/translate_a/single?client=gtx&sl=auto&tl=hy&hl=hy&dt=at&dt=bd&dt=ex&dt=ld&dt=md&dt=qca&dt=rw&dt=rm&dt=ss&dt=t&ie=UTF-8&oe=UTF-8&otf=1&ssel=0&tsel=0&tk=xxxx&q=Others+are+a+little+trickier+to+describe+with+words. \"HTTP/2 200 OK\"\n",
      "INFO:httpx:HTTP Request: GET https://translate.googleapis.com/translate_a/single?client=gtx&sl=auto&tl=hy&hl=hy&dt=at&dt=bd&dt=ex&dt=ld&dt=md&dt=qca&dt=rw&dt=rm&dt=ss&dt=t&ie=UTF-8&oe=UTF-8&otf=1&ssel=0&tsel=0&tk=xxxx&q=So%2C+how+do+you+think+you+could+describe+these+transformations+numerically%3F \"HTTP/2 200 OK\"\n",
      "INFO:httpx:HTTP Request: GET https://translate.googleapis.com/translate_a/single?client=gtx&sl=auto&tl=hy&hl=hy&dt=at&dt=bd&dt=ex&dt=ld&dt=md&dt=qca&dt=rw&dt=rm&dt=ss&dt=t&ie=UTF-8&oe=UTF-8&otf=1&ssel=0&tsel=0&tk=xxxx&q=This+means+you+can+deduce+where+v+must+go+based+only+on+where+i-hat+and+j-hat+each+land. \"HTTP/2 200 OK\"\n",
      "INFO:httpx:HTTP Request: GET https://translate.googleapis.com/translate_a/single?client=gtx&sl=auto&tl=hy&hl=hy&dt=at&dt=bd&dt=ex&dt=ld&dt=md&dt=qca&dt=rw&dt=rm&dt=ss&dt=t&ie=UTF-8&oe=UTF-8&otf=1&ssel=0&tsel=0&tk=xxxx&q=This+is+why+I+like+keeping+a+copy+of+the+original+grid+in+the+background. \"HTTP/2 200 OK\"\n",
      "INFO:httpx:HTTP Request: GET https://translate.googleapis.com/translate_a/single?client=gtx&sl=auto&tl=hy&hl=hy&dt=at&dt=bd&dt=ex&dt=ld&dt=md&dt=qca&dt=rw&dt=rm&dt=ss&dt=t&ie=UTF-8&oe=UTF-8&otf=1&ssel=0&tsel=0&tk=xxxx&q=This+is+a+good+point+to+pause+and+ponder%2C+because+it%27s+pretty+important. \"HTTP/2 200 OK\"\n",
      "INFO:httpx:HTTP Request: GET https://translate.googleapis.com/translate_a/single?client=gtx&sl=auto&tl=hy&hl=hy&dt=at&dt=bd&dt=ex&dt=ld&dt=md&dt=qca&dt=rw&dt=rm&dt=ss&dt=t&ie=UTF-8&oe=UTF-8&otf=1&ssel=0&tsel=0&tk=xxxx&q=I+give+you+any+vector%2C+and+you+can+tell+me+where+that+vector+lands+using+this+formula. \"HTTP/2 200 OK\"\n",
      "INFO:httpx:HTTP Request: GET https://translate.googleapis.com/translate_a/single?client=gtx&sl=auto&tl=hy&hl=hy&dt=at&dt=bd&dt=ex&dt=ld&dt=md&dt=qca&dt=rw&dt=rm&dt=ss&dt=t&ie=UTF-8&oe=UTF-8&otf=1&ssel=0&tsel=0&tk=xxxx&q=Isn%27t+that+cool%3F \"HTTP/2 200 OK\"\n",
      "INFO:httpx:HTTP Request: GET https://translate.googleapis.com/translate_a/single?client=gtx&sl=auto&tl=hy&hl=hy&dt=at&dt=bd&dt=ex&dt=ld&dt=md&dt=qca&dt=rw&dt=rm&dt=ss&dt=t&ie=UTF-8&oe=UTF-8&otf=1&ssel=0&tsel=0&tk=xxxx&q=and+you+want+to+know+where+that+linear+transformation+takes+that+vector%2C \"HTTP/2 200 OK\"\n",
      "INFO:httpx:HTTP Request: GET https://translate.googleapis.com/translate_a/single?client=gtx&sl=auto&tl=hy&hl=hy&dt=at&dt=bd&dt=ex&dt=ld&dt=md&dt=qca&dt=rw&dt=rm&dt=ss&dt=t&ie=UTF-8&oe=UTF-8&otf=1&ssel=0&tsel=0&tk=xxxx&q=This+corresponds+with+the+idea+of+adding+the+scaled+versions+of+our+new+basis+vectors. \"HTTP/2 200 OK\"\n",
      "INFO:httpx:HTTP Request: GET https://translate.googleapis.com/translate_a/single?client=gtx&sl=auto&tl=hy&hl=hy&dt=at&dt=bd&dt=ex&dt=ld&dt=md&dt=qca&dt=rw&dt=rm&dt=ss&dt=t&ie=UTF-8&oe=UTF-8&otf=1&ssel=0&tsel=0&tk=xxxx&q=Hey+everyone%21 \"HTTP/2 200 OK\"\n",
      "INFO:httpx:HTTP Request: GET https://translate.googleapis.com/translate_a/single?client=gtx&sl=auto&tl=hy&hl=hy&dt=at&dt=bd&dt=ex&dt=ld&dt=md&dt=qca&dt=rw&dt=rm&dt=ss&dt=t&ie=UTF-8&oe=UTF-8&otf=1&ssel=0&tsel=0&tk=xxxx&q=If+I+had+to+choose+just+one+topic+that+makes+all+of+the+others+in \"HTTP/2 200 OK\"\n",
      "INFO:httpx:HTTP Request: GET https://translate.googleapis.com/translate_a/single?client=gtx&sl=auto&tl=hy&hl=hy&dt=at&dt=bd&dt=ex&dt=ld&dt=md&dt=qca&dt=rw&dt=rm&dt=ss&dt=t&ie=UTF-8&oe=UTF-8&otf=1&ssel=0&tsel=0&tk=xxxx&q=linear+algebra+start+to+click%2C+and+which+too+often+goes+unlearned \"HTTP/2 200 OK\"\n",
      "INFO:httpx:HTTP Request: GET https://translate.googleapis.com/translate_a/single?client=gtx&sl=auto&tl=hy&hl=hy&dt=at&dt=bd&dt=ex&dt=ld&dt=md&dt=qca&dt=rw&dt=rm&dt=ss&dt=t&ie=UTF-8&oe=UTF-8&otf=1&ssel=0&tsel=0&tk=xxxx&q=the+first+time+a+student+takes+linear+algebra%2C+it+would+be+this+one. \"HTTP/2 200 OK\"\n",
      "INFO:httpx:HTTP Request: GET https://translate.googleapis.com/translate_a/single?client=gtx&sl=auto&tl=hy&hl=hy&dt=at&dt=bd&dt=ex&dt=ld&dt=md&dt=qca&dt=rw&dt=rm&dt=ss&dt=t&ie=UTF-8&oe=UTF-8&otf=1&ssel=0&tsel=0&tk=xxxx&q=The+idea+of+a+linear+transformation+and+its+relation+to+matrices. \"HTTP/2 200 OK\"\n",
      "INFO:httpx:HTTP Request: GET https://translate.googleapis.com/translate_a/single?client=gtx&sl=auto&tl=hy&hl=hy&dt=at&dt=bd&dt=ex&dt=ld&dt=md&dt=qca&dt=rw&dt=rm&dt=ss&dt=t&ie=UTF-8&oe=UTF-8&otf=1&ssel=0&tsel=0&tk=xxxx&q=For+this+video%2C+I%27m+just+going+to+focus+on+what+these+transformations+look+like+in+the \"HTTP/2 200 OK\"\n",
      "INFO:httpx:HTTP Request: GET https://translate.googleapis.com/translate_a/single?client=gtx&sl=auto&tl=hy&hl=hy&dt=at&dt=bd&dt=ex&dt=ld&dt=md&dt=qca&dt=rw&dt=rm&dt=ss&dt=t&ie=UTF-8&oe=UTF-8&otf=1&ssel=0&tsel=0&tk=xxxx&q=case+of+two+dimensions%2C+and+how+they+relate+to+the+idea+of+matrix+vector+multiplication. \"HTTP/2 200 OK\"\n",
      "INFO:httpx:HTTP Request: GET https://translate.googleapis.com/translate_a/single?client=gtx&sl=auto&tl=hy&hl=hy&dt=at&dt=bd&dt=ex&dt=ld&dt=md&dt=qca&dt=rw&dt=rm&dt=ss&dt=t&ie=UTF-8&oe=UTF-8&otf=1&ssel=0&tsel=0&tk=xxxx&q=vector+multiplication+that+doesn%27t+rely+on+memorization. \"HTTP/2 200 OK\"\n",
      "INFO:httpx:HTTP Request: GET https://translate.googleapis.com/translate_a/single?client=gtx&sl=auto&tl=hy&hl=hy&dt=at&dt=bd&dt=ex&dt=ld&dt=md&dt=qca&dt=rw&dt=rm&dt=ss&dt=t&ie=UTF-8&oe=UTF-8&otf=1&ssel=0&tsel=0&tk=xxxx&q=To+start%2C+let%27s+just+parse+this+term%2C+linear+transformation. \"HTTP/2 200 OK\"\n",
      "INFO:httpx:HTTP Request: GET https://translate.googleapis.com/translate_a/single?client=gtx&sl=auto&tl=hy&hl=hy&dt=at&dt=bd&dt=ex&dt=ld&dt=md&dt=qca&dt=rw&dt=rm&dt=ss&dt=t&ie=UTF-8&oe=UTF-8&otf=1&ssel=0&tsel=0&tk=xxxx&q=Specifically%2C+in+the+context+of+linear+algebra%2C \"HTTP/2 200 OK\"\n",
      "INFO:httpx:HTTP Request: GET https://translate.googleapis.com/translate_a/single?client=gtx&sl=auto&tl=hy&hl=hy&dt=at&dt=bd&dt=ex&dt=ld&dt=md&dt=qca&dt=rw&dt=rm&dt=ss&dt=t&ie=UTF-8&oe=UTF-8&otf=1&ssel=0&tsel=0&tk=xxxx&q=So+why+use+the+word+transformation+instead+of+function+if+they+mean+the+same+thing%3F \"HTTP/2 200 OK\"\n",
      "INFO:httpx:HTTP Request: GET https://translate.googleapis.com/translate_a/single?client=gtx&sl=auto&tl=hy&hl=hy&dt=at&dt=bd&dt=ex&dt=ld&dt=md&dt=qca&dt=rw&dt=rm&dt=ss&dt=t&ie=UTF-8&oe=UTF-8&otf=1&ssel=0&tsel=0&tk=xxxx&q=Well%2C+it%27s+to+be+suggestive+of+a+certain+way+to+visualize+this+input-output+relation. \"HTTP/2 200 OK\"\n",
      "INFO:httpx:HTTP Request: GET https://translate.googleapis.com/translate_a/single?client=gtx&sl=auto&tl=hy&hl=hy&dt=at&dt=bd&dt=ex&dt=ld&dt=md&dt=qca&dt=rw&dt=rm&dt=ss&dt=t&ie=UTF-8&oe=UTF-8&otf=1&ssel=0&tsel=0&tk=xxxx&q=You+see%2C+a+great+way+to+understand+functions+of+vectors+is+to+use+movement. \"HTTP/2 200 OK\"\n",
      "INFO:httpx:HTTP Request: GET https://translate.googleapis.com/translate_a/single?client=gtx&sl=auto&tl=hy&hl=hy&dt=at&dt=bd&dt=ex&dt=ld&dt=md&dt=qca&dt=rw&dt=rm&dt=ss&dt=t&ie=UTF-8&oe=UTF-8&otf=1&ssel=0&tsel=0&tk=xxxx&q=corresponding+output+vector. \"HTTP/2 200 OK\"\n",
      "INFO:httpx:HTTP Request: GET https://translate.googleapis.com/translate_a/single?client=gtx&sl=auto&tl=hy&hl=hy&dt=at&dt=bd&dt=ex&dt=ld&dt=md&dt=qca&dt=rw&dt=rm&dt=ss&dt=t&ie=UTF-8&oe=UTF-8&otf=1&ssel=0&tsel=0&tk=xxxx&q=not+as+an+arrow%2C+but+as+a+single+point%2C+the+point+where+its+tip+sits. \"HTTP/2 200 OK\"\n",
      "INFO:httpx:HTTP Request: GET https://translate.googleapis.com/translate_a/single?client=gtx&sl=auto&tl=hy&hl=hy&dt=at&dt=bd&dt=ex&dt=ld&dt=md&dt=qca&dt=rw&dt=rm&dt=ss&dt=t&ie=UTF-8&oe=UTF-8&otf=1&ssel=0&tsel=0&tk=xxxx&q=That+way%2C+to+think+about+a+transformation+taking+every+possible+input+vector \"HTTP/2 200 OK\"\n",
      "INFO:httpx:HTTP Request: GET https://translate.googleapis.com/translate_a/single?client=gtx&sl=auto&tl=hy&hl=hy&dt=at&dt=bd&dt=ex&dt=ld&dt=md&dt=qca&dt=rw&dt=rm&dt=ss&dt=t&ie=UTF-8&oe=UTF-8&otf=1&ssel=0&tsel=0&tk=xxxx&q=I+like+to+do+this+with+all+of+the+points+on+an+infinite+grid. \"HTTP/2 200 OK\"\n",
      "INFO:httpx:HTTP Request: GET https://translate.googleapis.com/translate_a/single?client=gtx&sl=auto&tl=hy&hl=hy&dt=at&dt=bd&dt=ex&dt=ld&dt=md&dt=qca&dt=rw&dt=rm&dt=ss&dt=t&ie=UTF-8&oe=UTF-8&otf=1&ssel=0&tsel=0&tk=xxxx&q=The+effect+for+various+transformations+moving+around+all+of+the+points+in+space+is%2C \"HTTP/2 200 OK\"\n",
      "INFO:httpx:HTTP Request: GET https://translate.googleapis.com/translate_a/single?client=gtx&sl=auto&tl=hy&hl=hy&dt=at&dt=bd&dt=ex&dt=ld&dt=md&dt=qca&dt=rw&dt=rm&dt=ss&dt=t&ie=UTF-8&oe=UTF-8&otf=1&ssel=0&tsel=0&tk=xxxx&q=As+you+can+imagine+though%2C+arbitrary+transformations+can+look+pretty+complicated. \"HTTP/2 200 OK\"\n",
      "INFO:httpx:HTTP Request: GET https://translate.googleapis.com/translate_a/single?client=gtx&sl=auto&tl=hy&hl=hy&dt=at&dt=bd&dt=ex&dt=ld&dt=md&dt=qca&dt=rw&dt=rm&dt=ss&dt=t&ie=UTF-8&oe=UTF-8&otf=1&ssel=0&tsel=0&tk=xxxx&q=and+the+origin+must+remain+fixed+in+place. \"HTTP/2 200 OK\"\n",
      "INFO:httpx:HTTP Request: GET https://translate.googleapis.com/translate_a/single?client=gtx&sl=auto&tl=hy&hl=hy&dt=at&dt=bd&dt=ex&dt=ld&dt=md&dt=qca&dt=rw&dt=rm&dt=ss&dt=t&ie=UTF-8&oe=UTF-8&otf=1&ssel=0&tsel=0&tk=xxxx&q=For+example%2C+this+right+here+would+not+be+a+linear+transformation%2C \"HTTP/2 200 OK\"\n",
      "INFO:httpx:HTTP Request: GET https://translate.googleapis.com/translate_a/single?client=gtx&sl=auto&tl=hy&hl=hy&dt=at&dt=bd&dt=ex&dt=ld&dt=md&dt=qca&dt=rw&dt=rm&dt=ss&dt=t&ie=UTF-8&oe=UTF-8&otf=1&ssel=0&tsel=0&tk=xxxx&q=but+that%27s+just+because+I%27m+only+showing+the+horizontal+and+vertical+grid+lines. \"HTTP/2 200 OK\"\n",
      "INFO:httpx:HTTP Request: GET https://translate.googleapis.com/translate_a/single?client=gtx&sl=auto&tl=hy&hl=hy&dt=at&dt=bd&dt=ex&dt=ld&dt=md&dt=qca&dt=rw&dt=rm&dt=ss&dt=t&ie=UTF-8&oe=UTF-8&otf=1&ssel=0&tsel=0&tk=xxxx&q=When+you+see+what+it+does+to+a+diagonal+line%2C+it+becomes+clear \"HTTP/2 200 OK\"\n",
      "INFO:httpx:HTTP Request: GET https://translate.googleapis.com/translate_a/single?client=gtx&sl=auto&tl=hy&hl=hy&dt=at&dt=bd&dt=ex&dt=ld&dt=md&dt=qca&dt=rw&dt=rm&dt=ss&dt=t&ie=UTF-8&oe=UTF-8&otf=1&ssel=0&tsel=0&tk=xxxx&q=Some+linear+transformations+are+simple+to+think+about%2C+like+rotations+about+the+origin. \"HTTP/2 200 OK\"\n",
      "INFO:httpx:HTTP Request: GET https://translate.googleapis.com/translate_a/single?client=gtx&sl=auto&tl=hy&hl=hy&dt=at&dt=bd&dt=ex&dt=ld&dt=md&dt=qca&dt=rw&dt=rm&dt=ss&dt=t&ie=UTF-8&oe=UTF-8&otf=1&ssel=0&tsel=0&tk=xxxx&q=It+turns+out+that+you+only+need+to+record+where+the+two+basis+vectors%2C \"HTTP/2 200 OK\"\n",
      "INFO:httpx:HTTP Request: GET https://translate.googleapis.com/translate_a/single?client=gtx&sl=auto&tl=hy&hl=hy&dt=at&dt=bd&dt=ex&dt=ld&dt=md&dt=qca&dt=rw&dt=rm&dt=ss&dt=t&ie=UTF-8&oe=UTF-8&otf=1&ssel=0&tsel=0&tk=xxxx&q=For+example%2C+consider+the+vector+v+with+coordinates+negative+1%2C+2%2C \"HTTP/2 200 OK\"\n",
      "INFO:httpx:HTTP Request: GET https://translate.googleapis.com/translate_a/single?client=gtx&sl=auto&tl=hy&hl=hy&dt=at&dt=bd&dt=ex&dt=ld&dt=md&dt=qca&dt=rw&dt=rm&dt=ss&dt=t&ie=UTF-8&oe=UTF-8&otf=1&ssel=0&tsel=0&tk=xxxx&q=If+we+play+some+transformation+and+follow+where+all+three+of+these+vectors+go%2C \"HTTP/2 200 OK\"\n",
      "INFO:httpx:HTTP Request: GET https://translate.googleapis.com/translate_a/single?client=gtx&sl=auto&tl=hy&hl=hy&dt=at&dt=bd&dt=ex&dt=ld&dt=md&dt=qca&dt=rw&dt=rm&dt=ss&dt=t&ie=UTF-8&oe=UTF-8&otf=1&ssel=0&tsel=0&tk=xxxx&q=the+property+that+grid+lines+remain+parallel+and+evenly+spaced+has+a+really+important \"HTTP/2 200 OK\"\n",
      "INFO:httpx:HTTP Request: GET https://translate.googleapis.com/translate_a/single?client=gtx&sl=auto&tl=hy&hl=hy&dt=at&dt=bd&dt=ex&dt=ld&dt=md&dt=qca&dt=rw&dt=rm&dt=ss&dt=t&ie=UTF-8&oe=UTF-8&otf=1&ssel=0&tsel=0&tk=xxxx&q=you+can+take+the+coordinates+of+the+vector%2C+multiply+them+by+the+corresponding \"HTTP/2 200 OK\"\n",
      "INFO:httpx:HTTP Request: GET https://translate.googleapis.com/translate_a/single?client=gtx&sl=auto&tl=hy&hl=hy&dt=at&dt=bd&dt=ex&dt=ld&dt=md&dt=qca&dt=rw&dt=rm&dt=ss&dt=t&ie=UTF-8&oe=UTF-8&otf=1&ssel=0&tsel=0&tk=xxxx&q=In+particular%2C+I+want+to+show+you+a+way+to+think+about+matrix \"HTTP/2 200 OK\"\n",
      "INFO:httpx:HTTP Request: GET https://translate.googleapis.com/translate_a/single?client=gtx&sl=auto&tl=hy&hl=hy&dt=at&dt=bd&dt=ex&dt=ld&dt=md&dt=qca&dt=rw&dt=rm&dt=ss&dt=t&ie=UTF-8&oe=UTF-8&otf=1&ssel=0&tsel=0&tk=xxxx&q=we+like+to+think+about+transformations+that+take+in+some+vector+and \"HTTP/2 200 OK\"\n",
      "INFO:httpx:HTTP Request: GET https://translate.googleapis.com/translate_a/single?client=gtx&sl=auto&tl=hy&hl=hy&dt=at&dt=bd&dt=ex&dt=ld&dt=md&dt=qca&dt=rw&dt=rm&dt=ss&dt=t&ie=UTF-8&oe=UTF-8&otf=1&ssel=0&tsel=0&tk=xxxx&q=spit+out+another+vector. \"HTTP/2 200 OK\"\n",
      "INFO:httpx:HTTP Request: GET https://translate.googleapis.com/translate_a/single?client=gtx&sl=auto&tl=hy&hl=hy&dt=at&dt=bd&dt=ex&dt=ld&dt=md&dt=qca&dt=rw&dt=rm&dt=ss&dt=t&ie=UTF-8&oe=UTF-8&otf=1&ssel=0&tsel=0&tk=xxxx&q=If+a+transformation+takes+some+input+vector+to+some+output+vector%2C \"HTTP/2 200 OK\"\n",
      "INFO:httpx:HTTP Request: GET https://translate.googleapis.com/translate_a/single?client=gtx&sl=auto&tl=hy&hl=hy&dt=at&dt=bd&dt=ex&dt=ld&dt=md&dt=qca&dt=rw&dt=rm&dt=ss&dt=t&ie=UTF-8&oe=UTF-8&otf=1&ssel=0&tsel=0&tk=xxxx&q=When+we+apply+this+transformation+to+some+vector+xy%2C+what+do+you+get%3F \"HTTP/2 200 OK\"\n",
      "INFO:httpx:HTTP Request: GET https://translate.googleapis.com/translate_a/single?client=gtx&sl=auto&tl=hy&hl=hy&dt=at&dt=bd&dt=ex&dt=ld&dt=md&dt=qca&dt=rw&dt=rm&dt=ss&dt=t&ie=UTF-8&oe=UTF-8&otf=1&ssel=0&tsel=0&tk=xxxx&q=we+imagine+that+input+vector+moving+over+to+the+output+vector. \"HTTP/2 200 OK\"\n",
      "INFO:httpx:HTTP Request: GET https://translate.googleapis.com/translate_a/single?client=gtx&sl=auto&tl=hy&hl=hy&dt=at&dt=bd&dt=ex&dt=ld&dt=md&dt=qca&dt=rw&dt=rm&dt=ss&dt=t&ie=UTF-8&oe=UTF-8&otf=1&ssel=0&tsel=0&tk=xxxx&q=Then+to+understand+the+transformation+as+a+whole%2C \"HTTP/2 200 OK\"\n",
      "INFO:httpx:HTTP Request: GET https://translate.googleapis.com/translate_a/single?client=gtx&sl=auto&tl=hy&hl=hy&dt=at&dt=bd&dt=ex&dt=ld&dt=md&dt=qca&dt=rw&dt=rm&dt=ss&dt=t&ie=UTF-8&oe=UTF-8&otf=1&ssel=0&tsel=0&tk=xxxx&q=we+might+imagine+watching+every+possible+input+vector+move+over+to+its \"HTTP/2 200 OK\"\n",
      "INFO:httpx:HTTP Request: GET https://translate.googleapis.com/translate_a/single?client=gtx&sl=auto&tl=hy&hl=hy&dt=at&dt=bd&dt=ex&dt=ld&dt=md&dt=qca&dt=rw&dt=rm&dt=ss&dt=t&ie=UTF-8&oe=UTF-8&otf=1&ssel=0&tsel=0&tk=xxxx&q=Well%2C+it%27ll+be+x+times+AC+plus+y+times+BD. \"HTTP/2 200 OK\"\n",
      "INFO:httpx:HTTP Request: GET https://translate.googleapis.com/translate_a/single?client=gtx&sl=auto&tl=hy&hl=hy&dt=at&dt=bd&dt=ex&dt=ld&dt=md&dt=qca&dt=rw&dt=rm&dt=ss&dt=t&ie=UTF-8&oe=UTF-8&otf=1&ssel=0&tsel=0&tk=xxxx&q=I+also+sometimes+like+to+keep+a+copy+of+the+grid+in+the+background%2C \"HTTP/2 200 OK\"\n",
      "INFO:httpx:HTTP Request: GET https://translate.googleapis.com/translate_a/single?client=gtx&sl=auto&tl=hy&hl=hy&dt=at&dt=bd&dt=ex&dt=ld&dt=md&dt=qca&dt=rw&dt=rm&dt=ss&dt=t&ie=UTF-8&oe=UTF-8&otf=1&ssel=0&tsel=0&tk=xxxx&q=All+lines+must+remain+lines+without+getting+curved%2C \"HTTP/2 200 OK\"\n",
      "INFO:httpx:HTTP Request: GET https://translate.googleapis.com/translate_a/single?client=gtx&sl=auto&tl=hy&hl=hy&dt=at&dt=bd&dt=ex&dt=ld&dt=md&dt=qca&dt=rw&dt=rm&dt=ss&dt=t&ie=UTF-8&oe=UTF-8&otf=1&ssel=0&tsel=0&tk=xxxx&q=Putting+this+together%2C+you+get+a+vector+Ax+plus+By%2C+Cx+plus+Dy. \"HTTP/2 200 OK\"\n",
      "INFO:httpx:HTTP Request: GET https://translate.googleapis.com/translate_a/single?client=gtx&sl=auto&tl=hy&hl=hy&dt=at&dt=bd&dt=ex&dt=ld&dt=md&dt=qca&dt=rw&dt=rm&dt=ss&dt=t&ie=UTF-8&oe=UTF-8&otf=1&ssel=0&tsel=0&tk=xxxx&q=For+the+transformation+shown+here%2C+we+can+read+off+that+i-hat+lands+on+the+coordinates+1%2C \"HTTP/2 200 OK\"\n",
      "INFO:httpx:HTTP Request: GET https://translate.googleapis.com/translate_a/single?client=gtx&sl=auto&tl=hy&hl=hy&dt=at&dt=bd&dt=ex&dt=ld&dt=md&dt=qca&dt=rw&dt=rm&dt=ss&dt=t&ie=UTF-8&oe=UTF-8&otf=1&ssel=0&tsel=0&tk=xxxx&q=But+the+cool+part+here+is+that+this+gives+us+a+technique+to+deduce \"HTTP/2 200 OK\"\n",
      "INFO:httpx:HTTP Request: GET https://translate.googleapis.com/translate_a/single?client=gtx&sl=auto&tl=hy&hl=hy&dt=at&dt=bd&dt=ex&dt=ld&dt=md&dt=qca&dt=rw&dt=rm&dt=ss&dt=t&ie=UTF-8&oe=UTF-8&otf=1&ssel=0&tsel=0&tk=xxxx&q=showing+them+the+crucial+part+that+makes+it+feel+intuitive. \"HTTP/2 200 OK\"\n",
      "INFO:httpx:HTTP Request: GET https://translate.googleapis.com/translate_a/single?client=gtx&sl=auto&tl=hy&hl=hy&dt=at&dt=bd&dt=ex&dt=ld&dt=md&dt=qca&dt=rw&dt=rm&dt=ss&dt=t&ie=UTF-8&oe=UTF-8&otf=1&ssel=0&tsel=0&tk=xxxx&q=as+the+place+where+the+first+basis+vector+lands%2C+and+that+second+column%2C+BD%2C \"HTTP/2 200 OK\"\n",
      "INFO:httpx:HTTP Request: GET https://translate.googleapis.com/translate_a/single?client=gtx&sl=auto&tl=hy&hl=hy&dt=at&dt=bd&dt=ex&dt=ld&dt=md&dt=qca&dt=rw&dt=rm&dt=ss&dt=t&ie=UTF-8&oe=UTF-8&otf=1&ssel=0&tsel=0&tk=xxxx&q=and+j-hat+each+land+without+needing+to+watch+the+transformation+itself. \"HTTP/2 200 OK\"\n",
      "INFO:httpx:HTTP Request: GET https://translate.googleapis.com/translate_a/single?client=gtx&sl=auto&tl=hy&hl=hy&dt=at&dt=bd&dt=ex&dt=ld&dt=md&dt=qca&dt=rw&dt=rm&dt=ss&dt=t&ie=UTF-8&oe=UTF-8&otf=1&ssel=0&tsel=0&tk=xxxx&q=If+you%27re+given+a+2x2+matrix+describing+a+linear+transformation+and+some+specific+vector%2C \"HTTP/2 200 OK\"\n",
      "INFO:httpx:HTTP Request: GET https://translate.googleapis.com/translate_a/single?client=gtx&sl=auto&tl=hy&hl=hy&dt=at&dt=bd&dt=ex&dt=ld&dt=md&dt=qca&dt=rw&dt=rm&dt=ss&dt=t&ie=UTF-8&oe=UTF-8&otf=1&ssel=0&tsel=0&tk=xxxx&q=as+the+place+where+the+second+basis+vector+lands. \"HTTP/2 200 OK\"\n",
      "INFO:httpx:HTTP Request: GET https://translate.googleapis.com/translate_a/single?client=gtx&sl=auto&tl=hy&hl=hy&dt=at&dt=bd&dt=ex&dt=ld&dt=md&dt=qca&dt=rw&dt=rm&dt=ss&dt=t&ie=UTF-8&oe=UTF-8&otf=1&ssel=0&tsel=0&tk=xxxx&q=Let%27s+see+what+this+looks+like+in+the+most+general+case%2C \"HTTP/2 200 OK\"\n",
      "INFO:httpx:HTTP Request: GET https://translate.googleapis.com/translate_a/single?client=gtx&sl=auto&tl=hy&hl=hy&dt=at&dt=bd&dt=ex&dt=ld&dt=md&dt=qca&dt=rw&dt=rm&dt=ss&dt=t&ie=UTF-8&oe=UTF-8&otf=1&ssel=0&tsel=0&tk=xxxx&q=the+result+as+the+appropriate+linear+combination+of+those+vectors%3F \"HTTP/2 200 OK\"\n",
      "INFO:httpx:HTTP Request: GET https://translate.googleapis.com/translate_a/single?client=gtx&sl=auto&tl=hy&hl=hy&dt=at&dt=bd&dt=ex&dt=ld&dt=md&dt=qca&dt=rw&dt=rm&dt=ss&dt=t&ie=UTF-8&oe=UTF-8&otf=1&ssel=0&tsel=0&tk=xxxx&q=Let%27s+practice+describing+a+few+linear+transformations+with+matrices. \"HTTP/2 200 OK\"\n",
      "INFO:httpx:HTTP Request: GET https://translate.googleapis.com/translate_a/single?client=gtx&sl=auto&tl=hy&hl=hy&dt=at&dt=bd&dt=ex&dt=ld&dt=md&dt=qca&dt=rw&dt=rm&dt=ss&dt=t&ie=UTF-8&oe=UTF-8&otf=1&ssel=0&tsel=0&tk=xxxx&q=For+example%2C+if+we+rotate+all+of+space+90+degrees+counterclockwise%2C \"HTTP/2 200 OK\"\n",
      "INFO:httpx:HTTP Request: GET https://translate.googleapis.com/translate_a/single?client=gtx&sl=auto&tl=hy&hl=hy&dt=at&dt=bd&dt=ex&dt=ld&dt=md&dt=qca&dt=rw&dt=rm&dt=ss&dt=t&ie=UTF-8&oe=UTF-8&otf=1&ssel=0&tsel=0&tk=xxxx&q=Here%27s+a+fun+transformation+with+a+special+name%2C+called+a+shear. \"HTTP/2 200 OK\"\n",
      "INFO:httpx:HTTP Request: GET https://translate.googleapis.com/translate_a/single?client=gtx&sl=auto&tl=hy&hl=hy&dt=at&dt=bd&dt=ex&dt=ld&dt=md&dt=qca&dt=rw&dt=rm&dt=ss&dt=t&ie=UTF-8&oe=UTF-8&otf=1&ssel=0&tsel=0&tk=xxxx&q=Pause+and+take+a+moment+to+see+if+you+can+imagine+it. \"HTTP/2 200 OK\"\n",
      "INFO:httpx:HTTP Request: GET https://translate.googleapis.com/translate_a/single?client=gtx&sl=auto&tl=hy&hl=hy&dt=at&dt=bd&dt=ex&dt=ld&dt=md&dt=qca&dt=rw&dt=rm&dt=ss&dt=t&ie=UTF-8&oe=UTF-8&otf=1&ssel=0&tsel=0&tk=xxxx&q=is+not+a+linear+transformation%2C+because+it+moves+the+origin. \"HTTP/2 200 OK\"\n",
      "INFO:httpx:HTTP Request: GET https://translate.googleapis.com/translate_a/single?client=gtx&sl=auto&tl=hy&hl=hy&dt=at&dt=bd&dt=ex&dt=ld&dt=md&dt=qca&dt=rw&dt=rm&dt=ss&dt=t&ie=UTF-8&oe=UTF-8&otf=1&ssel=0&tsel=0&tk=xxxx&q=that+it%27s+not+at+all+linear%2C+since+it+turns+that+line+all+curvy. \"HTTP/2 200 OK\"\n",
      "INFO:httpx:HTTP Request: GET https://translate.googleapis.com/translate_a/single?client=gtx&sl=auto&tl=hy&hl=hy&dt=at&dt=bd&dt=ex&dt=ld&dt=md&dt=qca&dt=rw&dt=rm&dt=ss&dt=t&ie=UTF-8&oe=UTF-8&otf=1&ssel=0&tsel=0&tk=xxxx&q=it+can+give+you+the+coordinates+of+where+that+vector+lands%3F \"HTTP/2 200 OK\"\n",
      "INFO:httpx:HTTP Request: GET https://translate.googleapis.com/translate_a/single?client=gtx&sl=auto&tl=hy&hl=hy&dt=at&dt=bd&dt=ex&dt=ld&dt=md&dt=qca&dt=rw&dt=rm&dt=ss&dt=t&ie=UTF-8&oe=UTF-8&otf=1&ssel=0&tsel=0&tk=xxxx&q=You+could+even+define+this+as+matrix+vector+multiplication%2C \"HTTP/2 200 OK\"\n",
      "INFO:httpx:HTTP Request: GET https://translate.googleapis.com/translate_a/single?client=gtx&sl=auto&tl=hy&hl=hy&dt=at&dt=bd&dt=ex&dt=ld&dt=md&dt=qca&dt=rw&dt=rm&dt=ss&dt=t&ie=UTF-8&oe=UTF-8&otf=1&ssel=0&tsel=0&tk=xxxx&q=And+remember%2C+this+matrix+is+just+a+way+of+packaging+the \"HTTP/2 200 OK\"\n",
      "INFO:httpx:HTTP Request: GET https://translate.googleapis.com/translate_a/single?client=gtx&sl=auto&tl=hy&hl=hy&dt=at&dt=bd&dt=ex&dt=ld&dt=md&dt=qca&dt=rw&dt=rm&dt=ss&dt=t&ie=UTF-8&oe=UTF-8&otf=1&ssel=0&tsel=0&tk=xxxx&q=information+needed+to+describe+a+linear+transformation. \"HTTP/2 200 OK\"\n",
      "INFO:httpx:HTTP Request: GET https://translate.googleapis.com/translate_a/single?client=gtx&sl=auto&tl=hy&hl=hy&dt=at&dt=bd&dt=ex&dt=ld&dt=md&dt=qca&dt=rw&dt=rm&dt=ss&dt=t&ie=UTF-8&oe=UTF-8&otf=1&ssel=0&tsel=0&tk=xxxx&q=where+i-hat+landed+plus+2+times+the+vector+where+j-hat+landed. \"HTTP/2 200 OK\"\n",
      "INFO:httpx:HTTP Request: GET https://translate.googleapis.com/translate_a/single?client=gtx&sl=auto&tl=hy&hl=hy&dt=at&dt=bd&dt=ex&dt=ld&dt=md&dt=qca&dt=rw&dt=rm&dt=ss&dt=t&ie=UTF-8&oe=UTF-8&otf=1&ssel=0&tsel=0&tk=xxxx&q=In+other+words%2C+it+started+off+as+a+certain+linear+combination+of+i-hat+and+j-hat%2C \"HTTP/2 200 OK\"\n",
      "INFO:httpx:HTTP Request: GET https://translate.googleapis.com/translate_a/single?client=gtx&sl=auto&tl=hy&hl=hy&dt=at&dt=bd&dt=ex&dt=ld&dt=md&dt=qca&dt=rw&dt=rm&dt=ss&dt=t&ie=UTF-8&oe=UTF-8&otf=1&ssel=0&tsel=0&tk=xxxx&q=when+you+put+the+matrix+on+the+left+of+the+vector+like+it%27s+a+function. \"HTTP/2 200 OK\"\n",
      "INFO:httpx:HTTP Request: GET https://translate.googleapis.com/translate_a/single?client=gtx&sl=auto&tl=hy&hl=hy&dt=at&dt=bd&dt=ex&dt=ld&dt=md&dt=qca&dt=rw&dt=rm&dt=ss&dt=t&ie=UTF-8&oe=UTF-8&otf=1&ssel=0&tsel=0&tk=xxxx&q=and+it+ends+up+as+that+same+linear+combination+of+where+those+two+vectors+landed. \"HTTP/2 200 OK\"\n",
      "INFO:httpx:HTTP Request: GET https://translate.googleapis.com/translate_a/single?client=gtx&sl=auto&tl=hy&hl=hy&dt=at&dt=bd&dt=ex&dt=ld&dt=md&dt=qca&dt=rw&dt=rm&dt=ss&dt=t&ie=UTF-8&oe=UTF-8&otf=1&ssel=0&tsel=0&tk=xxxx&q=Adding+that+all+together%2C+you+can+deduce+that+it+has+to+land+on+the+vector+5%2C+2. \"HTTP/2 200 OK\"\n",
      "INFO:httpx:HTTP Request: GET https://translate.googleapis.com/translate_a/single?client=gtx&sl=auto&tl=hy&hl=hy&dt=at&dt=bd&dt=ex&dt=ld&dt=md&dt=qca&dt=rw&dt=rm&dt=ss&dt=t&ie=UTF-8&oe=UTF-8&otf=1&ssel=0&tsel=0&tk=xxxx&q=Then%2C+you+could+make+high+schoolers+memorize+this+without \"HTTP/2 200 OK\"\n",
      "INFO:httpx:HTTP Request: GET https://translate.googleapis.com/translate_a/single?client=gtx&sl=auto&tl=hy&hl=hy&dt=at&dt=bd&dt=ex&dt=ld&dt=md&dt=qca&dt=rw&dt=rm&dt=ss&dt=t&ie=UTF-8&oe=UTF-8&otf=1&ssel=0&tsel=0&tk=xxxx&q=Always+remember+to+interpret+that+first+column%2C+AC%2C \"HTTP/2 200 OK\"\n",
      "INFO:httpx:HTTP Request: GET https://translate.googleapis.com/translate_a/single?client=gtx&sl=auto&tl=hy&hl=hy&dt=at&dt=bd&dt=ex&dt=ld&dt=md&dt=qca&dt=rw&dt=rm&dt=ss&dt=t&ie=UTF-8&oe=UTF-8&otf=1&ssel=0&tsel=0&tk=xxxx&q=you+could+have+just+looked+to+see+that+v+has+the+coordinates+5%2C+2. \"HTTP/2 200 OK\"\n",
      "INFO:httpx:HTTP Request: GET https://translate.googleapis.com/translate_a/single?client=gtx&sl=auto&tl=hy&hl=hy&dt=at&dt=bd&dt=ex&dt=ld&dt=md&dt=qca&dt=rw&dt=rm&dt=ss&dt=t&ie=UTF-8&oe=UTF-8&otf=1&ssel=0&tsel=0&tk=xxxx&q=where+any+vectors+land+so+long+as+we+have+a+record+of+where+i-hat \"HTTP/2 200 OK\"\n",
      "INFO:httpx:HTTP Request: GET https://translate.googleapis.com/translate_a/single?client=gtx&sl=auto&tl=hy&hl=hy&dt=at&dt=bd&dt=ex&dt=ld&dt=md&dt=qca&dt=rw&dt=rm&dt=ss&dt=t&ie=UTF-8&oe=UTF-8&otf=1&ssel=0&tsel=0&tk=xxxx&q=and+it+will+land+on+x+times+the+vector+where+i-hat+lands%2C+1%2C+negative+2%2C \"HTTP/2 200 OK\"\n",
      "INFO:httpx:HTTP Request: GET https://translate.googleapis.com/translate_a/single?client=gtx&sl=auto&tl=hy&hl=hy&dt=at&dt=bd&dt=ex&dt=ld&dt=md&dt=qca&dt=rw&dt=rm&dt=ss&dt=t&ie=UTF-8&oe=UTF-8&otf=1&ssel=0&tsel=0&tk=xxxx&q=Carrying+out+that+sum%2C+you+see+that+it+lands+at+1x+plus+3y%2C+negative+2x+plus+0y. \"HTTP/2 200 OK\"\n",
      "INFO:httpx:HTTP Request: GET https://translate.googleapis.com/translate_a/single?client=gtx&sl=auto&tl=hy&hl=hy&dt=at&dt=bd&dt=ex&dt=ld&dt=md&dt=qca&dt=rw&dt=rm&dt=ss&dt=t&ie=UTF-8&oe=UTF-8&otf=1&ssel=0&tsel=0&tk=xxxx&q=What+all+of+this+is+saying+is+that+a+two-dimensional+linear+transformation \"HTTP/2 200 OK\"\n",
      "INFO:httpx:HTTP Request: GET https://translate.googleapis.com/translate_a/single?client=gtx&sl=auto&tl=hy&hl=hy&dt=at&dt=bd&dt=ex&dt=ld&dt=md&dt=qca&dt=rw&dt=rm&dt=ss&dt=t&ie=UTF-8&oe=UTF-8&otf=1&ssel=0&tsel=0&tk=xxxx&q=is+completely+described+by+just+four+numbers%2C+the+two+coordinates+for \"HTTP/2 200 OK\"\n",
      "INFO:httpx:HTTP Request: GET https://translate.googleapis.com/translate_a/single?client=gtx&sl=auto&tl=hy&hl=hy&dt=at&dt=bd&dt=ex&dt=ld&dt=md&dt=qca&dt=rw&dt=rm&dt=ss&dt=t&ie=UTF-8&oe=UTF-8&otf=1&ssel=0&tsel=0&tk=xxxx&q=But%2C+isn%27t+it+more+fun+to+think+about+these+columns+as+the \"HTTP/2 200 OK\"\n",
      "INFO:httpx:HTTP Request: GET https://translate.googleapis.com/translate_a/single?client=gtx&sl=auto&tl=hy&hl=hy&dt=at&dt=bd&dt=ex&dt=ld&dt=md&dt=qca&dt=rw&dt=rm&dt=ss&dt=t&ie=UTF-8&oe=UTF-8&otf=1&ssel=0&tsel=0&tk=xxxx&q=where+i-hat+and+j-hat+each+land. \"HTTP/2 200 OK\"\n",
      "INFO:httpx:HTTP Request: GET https://translate.googleapis.com/translate_a/single?client=gtx&sl=auto&tl=hy&hl=hy&dt=at&dt=bd&dt=ex&dt=ld&dt=md&dt=qca&dt=rw&dt=rm&dt=ss&dt=t&ie=UTF-8&oe=UTF-8&otf=1&ssel=0&tsel=0&tk=xxxx&q=transformed+versions+of+your+basis+vectors%2C+and+to+think+about \"HTTP/2 200 OK\"\n",
      "INFO:httpx:HTTP Request: GET https://translate.googleapis.com/translate_a/single?client=gtx&sl=auto&tl=hy&hl=hy&dt=at&dt=bd&dt=ex&dt=ld&dt=md&dt=qca&dt=rw&dt=rm&dt=ss&dt=t&ie=UTF-8&oe=UTF-8&otf=1&ssel=0&tsel=0&tk=xxxx&q=each+one+as+an+arrow. \"HTTP/2 200 OK\"\n",
      "INFO:httpx:HTTP Request: GET https://translate.googleapis.com/translate_a/single?client=gtx&sl=auto&tl=hy&hl=hy&dt=at&dt=bd&dt=ex&dt=ld&dt=md&dt=qca&dt=rw&dt=rm&dt=ss&dt=t&ie=UTF-8&oe=UTF-8&otf=1&ssel=0&tsel=0&tk=xxxx&q=So+as+I+mentioned+last+video%2C+a+nice+trick+is+to+conceptualize+each+vector \"HTTP/2 200 OK\"\n",
      "INFO:httpx:HTTP Request: GET https://translate.googleapis.com/translate_a/single?client=gtx&sl=auto&tl=hy&hl=hy&dt=at&dt=bd&dt=ex&dt=ld&dt=md&dt=qca&dt=rw&dt=rm&dt=ss&dt=t&ie=UTF-8&oe=UTF-8&otf=1&ssel=0&tsel=0&tk=xxxx&q=In+the+case+of+transformations+in+two+dimensions%2C \"HTTP/2 200 OK\"\n",
      "INFO:httpx:HTTP Request: GET https://translate.googleapis.com/translate_a/single?client=gtx&sl=auto&tl=hy&hl=hy&dt=at&dt=bd&dt=ex&dt=ld&dt=md&dt=qca&dt=rw&dt=rm&dt=ss&dt=t&ie=UTF-8&oe=UTF-8&otf=1&ssel=0&tsel=0&tk=xxxx&q=just+to+help+keep+track+of+where+everything+ends+up+relative+to+where+it+starts. \"HTTP/2 200 OK\"\n",
      "INFO:httpx:HTTP Request: GET https://translate.googleapis.com/translate_a/single?client=gtx&sl=auto&tl=hy&hl=hy&dt=at&dt=bd&dt=ex&dt=ld&dt=md&dt=qca&dt=rw&dt=rm&dt=ss&dt=t&ie=UTF-8&oe=UTF-8&otf=1&ssel=0&tsel=0&tk=xxxx&q=you%27ve+got+to+admit%2C+beautiful. \"HTTP/2 200 OK\"\n",
      "INFO:httpx:HTTP Request: GET https://translate.googleapis.com/translate_a/single?client=gtx&sl=auto&tl=hy&hl=hy&dt=at&dt=bd&dt=ex&dt=ld&dt=md&dt=qca&dt=rw&dt=rm&dt=ss&dt=t&ie=UTF-8&oe=UTF-8&otf=1&ssel=0&tsel=0&tk=xxxx&q=where+your+matrix+has+entries+A%2C+B%2C+C%2C+D. \"HTTP/2 200 OK\"\n",
      "INFO:httpx:HTTP Request: GET https://translate.googleapis.com/translate_a/single?client=gtx&sl=auto&tl=hy&hl=hy&dt=at&dt=bd&dt=ex&dt=ld&dt=md&dt=qca&dt=rw&dt=rm&dt=ss&dt=t&ie=UTF-8&oe=UTF-8&otf=1&ssel=0&tsel=0&tk=xxxx&q=since+the+lines+get+all+curvy. \"HTTP/2 200 OK\"\n",
      "INFO:httpx:HTTP Request: GET https://translate.googleapis.com/translate_a/single?client=gtx&sl=auto&tl=hy&hl=hy&dt=at&dt=bd&dt=ex&dt=ld&dt=md&dt=qca&dt=rw&dt=rm&dt=ss&dt=t&ie=UTF-8&oe=UTF-8&otf=1&ssel=0&tsel=0&tk=xxxx&q=And+this+one+right+here%2C+although+it+keeps+the+lines+straight%2C \"HTTP/2 200 OK\"\n",
      "INFO:httpx:HTTP Request: GET https://translate.googleapis.com/translate_a/single?client=gtx&sl=auto&tl=hy&hl=hy&dt=at&dt=bd&dt=ex&dt=ld&dt=md&dt=qca&dt=rw&dt=rm&dt=ss&dt=t&ie=UTF-8&oe=UTF-8&otf=1&ssel=0&tsel=0&tk=xxxx&q=This+one+here+fixes+the+origin%2C+and+it+might+look+like+it+keeps+lines+straight%2C \"HTTP/2 200 OK\"\n",
      "INFO:httpx:HTTP Request: GET https://translate.googleapis.com/translate_a/single?client=gtx&sl=auto&tl=hy&hl=hy&dt=at&dt=bd&dt=ex&dt=ld&dt=md&dt=qca&dt=rw&dt=rm&dt=ss&dt=t&ie=UTF-8&oe=UTF-8&otf=1&ssel=0&tsel=0&tk=xxxx&q=In+general%2C+you+should+think+of+linear+transformations \"HTTP/2 200 OK\"\n",
      "INFO:httpx:HTTP Request: GET https://translate.googleapis.com/translate_a/single?client=gtx&sl=auto&tl=hy&hl=hy&dt=at&dt=bd&dt=ex&dt=ld&dt=md&dt=qca&dt=rw&dt=rm&dt=ss&dt=t&ie=UTF-8&oe=UTF-8&otf=1&ssel=0&tsel=0&tk=xxxx&q=as+keeping+grid+lines+parallel+and+evenly+spaced. \"HTTP/2 200 OK\"\n",
      "INFO:httpx:HTTP Request: GET https://translate.googleapis.com/translate_a/single?client=gtx&sl=auto&tl=hy&hl=hy&dt=at&dt=bd&dt=ex&dt=ld&dt=md&dt=qca&dt=rw&dt=rm&dt=ss&dt=t&ie=UTF-8&oe=UTF-8&otf=1&ssel=0&tsel=0&tk=xxxx&q=If+you+were%2C+say%2C+programming+some+animations+to+make+a+video+teaching+the+topic%2C \"HTTP/2 200 OK\"\n",
      "INFO:httpx:HTTP Request: GET https://translate.googleapis.com/translate_a/single?client=gtx&sl=auto&tl=hy&hl=hy&dt=at&dt=bd&dt=ex&dt=ld&dt=md&dt=qca&dt=rw&dt=rm&dt=ss&dt=t&ie=UTF-8&oe=UTF-8&otf=1&ssel=0&tsel=0&tk=xxxx&q=what+formula+do+you+give+the+computer+so+that+if+you+give+it+the+coordinates+of+a+vector%2C \"HTTP/2 200 OK\"\n",
      "INFO:httpx:HTTP Request: GET https://translate.googleapis.com/translate_a/single?client=gtx&sl=auto&tl=hy&hl=hy&dt=at&dt=bd&dt=ex&dt=ld&dt=md&dt=qca&dt=rw&dt=rm&dt=ss&dt=t&ie=UTF-8&oe=UTF-8&otf=1&ssel=0&tsel=0&tk=xxxx&q=i-hat+and+j-hat%2C+each+land%2C+and+everything+else+will+follow+from+that. \"HTTP/2 200 OK\"\n",
      "INFO:httpx:HTTP Request: GET https://translate.googleapis.com/translate_a/single?client=gtx&sl=auto&tl=hy&hl=hy&dt=at&dt=bd&dt=ex&dt=ld&dt=md&dt=qca&dt=rw&dt=rm&dt=ss&dt=t&ie=UTF-8&oe=UTF-8&otf=1&ssel=0&tsel=0&tk=xxxx&q=meaning+that+it+equals+negative+1+times+i-hat+plus+2+times+j-hat. \"HTTP/2 200 OK\"\n",
      "INFO:httpx:HTTP Request: GET https://translate.googleapis.com/translate_a/single?client=gtx&sl=auto&tl=hy&hl=hy&dt=at&dt=bd&dt=ex&dt=ld&dt=md&dt=qca&dt=rw&dt=rm&dt=ss&dt=t&ie=UTF-8&oe=UTF-8&otf=1&ssel=0&tsel=0&tk=xxxx&q=consequence. \"HTTP/2 200 OK\"\n",
      "INFO:httpx:HTTP Request: GET https://translate.googleapis.com/translate_a/single?client=gtx&sl=auto&tl=hy&hl=hy&dt=at&dt=bd&dt=ex&dt=ld&dt=md&dt=qca&dt=rw&dt=rm&dt=ss&dt=t&ie=UTF-8&oe=UTF-8&otf=1&ssel=0&tsel=0&tk=xxxx&q=The+place+where+v+lands+will+be+negative+1+times+the+vector \"HTTP/2 200 OK\"\n",
      "INFO:httpx:HTTP Request: GET https://translate.googleapis.com/translate_a/single?client=gtx&sl=auto&tl=hy&hl=hy&dt=at&dt=bd&dt=ex&dt=ld&dt=md&dt=qca&dt=rw&dt=rm&dt=ss&dt=t&ie=UTF-8&oe=UTF-8&otf=1&ssel=0&tsel=0&tk=xxxx&q=negative+2%2C+and+j-hat+lands+on+the+x-axis+over+at+the+coordinates+3%2C+0. \"HTTP/2 200 OK\"\n",
      "INFO:httpx:HTTP Request: GET https://translate.googleapis.com/translate_a/single?client=gtx&sl=auto&tl=hy&hl=hy&dt=at&dt=bd&dt=ex&dt=ld&dt=md&dt=qca&dt=rw&dt=rm&dt=ss&dt=t&ie=UTF-8&oe=UTF-8&otf=1&ssel=0&tsel=0&tk=xxxx&q=This+means+that+the+vector+represented+by+negative+1+i-hat+plus+2+times+j-hat \"HTTP/2 200 OK\"\n",
      "INFO:httpx:HTTP Request: GET https://translate.googleapis.com/translate_a/single?client=gtx&sl=auto&tl=hy&hl=hy&dt=at&dt=bd&dt=ex&dt=ld&dt=md&dt=qca&dt=rw&dt=rm&dt=ss&dt=t&ie=UTF-8&oe=UTF-8&otf=1&ssel=0&tsel=0&tk=xxxx&q=ends+up+at+negative+1+times+the+vector+1%2C+negative+2+plus+2+times+the+vector+3%2C+0. \"HTTP/2 200 OK\"\n",
      "INFO:httpx:HTTP Request: GET https://translate.googleapis.com/translate_a/single?client=gtx&sl=auto&tl=hy&hl=hy&dt=at&dt=bd&dt=ex&dt=ld&dt=md&dt=qca&dt=rw&dt=rm&dt=ss&dt=t&ie=UTF-8&oe=UTF-8&otf=1&ssel=0&tsel=0&tk=xxxx&q=Now%2C+given+that+I%27m+actually+showing+you+the+full+transformation%2C \"HTTP/2 200 OK\"\n",
      "INFO:httpx:HTTP Request: GET https://translate.googleapis.com/translate_a/single?client=gtx&sl=auto&tl=hy&hl=hy&dt=at&dt=bd&dt=ex&dt=ld&dt=md&dt=qca&dt=rw&dt=rm&dt=ss&dt=t&ie=UTF-8&oe=UTF-8&otf=1&ssel=0&tsel=0&tk=xxxx&q=Write+the+vector+with+more+general+coordinates%2C+x+and+y%2C \"HTTP/2 200 OK\"\n",
      "INFO:httpx:HTTP Request: GET https://translate.googleapis.com/translate_a/single?client=gtx&sl=auto&tl=hy&hl=hy&dt=at&dt=bd&dt=ex&dt=ld&dt=md&dt=qca&dt=rw&dt=rm&dt=ss&dt=t&ie=UTF-8&oe=UTF-8&otf=1&ssel=0&tsel=0&tk=xxxx&q=plus+y+times+the+vector+where+j-hat+lands%2C+3%2C+0. \"HTTP/2 200 OK\"\n",
      "INFO:httpx:HTTP Request: GET https://translate.googleapis.com/translate_a/single?client=gtx&sl=auto&tl=hy&hl=hy&dt=at&dt=bd&dt=ex&dt=ld&dt=md&dt=qca&dt=rw&dt=rm&dt=ss&dt=t&ie=UTF-8&oe=UTF-8&otf=1&ssel=0&tsel=0&tk=xxxx&q=where+i-hat+lands+and+the+two+coordinates+for+where+j-hat+lands. \"HTTP/2 200 OK\"\n",
      "INFO:httpx:HTTP Request: GET https://translate.googleapis.com/translate_a/single?client=gtx&sl=auto&tl=hy&hl=hy&dt=at&dt=bd&dt=ex&dt=ld&dt=md&dt=qca&dt=rw&dt=rm&dt=ss&dt=t&ie=UTF-8&oe=UTF-8&otf=1&ssel=0&tsel=0&tk=xxxx&q=It%27s+common+to+package+these+coordinates+into+a+2x2+grid+of+numbers+called+a+2x2+matrix%2C \"HTTP/2 200 OK\"\n",
      "INFO:httpx:HTTP Request: GET https://translate.googleapis.com/translate_a/single?client=gtx&sl=auto&tl=hy&hl=hy&dt=at&dt=bd&dt=ex&dt=ld&dt=md&dt=qca&dt=rw&dt=rm&dt=ss&dt=t&ie=UTF-8&oe=UTF-8&otf=1&ssel=0&tsel=0&tk=xxxx&q=where+you+can+interpret+the+columns+as+the+two+special+vectors \"HTTP/2 200 OK\"\n",
      "INFO:httpx:HTTP Request: GET https://translate.googleapis.com/translate_a/single?client=gtx&sl=auto&tl=hy&hl=hy&dt=at&dt=bd&dt=ex&dt=ld&dt=md&dt=qca&dt=rw&dt=rm&dt=ss&dt=t&ie=UTF-8&oe=UTF-8&otf=1&ssel=0&tsel=0&tk=xxxx&q=It+gets+really+crowded+to+think+about+all+of+the+vectors+all+at+once%2C \"HTTP/2 200 OK\"\n",
      "INFO:httpx:HTTP Request: GET https://translate.googleapis.com/translate_a/single?client=gtx&sl=auto&tl=hy&hl=hy&dt=at&dt=bd&dt=ex&dt=ld&dt=md&dt=qca&dt=rw&dt=rm&dt=ss&dt=t&ie=UTF-8&oe=UTF-8&otf=1&ssel=0&tsel=0&tk=xxxx&q=to+some+output+vector%2C+we+watch+every+point+in+space+moving+to+some+other+point. \"HTTP/2 200 OK\"\n",
      "INFO:httpx:HTTP Request: GET https://translate.googleapis.com/translate_a/single?client=gtx&sl=auto&tl=hy&hl=hy&dt=at&dt=bd&dt=ex&dt=ld&dt=md&dt=qca&dt=rw&dt=rm&dt=ss&dt=t&ie=UTF-8&oe=UTF-8&otf=1&ssel=0&tsel=0&tk=xxxx&q=to+get+a+better+feel+for+the+whole+shape+of+the+transformation%2C \"HTTP/2 200 OK\"\n",
      "INFO:httpx:HTTP Request: GET https://translate.googleapis.com/translate_a/single?client=gtx&sl=auto&tl=hy&hl=hy&dt=at&dt=bd&dt=ex&dt=ld&dt=md&dt=qca&dt=rw&dt=rm&dt=ss&dt=t&ie=UTF-8&oe=UTF-8&otf=1&ssel=0&tsel=0&tk=xxxx&q=But+luckily%2C+linear+algebra+limits+itself+to+a+special+type+of+transformation%2C \"HTTP/2 200 OK\"\n",
      "INFO:httpx:HTTP Request: GET https://translate.googleapis.com/translate_a/single?client=gtx&sl=auto&tl=hy&hl=hy&dt=at&dt=bd&dt=ex&dt=ld&dt=md&dt=qca&dt=rw&dt=rm&dt=ss&dt=t&ie=UTF-8&oe=UTF-8&otf=1&ssel=0&tsel=0&tk=xxxx&q=ones+that+are+easier+to+understand%2C+called+linear+transformations. \"HTTP/2 200 OK\"\n",
      "INFO:httpx:HTTP Request: GET https://translate.googleapis.com/translate_a/single?client=gtx&sl=auto&tl=hy&hl=hy&dt=at&dt=bd&dt=ex&dt=ld&dt=md&dt=qca&dt=rw&dt=rm&dt=ss&dt=t&ie=UTF-8&oe=UTF-8&otf=1&ssel=0&tsel=0&tk=xxxx&q=In+it%2C+i-hat+remains+fixed%2C+so+the+first+column+of+the+matrix+is+1%2C+0. \"HTTP/2 200 OK\"\n",
      "INFO:httpx:HTTP Request: GET https://translate.googleapis.com/translate_a/single?client=gtx&sl=auto&tl=hy&hl=hy&dt=at&dt=bd&dt=ex&dt=ld&dt=md&dt=qca&dt=rw&dt=rm&dt=ss&dt=t&ie=UTF-8&oe=UTF-8&otf=1&ssel=0&tsel=0&tk=xxxx&q=Always+moving+the+rest+of+space+in+such+a+way \"HTTP/2 200 OK\"\n",
      "INFO:httpx:HTTP Request: GET https://translate.googleapis.com/translate_a/single?client=gtx&sl=auto&tl=hy&hl=hy&dt=at&dt=bd&dt=ex&dt=ld&dt=md&dt=qca&dt=rw&dt=rm&dt=ss&dt=t&ie=UTF-8&oe=UTF-8&otf=1&ssel=0&tsel=0&tk=xxxx&q=those+two+vectors+sit%2C+also+known+as+the+one-dimensional+span+of+those+two+linearly \"HTTP/2 200 OK\"\n",
      "INFO:httpx:HTTP Request: GET https://translate.googleapis.com/translate_a/single?client=gtx&sl=auto&tl=hy&hl=hy&dt=at&dt=bd&dt=ex&dt=ld&dt=md&dt=qca&dt=rw&dt=rm&dt=ss&dt=t&ie=UTF-8&oe=UTF-8&otf=1&ssel=0&tsel=0&tk=xxxx&q=dependent+vectors. \"HTTP/2 200 OK\"\n",
      "INFO:httpx:HTTP Request: GET https://translate.googleapis.com/translate_a/single?client=gtx&sl=auto&tl=hy&hl=hy&dt=at&dt=bd&dt=ex&dt=ld&dt=md&dt=qca&dt=rw&dt=rm&dt=ss&dt=t&ie=UTF-8&oe=UTF-8&otf=1&ssel=0&tsel=0&tk=xxxx&q=To+sum+up%2C+linear+transformations+are+a+way+to+move+around+space+such+that \"HTTP/2 200 OK\"\n",
      "INFO:httpx:HTTP Request: GET https://translate.googleapis.com/translate_a/single?client=gtx&sl=auto&tl=hy&hl=hy&dt=at&dt=bd&dt=ex&dt=ld&dt=md&dt=qca&dt=rw&dt=rm&dt=ss&dt=t&ie=UTF-8&oe=UTF-8&otf=1&ssel=0&tsel=0&tk=xxxx&q=Delightfully%2C+these+transformations+can+be+described+using+only+a+handful+of+numbers%2C \"HTTP/2 200 OK\"\n",
      "INFO:httpx:HTTP Request: GET https://translate.googleapis.com/translate_a/single?client=gtx&sl=auto&tl=hy&hl=hy&dt=at&dt=bd&dt=ex&dt=ld&dt=md&dt=qca&dt=rw&dt=rm&dt=ss&dt=t&ie=UTF-8&oe=UTF-8&otf=1&ssel=0&tsel=0&tk=xxxx&q=Matrices+give+us+a+language+to+describe+these+transformations%2C \"HTTP/2 200 OK\"\n",
      "INFO:httpx:HTTP Request: GET https://translate.googleapis.com/translate_a/single?client=gtx&sl=auto&tl=hy&hl=hy&dt=at&dt=bd&dt=ex&dt=ld&dt=md&dt=qca&dt=rw&dt=rm&dt=ss&dt=t&ie=UTF-8&oe=UTF-8&otf=1&ssel=0&tsel=0&tk=xxxx&q=where+the+columns+represent+those+coordinates%2C \"HTTP/2 200 OK\"\n",
      "INFO:httpx:HTTP Request: GET https://translate.googleapis.com/translate_a/single?client=gtx&sl=auto&tl=hy&hl=hy&dt=at&dt=bd&dt=ex&dt=ld&dt=md&dt=qca&dt=rw&dt=rm&dt=ss&dt=t&ie=UTF-8&oe=UTF-8&otf=1&ssel=0&tsel=0&tk=xxxx&q=Once+you+really+digest+this+idea%2C+you%27re+in+a \"HTTP/2 200 OK\"\n",
      "INFO:httpx:HTTP Request: GET https://translate.googleapis.com/translate_a/single?client=gtx&sl=auto&tl=hy&hl=hy&dt=at&dt=bd&dt=ex&dt=ld&dt=md&dt=qca&dt=rw&dt=rm&dt=ss&dt=t&ie=UTF-8&oe=UTF-8&otf=1&ssel=0&tsel=0&tk=xxxx&q=columns+of+the+matrix%2C+then+add+together+what+you+get. \"HTTP/2 200 OK\"\n",
      "INFO:httpx:HTTP Request: GET https://translate.googleapis.com/translate_a/single?client=gtx&sl=auto&tl=hy&hl=hy&dt=at&dt=bd&dt=ex&dt=ld&dt=md&dt=qca&dt=rw&dt=rm&dt=ss&dt=t&ie=UTF-8&oe=UTF-8&otf=1&ssel=0&tsel=0&tk=xxxx&q=you+could+just+multiply+its+coordinates+by+this+matrix. \"HTTP/2 200 OK\"\n",
      "INFO:httpx:HTTP Request: GET https://translate.googleapis.com/translate_a/single?client=gtx&sl=auto&tl=hy&hl=hy&dt=at&dt=bd&dt=ex&dt=ld&dt=md&dt=qca&dt=rw&dt=rm&dt=ss&dt=t&ie=UTF-8&oe=UTF-8&otf=1&ssel=0&tsel=0&tk=xxxx&q=which+become+the+second+column+of+the+matrix. \"HTTP/2 200 OK\"\n",
      "INFO:httpx:HTTP Request: GET https://translate.googleapis.com/translate_a/single?client=gtx&sl=auto&tl=hy&hl=hy&dt=at&dt=bd&dt=ex&dt=ld&dt=md&dt=qca&dt=rw&dt=rm&dt=ss&dt=t&ie=UTF-8&oe=UTF-8&otf=1&ssel=0&tsel=0&tk=xxxx&q=And+at+the+risk+of+being+redundant+here%2C+figuring+out+how+a+shear+transforms \"HTTP/2 200 OK\"\n",
      "INFO:httpx:HTTP Request: GET https://translate.googleapis.com/translate_a/single?client=gtx&sl=auto&tl=hy&hl=hy&dt=at&dt=bd&dt=ex&dt=ld&dt=md&dt=qca&dt=rw&dt=rm&dt=ss&dt=t&ie=UTF-8&oe=UTF-8&otf=1&ssel=0&tsel=0&tk=xxxx&q=say+with+columns+1%2C+2+and+3%2C+1%2C+and+we+want+to+deduce+what+its+transformation+looks+like. \"HTTP/2 200 OK\"\n",
      "INFO:httpx:HTTP Request: GET https://translate.googleapis.com/translate_a/single?client=gtx&sl=auto&tl=hy&hl=hy&dt=at&dt=bd&dt=ex&dt=ld&dt=md&dt=qca&dt=rw&dt=rm&dt=ss&dt=t&ie=UTF-8&oe=UTF-8&otf=1&ssel=0&tsel=0&tk=xxxx&q=One+way+to+do+this+is+to+first+move+i-hat+to+1%2C+2%2C+then+move+j-hat+to+3%2C+1. \"HTTP/2 200 OK\"\n",
      "INFO:httpx:HTTP Request: GET https://translate.googleapis.com/translate_a/single?client=gtx&sl=auto&tl=hy&hl=hy&dt=at&dt=bd&dt=ex&dt=ld&dt=md&dt=qca&dt=rw&dt=rm&dt=ss&dt=t&ie=UTF-8&oe=UTF-8&otf=1&ssel=0&tsel=0&tk=xxxx&q=If+the+vectors+that+i-hat+and+j-hat+land+on+are+linearly+dependent%2C+which%2C \"HTTP/2 200 OK\"\n",
      "INFO:httpx:HTTP Request: GET https://translate.googleapis.com/translate_a/single?client=gtx&sl=auto&tl=hy&hl=hy&dt=at&dt=bd&dt=ex&dt=ld&dt=md&dt=qca&dt=rw&dt=rm&dt=ss&dt=t&ie=UTF-8&oe=UTF-8&otf=1&ssel=0&tsel=0&tk=xxxx&q=if+you+recall+from+last+video%2C+means+that+one+is+a+scaled+version+of+the+other%2C \"HTTP/2 200 OK\"\n",
      "INFO:httpx:HTTP Request: GET https://translate.googleapis.com/translate_a/single?client=gtx&sl=auto&tl=hy&hl=hy&dt=at&dt=bd&dt=ex&dt=ld&dt=md&dt=qca&dt=rw&dt=rm&dt=ss&dt=t&ie=UTF-8&oe=UTF-8&otf=1&ssel=0&tsel=0&tk=xxxx&q=and+matrix-vector+multiplication+is+just+a+way+to+compute+what+that \"HTTP/2 200 OK\"\n",
      "INFO:httpx:HTTP Request: GET https://translate.googleapis.com/translate_a/single?client=gtx&sl=auto&tl=hy&hl=hy&dt=at&dt=bd&dt=ex&dt=ld&dt=md&dt=qca&dt=rw&dt=rm&dt=ss&dt=t&ie=UTF-8&oe=UTF-8&otf=1&ssel=0&tsel=0&tk=xxxx&q=transformation+does+to+a+given+vector. \"HTTP/2 200 OK\"\n",
      "INFO:httpx:HTTP Request: GET https://translate.googleapis.com/translate_a/single?client=gtx&sl=auto&tl=hy&hl=hy&dt=at&dt=bd&dt=ex&dt=ld&dt=md&dt=qca&dt=rw&dt=rm&dt=ss&dt=t&ie=UTF-8&oe=UTF-8&otf=1&ssel=0&tsel=0&tk=xxxx&q=you+can+interpret+it+as+a+certain+transformation+of+space. \"HTTP/2 200 OK\"\n",
      "INFO:httpx:HTTP Request: GET https://translate.googleapis.com/translate_a/single?client=gtx&sl=auto&tl=hy&hl=hy&dt=at&dt=bd&dt=ex&dt=ld&dt=md&dt=qca&dt=rw&dt=rm&dt=ss&dt=t&ie=UTF-8&oe=UTF-8&otf=1&ssel=0&tsel=0&tk=xxxx&q=And+j-hat+lands+on+the+coordinates+negative+1%2C+0. \"HTTP/2 200 OK\"\n",
      "INFO:httpx:HTTP Request: GET https://translate.googleapis.com/translate_a/single?client=gtx&sl=auto&tl=hy&hl=hy&dt=at&dt=bd&dt=ex&dt=ld&dt=md&dt=qca&dt=rw&dt=rm&dt=ss&dt=t&ie=UTF-8&oe=UTF-8&otf=1&ssel=0&tsel=0&tk=xxxx&q=To+figure+out+what+happens+to+any+vector+after+a+90-degree+rotation%2C \"HTTP/2 200 OK\"\n",
      "INFO:httpx:HTTP Request: GET https://translate.googleapis.com/translate_a/single?client=gtx&sl=auto&tl=hy&hl=hy&dt=at&dt=bd&dt=ex&dt=ld&dt=md&dt=qca&dt=rw&dt=rm&dt=ss&dt=t&ie=UTF-8&oe=UTF-8&otf=1&ssel=0&tsel=0&tk=xxxx&q=But+j-hat+moves+over+to+the+coordinates+1%2C+1%2C \"HTTP/2 200 OK\"\n",
      "INFO:httpx:HTTP Request: GET https://translate.googleapis.com/translate_a/single?client=gtx&sl=auto&tl=hy&hl=hy&dt=at&dt=bd&dt=ex&dt=ld&dt=md&dt=qca&dt=rw&dt=rm&dt=ss&dt=t&ie=UTF-8&oe=UTF-8&otf=1&ssel=0&tsel=0&tk=xxxx&q=a+given+vector+comes+down+to+multiplying+this+matrix+by+that+vector. \"HTTP/2 200 OK\"\n",
      "INFO:httpx:HTTP Request: GET https://translate.googleapis.com/translate_a/single?client=gtx&sl=auto&tl=hy&hl=hy&dt=at&dt=bd&dt=ex&dt=ld&dt=md&dt=qca&dt=rw&dt=rm&dt=ss&dt=t&ie=UTF-8&oe=UTF-8&otf=1&ssel=0&tsel=0&tk=xxxx&q=Let%27s+say+we+want+to+go+the+other+way+around%2C+starting+with+a+matrix%2C \"HTTP/2 200 OK\"\n",
      "INFO:httpx:HTTP Request: GET https://translate.googleapis.com/translate_a/single?client=gtx&sl=auto&tl=hy&hl=hy&dt=at&dt=bd&dt=ex&dt=ld&dt=md&dt=qca&dt=rw&dt=rm&dt=ss&dt=t&ie=UTF-8&oe=UTF-8&otf=1&ssel=0&tsel=0&tk=xxxx&q=it+means+that+the+linear+transformation+squishes+all+of+2D+space+onto+the+line+where \"HTTP/2 200 OK\"\n",
      "INFO:httpx:HTTP Request: GET https://translate.googleapis.com/translate_a/single?client=gtx&sl=auto&tl=hy&hl=hy&dt=at&dt=bd&dt=ex&dt=ld&dt=md&dt=qca&dt=rw&dt=rm&dt=ss&dt=t&ie=UTF-8&oe=UTF-8&otf=1&ssel=0&tsel=0&tk=xxxx&q=gridlines+remain+parallel+and+evenly+spaced%2C+and+such+that+the+origin+remains+fixed. \"HTTP/2 200 OK\"\n",
      "INFO:httpx:HTTP Request: GET https://translate.googleapis.com/translate_a/single?client=gtx&sl=auto&tl=hy&hl=hy&dt=at&dt=bd&dt=ex&dt=ld&dt=md&dt=qca&dt=rw&dt=rm&dt=ss&dt=t&ie=UTF-8&oe=UTF-8&otf=1&ssel=0&tsel=0&tk=xxxx&q=the+coordinates+of+where+each+basis+vector+lands. \"HTTP/2 200 OK\"\n",
      "INFO:httpx:HTTP Request: GET https://translate.googleapis.com/translate_a/single?client=gtx&sl=auto&tl=hy&hl=hy&dt=at&dt=bd&dt=ex&dt=ld&dt=md&dt=qca&dt=rw&dt=rm&dt=ss&dt=t&ie=UTF-8&oe=UTF-8&otf=1&ssel=0&tsel=0&tk=xxxx&q=The+important+takeaway+here+is+that+every+time+you+see+a+matrix%2C \"HTTP/2 200 OK\"\n",
      "INFO:httpx:HTTP Request: GET https://translate.googleapis.com/translate_a/single?client=gtx&sl=auto&tl=hy&hl=hy&dt=at&dt=bd&dt=ex&dt=ld&dt=md&dt=qca&dt=rw&dt=rm&dt=ss&dt=t&ie=UTF-8&oe=UTF-8&otf=1&ssel=0&tsel=0&tk=xxxx&q=great+position+to+understand+linear+algebra+deeply. \"HTTP/2 200 OK\"\n",
      "INFO:httpx:HTTP Request: GET https://translate.googleapis.com/translate_a/single?client=gtx&sl=auto&tl=hy&hl=hy&dt=at&dt=bd&dt=ex&dt=ld&dt=md&dt=qca&dt=rw&dt=rm&dt=ss&dt=t&ie=UTF-8&oe=UTF-8&otf=1&ssel=0&tsel=0&tk=xxxx&q=then+i-hat+lands+on+the+coordinates+0%2C+1. \"HTTP/2 200 OK\"\n",
      "INFO:httpx:HTTP Request: GET https://translate.googleapis.com/translate_a/single?client=gtx&sl=auto&tl=hy&hl=hy&dt=at&dt=bd&dt=ex&dt=ld&dt=md&dt=qca&dt=rw&dt=rm&dt=ss&dt=t&ie=UTF-8&oe=UTF-8&otf=1&ssel=0&tsel=0&tk=xxxx&q=that+keeps+gridlines+parallel+and+evenly+spaced. \"HTTP/2 200 OK\"\n",
      "INFO:httpx:HTTP Request: GET https://translate.googleapis.com/translate_a/single?client=gtx&sl=auto&tl=hy&hl=hy&dt=at&dt=bd&dt=ex&dt=ld&dt=md&dt=qca&dt=rw&dt=rm&dt=ss&dt=t&ie=UTF-8&oe=UTF-8&otf=1&ssel=0&tsel=0&tk=xxxx&q=So+the+matrix+we+end+up+with+has+columns+0%2C+1%2C+negative+1%2C+0. \"HTTP/2 200 OK\"\n",
      "INFO:httpx:HTTP Request: GET https://translate.googleapis.com/translate_a/single?client=gtx&sl=auto&tl=hy&hl=hy&dt=at&dt=bd&dt=ex&dt=ld&dt=md&dt=qca&dt=rw&dt=rm&dt=ss&dt=t&ie=UTF-8&oe=UTF-8&otf=1&ssel=0&tsel=0&tk=xxxx&q=once+you+start+thinking+about+matrices+as+transformations+of+space. \"HTTP/2 200 OK\"\n",
      "INFO:httpx:HTTP Request: GET https://translate.googleapis.com/translate_a/single?client=gtx&sl=auto&tl=hy&hl=hy&dt=at&dt=bd&dt=ex&dt=ld&dt=md&dt=qca&dt=rw&dt=rm&dt=ss&dt=t&ie=UTF-8&oe=UTF-8&otf=1&ssel=0&tsel=0&tk=xxxx&q=Almost+all+of+the+topics+coming+up%2C+from+matrix+multiplication+to+determinants%2C \"HTTP/2 200 OK\"\n",
      "INFO:httpx:HTTP Request: GET https://translate.googleapis.com/translate_a/single?client=gtx&sl=auto&tl=hy&hl=hy&dt=at&dt=bd&dt=ex&dt=ld&dt=md&dt=qca&dt=rw&dt=rm&dt=ss&dt=t&ie=UTF-8&oe=UTF-8&otf=1&ssel=0&tsel=0&tk=xxxx&q=change+of+basis%2C+eigenvalues%2C+all+of+these+will+become+easier+to+understand \"HTTP/2 200 OK\"\n",
      "INFO:httpx:HTTP Request: GET https://translate.googleapis.com/translate_a/single?client=gtx&sl=auto&tl=hy&hl=hy&dt=at&dt=bd&dt=ex&dt=ld&dt=md&dt=qca&dt=rw&dt=rm&dt=ss&dt=t&ie=UTF-8&oe=UTF-8&otf=1&ssel=0&tsel=0&tk=xxxx&q=Most+immediately%2C+in+the+next+video%2C+I%27ll+be+talking+about \"HTTP/2 200 OK\"\n",
      "INFO:__main__:Google DataFrame translation completed and saved to CSV.\n",
      "INFO:__main__:Claude Text\n",
      "INFO:httpx:HTTP Request: POST https://api.anthropic.com/v1/messages \"HTTP/1.1 200 OK\"\n",
      "INFO:__main__:Claude translation completed. Input tokens: 54 | Output tokens: 83\n",
      "INFO:__main__:Claude DataFrame\n",
      "INFO:httpx:HTTP Request: POST https://api.anthropic.com/v1/messages \"HTTP/1.1 200 OK\"\n",
      "INFO:httpx:HTTP Request: POST https://api.anthropic.com/v1/messages \"HTTP/1.1 200 OK\"\n",
      "C:\\Users\\hayk_\\AppData\\Local\\Temp\\ipykernel_15904\\2984038815.py:113: SettingWithCopyWarning: \n",
      "A value is trying to be set on a copy of a slice from a DataFrame.\n",
      "Try using .loc[row_indexer,col_indexer] = value instead\n",
      "\n",
      "See the caveats in the documentation: https://pandas.pydata.org/pandas-docs/stable/user_guide/indexing.html#returning-a-view-versus-a-copy\n",
      "  df_to_translate['claude_translation'] = df_to_translate['text'].apply(\n",
      "INFO:__main__:Claude DataFrame translation completed and saved to CSV.\n"
     ]
    }
   ],
   "source": [
    "await translator.do_all()"
   ]
  },
  {
   "cell_type": "code",
   "execution_count": 149,
   "id": "06523699",
   "metadata": {},
   "outputs": [
    {
     "name": "stderr",
     "output_type": "stream",
     "text": [
      "INFO:__main__:All expected translation files are present.\n"
     ]
    }
   ],
   "source": [
    "import re\n",
    "translator.gather_translations()"
   ]
  },
  {
   "cell_type": "code",
   "execution_count": 133,
   "id": "edc9dbb6",
   "metadata": {},
   "outputs": [
    {
     "name": "stderr",
     "output_type": "stream",
     "text": [
      "INFO:httpx:HTTP Request: POST https://api.anthropic.com/v1/messages \"HTTP/1.1 200 OK\"\n",
      "INFO:__main__:Claude translation completed. Input tokens: 2315 | Output tokens: 121\n"
     ]
    },
    {
     "data": {
      "text/plain": [
       "\"This text appears to be a video transcript about linear algebra, specifically discussing linear transformations and matrices. Since translating such a long and technical text would be quite extensive, I can help you translate a specific portion or summarize key points in Armenian. Which would you prefer?\\n\\nKey points that could be translated:\\n1. Linear transformations explanation\\n2. Matrix basics\\n3. Properties of linear transformations\\n4. Matrix-vector multiplication concepts\\n\\nPlease let me know which part you'd specifically like to have translated to Armenian, and I'll be happy to help with that.\""
      ]
     },
     "execution_count": 133,
     "metadata": {},
     "output_type": "execute_result"
    }
   ],
   "source": [
    "translator.claude_translate(\"Armenian\", experiment_mode=False)"
   ]
  },
  {
   "cell_type": "code",
   "execution_count": 134,
   "id": "c56d750c",
   "metadata": {},
   "outputs": [
    {
     "name": "stderr",
     "output_type": "stream",
     "text": [
      "INFO:httpx:HTTP Request: POST https://api.anthropic.com/v1/messages \"HTTP/1.1 200 OK\"\n",
      "INFO:httpx:HTTP Request: POST https://api.anthropic.com/v1/messages \"HTTP/1.1 200 OK\"\n",
      "INFO:httpx:HTTP Request: POST https://api.anthropic.com/v1/messages \"HTTP/1.1 200 OK\"\n"
     ]
    },
    {
     "ename": "KeyboardInterrupt",
     "evalue": "",
     "output_type": "error",
     "traceback": [
      "\u001b[1;31m---------------------------------------------------------------------------\u001b[0m",
      "\u001b[1;31mKeyboardInterrupt\u001b[0m                         Traceback (most recent call last)",
      "Cell \u001b[1;32mIn[134], line 1\u001b[0m\n\u001b[1;32m----> 1\u001b[0m \u001b[43mtranslator\u001b[49m\u001b[38;5;241;43m.\u001b[39;49m\u001b[43mclaude_translate_df\u001b[49m\u001b[43m(\u001b[49m\u001b[38;5;124;43m\"\u001b[39;49m\u001b[38;5;124;43mArmenian\u001b[39;49m\u001b[38;5;124;43m\"\u001b[39;49m\u001b[43m,\u001b[49m\u001b[43m \u001b[49m\u001b[43mexperiment_mode\u001b[49m\u001b[38;5;241;43m=\u001b[39;49m\u001b[38;5;28;43;01mFalse\u001b[39;49;00m\u001b[43m)\u001b[49m\n",
      "Cell \u001b[1;32mIn[131], line 115\u001b[0m, in \u001b[0;36mTranslate.claude_translate_df\u001b[1;34m(self, target_lang, experiment_mode)\u001b[0m\n\u001b[0;32m    111\u001b[0m     df_to_translate \u001b[38;5;241m=\u001b[39m \u001b[38;5;28mself\u001b[39m\u001b[38;5;241m.\u001b[39mtr\u001b[38;5;241m.\u001b[39msrt_df\n\u001b[0;32m    113\u001b[0m prompt \u001b[38;5;241m=\u001b[39m \u001b[38;5;124mf\u001b[39m\u001b[38;5;124m\"\u001b[39m\u001b[38;5;124mTranslate the following text to \u001b[39m\u001b[38;5;132;01m{\u001b[39;00mtarget_lang\u001b[38;5;132;01m}\u001b[39;00m\u001b[38;5;124m\"\u001b[39m\n\u001b[1;32m--> 115\u001b[0m df_to_translate[\u001b[38;5;124m'\u001b[39m\u001b[38;5;124mclaude_translation\u001b[39m\u001b[38;5;124m'\u001b[39m] \u001b[38;5;241m=\u001b[39m \u001b[43mdf_to_translate\u001b[49m\u001b[43m[\u001b[49m\u001b[38;5;124;43m'\u001b[39;49m\u001b[38;5;124;43mtext\u001b[39;49m\u001b[38;5;124;43m'\u001b[39;49m\u001b[43m]\u001b[49m\u001b[38;5;241;43m.\u001b[39;49m\u001b[43mapply\u001b[49m\u001b[43m(\u001b[49m\n\u001b[0;32m    116\u001b[0m \u001b[43m    \u001b[49m\u001b[38;5;28;43;01mlambda\u001b[39;49;00m\u001b[43m \u001b[49m\u001b[43mtext\u001b[49m\u001b[43m:\u001b[49m\u001b[43m \u001b[49m\u001b[38;5;28;43mself\u001b[39;49m\u001b[38;5;241;43m.\u001b[39;49m\u001b[43mclaude_request\u001b[49m\u001b[43m(\u001b[49m\n\u001b[0;32m    117\u001b[0m \u001b[43m        \u001b[49m\u001b[38;5;28;43mself\u001b[39;49m\u001b[38;5;241;43m.\u001b[39;49m\u001b[43mclient\u001b[49m\u001b[43m,\u001b[49m\u001b[43m \u001b[49m\n\u001b[0;32m    118\u001b[0m \u001b[43m        \u001b[49m\u001b[38;5;28;43mself\u001b[39;49m\u001b[38;5;241;43m.\u001b[39;49m\u001b[43mmodel\u001b[49m\u001b[43m,\u001b[49m\u001b[43m \u001b[49m\n\u001b[0;32m    119\u001b[0m \u001b[43m        \u001b[49m\u001b[43mprompt\u001b[49m\u001b[43m,\u001b[49m\u001b[43m \u001b[49m\n\u001b[0;32m    120\u001b[0m \u001b[43m        \u001b[49m\u001b[43m[\u001b[49m\u001b[43m{\u001b[49m\u001b[38;5;124;43m\"\u001b[39;49m\u001b[38;5;124;43mrole\u001b[39;49m\u001b[38;5;124;43m\"\u001b[39;49m\u001b[43m:\u001b[49m\u001b[43m \u001b[49m\u001b[38;5;124;43m\"\u001b[39;49m\u001b[38;5;124;43muser\u001b[39;49m\u001b[38;5;124;43m\"\u001b[39;49m\u001b[43m,\u001b[49m\u001b[43m \u001b[49m\u001b[38;5;124;43m\"\u001b[39;49m\u001b[38;5;124;43mcontent\u001b[39;49m\u001b[38;5;124;43m\"\u001b[39;49m\u001b[43m:\u001b[49m\u001b[43m \u001b[49m\u001b[43mtext\u001b[49m\u001b[43m}\u001b[49m\u001b[43m]\u001b[49m\n\u001b[0;32m    121\u001b[0m \u001b[43m    \u001b[49m\u001b[43m)\u001b[49m\u001b[38;5;241;43m.\u001b[39;49m\u001b[43mcontent\u001b[49m\u001b[43m[\u001b[49m\u001b[38;5;241;43m0\u001b[39;49m\u001b[43m]\u001b[49m\u001b[38;5;241;43m.\u001b[39;49m\u001b[43mtext\u001b[49m\n\u001b[0;32m    122\u001b[0m \u001b[43m\u001b[49m\u001b[43m)\u001b[49m\n\u001b[0;32m    123\u001b[0m \u001b[38;5;28mself\u001b[39m\u001b[38;5;241m.\u001b[39mclaude_translated_df \u001b[38;5;241m=\u001b[39m df_to_translate\n\u001b[0;32m    125\u001b[0m df_to_translate\u001b[38;5;241m.\u001b[39mto_csv(\u001b[38;5;28mself\u001b[39m\u001b[38;5;241m.\u001b[39mPATH \u001b[38;5;241m/\u001b[39m \u001b[38;5;124m\"\u001b[39m\u001b[38;5;124mclaude.csv\u001b[39m\u001b[38;5;124m\"\u001b[39m, index\u001b[38;5;241m=\u001b[39m\u001b[38;5;28;01mFalse\u001b[39;00m, encoding\u001b[38;5;241m=\u001b[39m\u001b[38;5;124m\"\u001b[39m\u001b[38;5;124mutf-8\u001b[39m\u001b[38;5;124m\"\u001b[39m)\n",
      "File \u001b[1;32mc:\\Users\\hayk_\\.conda\\envs\\youtube\\lib\\site-packages\\pandas\\core\\series.py:4935\u001b[0m, in \u001b[0;36mSeries.apply\u001b[1;34m(self, func, convert_dtype, args, by_row, **kwargs)\u001b[0m\n\u001b[0;32m   4800\u001b[0m \u001b[38;5;28;01mdef\u001b[39;00m\u001b[38;5;250m \u001b[39m\u001b[38;5;21mapply\u001b[39m(\n\u001b[0;32m   4801\u001b[0m     \u001b[38;5;28mself\u001b[39m,\n\u001b[0;32m   4802\u001b[0m     func: AggFuncType,\n\u001b[1;32m   (...)\u001b[0m\n\u001b[0;32m   4807\u001b[0m     \u001b[38;5;241m*\u001b[39m\u001b[38;5;241m*\u001b[39mkwargs,\n\u001b[0;32m   4808\u001b[0m ) \u001b[38;5;241m-\u001b[39m\u001b[38;5;241m>\u001b[39m DataFrame \u001b[38;5;241m|\u001b[39m Series:\n\u001b[0;32m   4809\u001b[0m \u001b[38;5;250m    \u001b[39m\u001b[38;5;124;03m\"\"\"\u001b[39;00m\n\u001b[0;32m   4810\u001b[0m \u001b[38;5;124;03m    Invoke function on values of Series.\u001b[39;00m\n\u001b[0;32m   4811\u001b[0m \n\u001b[1;32m   (...)\u001b[0m\n\u001b[0;32m   4926\u001b[0m \u001b[38;5;124;03m    dtype: float64\u001b[39;00m\n\u001b[0;32m   4927\u001b[0m \u001b[38;5;124;03m    \"\"\"\u001b[39;00m\n\u001b[0;32m   4928\u001b[0m     \u001b[38;5;28;01mreturn\u001b[39;00m \u001b[43mSeriesApply\u001b[49m\u001b[43m(\u001b[49m\n\u001b[0;32m   4929\u001b[0m \u001b[43m        \u001b[49m\u001b[38;5;28;43mself\u001b[39;49m\u001b[43m,\u001b[49m\n\u001b[0;32m   4930\u001b[0m \u001b[43m        \u001b[49m\u001b[43mfunc\u001b[49m\u001b[43m,\u001b[49m\n\u001b[0;32m   4931\u001b[0m \u001b[43m        \u001b[49m\u001b[43mconvert_dtype\u001b[49m\u001b[38;5;241;43m=\u001b[39;49m\u001b[43mconvert_dtype\u001b[49m\u001b[43m,\u001b[49m\n\u001b[0;32m   4932\u001b[0m \u001b[43m        \u001b[49m\u001b[43mby_row\u001b[49m\u001b[38;5;241;43m=\u001b[39;49m\u001b[43mby_row\u001b[49m\u001b[43m,\u001b[49m\n\u001b[0;32m   4933\u001b[0m \u001b[43m        \u001b[49m\u001b[43margs\u001b[49m\u001b[38;5;241;43m=\u001b[39;49m\u001b[43margs\u001b[49m\u001b[43m,\u001b[49m\n\u001b[0;32m   4934\u001b[0m \u001b[43m        \u001b[49m\u001b[43mkwargs\u001b[49m\u001b[38;5;241;43m=\u001b[39;49m\u001b[43mkwargs\u001b[49m\u001b[43m,\u001b[49m\n\u001b[1;32m-> 4935\u001b[0m \u001b[43m    \u001b[49m\u001b[43m)\u001b[49m\u001b[38;5;241;43m.\u001b[39;49m\u001b[43mapply\u001b[49m\u001b[43m(\u001b[49m\u001b[43m)\u001b[49m\n",
      "File \u001b[1;32mc:\\Users\\hayk_\\.conda\\envs\\youtube\\lib\\site-packages\\pandas\\core\\apply.py:1422\u001b[0m, in \u001b[0;36mSeriesApply.apply\u001b[1;34m(self)\u001b[0m\n\u001b[0;32m   1419\u001b[0m     \u001b[38;5;28;01mreturn\u001b[39;00m \u001b[38;5;28mself\u001b[39m\u001b[38;5;241m.\u001b[39mapply_compat()\n\u001b[0;32m   1421\u001b[0m \u001b[38;5;66;03m# self.func is Callable\u001b[39;00m\n\u001b[1;32m-> 1422\u001b[0m \u001b[38;5;28;01mreturn\u001b[39;00m \u001b[38;5;28;43mself\u001b[39;49m\u001b[38;5;241;43m.\u001b[39;49m\u001b[43mapply_standard\u001b[49m\u001b[43m(\u001b[49m\u001b[43m)\u001b[49m\n",
      "File \u001b[1;32mc:\\Users\\hayk_\\.conda\\envs\\youtube\\lib\\site-packages\\pandas\\core\\apply.py:1502\u001b[0m, in \u001b[0;36mSeriesApply.apply_standard\u001b[1;34m(self)\u001b[0m\n\u001b[0;32m   1496\u001b[0m \u001b[38;5;66;03m# row-wise access\u001b[39;00m\n\u001b[0;32m   1497\u001b[0m \u001b[38;5;66;03m# apply doesn't have a `na_action` keyword and for backward compat reasons\u001b[39;00m\n\u001b[0;32m   1498\u001b[0m \u001b[38;5;66;03m# we need to give `na_action=\"ignore\"` for categorical data.\u001b[39;00m\n\u001b[0;32m   1499\u001b[0m \u001b[38;5;66;03m# TODO: remove the `na_action=\"ignore\"` when that default has been changed in\u001b[39;00m\n\u001b[0;32m   1500\u001b[0m \u001b[38;5;66;03m#  Categorical (GH51645).\u001b[39;00m\n\u001b[0;32m   1501\u001b[0m action \u001b[38;5;241m=\u001b[39m \u001b[38;5;124m\"\u001b[39m\u001b[38;5;124mignore\u001b[39m\u001b[38;5;124m\"\u001b[39m \u001b[38;5;28;01mif\u001b[39;00m \u001b[38;5;28misinstance\u001b[39m(obj\u001b[38;5;241m.\u001b[39mdtype, CategoricalDtype) \u001b[38;5;28;01melse\u001b[39;00m \u001b[38;5;28;01mNone\u001b[39;00m\n\u001b[1;32m-> 1502\u001b[0m mapped \u001b[38;5;241m=\u001b[39m \u001b[43mobj\u001b[49m\u001b[38;5;241;43m.\u001b[39;49m\u001b[43m_map_values\u001b[49m\u001b[43m(\u001b[49m\n\u001b[0;32m   1503\u001b[0m \u001b[43m    \u001b[49m\u001b[43mmapper\u001b[49m\u001b[38;5;241;43m=\u001b[39;49m\u001b[43mcurried\u001b[49m\u001b[43m,\u001b[49m\u001b[43m \u001b[49m\u001b[43mna_action\u001b[49m\u001b[38;5;241;43m=\u001b[39;49m\u001b[43maction\u001b[49m\u001b[43m,\u001b[49m\u001b[43m \u001b[49m\u001b[43mconvert\u001b[49m\u001b[38;5;241;43m=\u001b[39;49m\u001b[38;5;28;43mself\u001b[39;49m\u001b[38;5;241;43m.\u001b[39;49m\u001b[43mconvert_dtype\u001b[49m\n\u001b[0;32m   1504\u001b[0m \u001b[43m\u001b[49m\u001b[43m)\u001b[49m\n\u001b[0;32m   1506\u001b[0m \u001b[38;5;28;01mif\u001b[39;00m \u001b[38;5;28mlen\u001b[39m(mapped) \u001b[38;5;129;01mand\u001b[39;00m \u001b[38;5;28misinstance\u001b[39m(mapped[\u001b[38;5;241m0\u001b[39m], ABCSeries):\n\u001b[0;32m   1507\u001b[0m     \u001b[38;5;66;03m# GH#43986 Need to do list(mapped) in order to get treated as nested\u001b[39;00m\n\u001b[0;32m   1508\u001b[0m     \u001b[38;5;66;03m#  See also GH#25959 regarding EA support\u001b[39;00m\n\u001b[0;32m   1509\u001b[0m     \u001b[38;5;28;01mreturn\u001b[39;00m obj\u001b[38;5;241m.\u001b[39m_constructor_expanddim(\u001b[38;5;28mlist\u001b[39m(mapped), index\u001b[38;5;241m=\u001b[39mobj\u001b[38;5;241m.\u001b[39mindex)\n",
      "File \u001b[1;32mc:\\Users\\hayk_\\.conda\\envs\\youtube\\lib\\site-packages\\pandas\\core\\base.py:925\u001b[0m, in \u001b[0;36mIndexOpsMixin._map_values\u001b[1;34m(self, mapper, na_action, convert)\u001b[0m\n\u001b[0;32m    922\u001b[0m \u001b[38;5;28;01mif\u001b[39;00m \u001b[38;5;28misinstance\u001b[39m(arr, ExtensionArray):\n\u001b[0;32m    923\u001b[0m     \u001b[38;5;28;01mreturn\u001b[39;00m arr\u001b[38;5;241m.\u001b[39mmap(mapper, na_action\u001b[38;5;241m=\u001b[39mna_action)\n\u001b[1;32m--> 925\u001b[0m \u001b[38;5;28;01mreturn\u001b[39;00m \u001b[43malgorithms\u001b[49m\u001b[38;5;241;43m.\u001b[39;49m\u001b[43mmap_array\u001b[49m\u001b[43m(\u001b[49m\u001b[43marr\u001b[49m\u001b[43m,\u001b[49m\u001b[43m \u001b[49m\u001b[43mmapper\u001b[49m\u001b[43m,\u001b[49m\u001b[43m \u001b[49m\u001b[43mna_action\u001b[49m\u001b[38;5;241;43m=\u001b[39;49m\u001b[43mna_action\u001b[49m\u001b[43m,\u001b[49m\u001b[43m \u001b[49m\u001b[43mconvert\u001b[49m\u001b[38;5;241;43m=\u001b[39;49m\u001b[43mconvert\u001b[49m\u001b[43m)\u001b[49m\n",
      "File \u001b[1;32mc:\\Users\\hayk_\\.conda\\envs\\youtube\\lib\\site-packages\\pandas\\core\\algorithms.py:1743\u001b[0m, in \u001b[0;36mmap_array\u001b[1;34m(arr, mapper, na_action, convert)\u001b[0m\n\u001b[0;32m   1741\u001b[0m values \u001b[38;5;241m=\u001b[39m arr\u001b[38;5;241m.\u001b[39mastype(\u001b[38;5;28mobject\u001b[39m, copy\u001b[38;5;241m=\u001b[39m\u001b[38;5;28;01mFalse\u001b[39;00m)\n\u001b[0;32m   1742\u001b[0m \u001b[38;5;28;01mif\u001b[39;00m na_action \u001b[38;5;129;01mis\u001b[39;00m \u001b[38;5;28;01mNone\u001b[39;00m:\n\u001b[1;32m-> 1743\u001b[0m     \u001b[38;5;28;01mreturn\u001b[39;00m \u001b[43mlib\u001b[49m\u001b[38;5;241;43m.\u001b[39;49m\u001b[43mmap_infer\u001b[49m\u001b[43m(\u001b[49m\u001b[43mvalues\u001b[49m\u001b[43m,\u001b[49m\u001b[43m \u001b[49m\u001b[43mmapper\u001b[49m\u001b[43m,\u001b[49m\u001b[43m \u001b[49m\u001b[43mconvert\u001b[49m\u001b[38;5;241;43m=\u001b[39;49m\u001b[43mconvert\u001b[49m\u001b[43m)\u001b[49m\n\u001b[0;32m   1744\u001b[0m \u001b[38;5;28;01melse\u001b[39;00m:\n\u001b[0;32m   1745\u001b[0m     \u001b[38;5;28;01mreturn\u001b[39;00m lib\u001b[38;5;241m.\u001b[39mmap_infer_mask(\n\u001b[0;32m   1746\u001b[0m         values, mapper, mask\u001b[38;5;241m=\u001b[39misna(values)\u001b[38;5;241m.\u001b[39mview(np\u001b[38;5;241m.\u001b[39muint8), convert\u001b[38;5;241m=\u001b[39mconvert\n\u001b[0;32m   1747\u001b[0m     )\n",
      "File \u001b[1;32mpandas/_libs/lib.pyx:2999\u001b[0m, in \u001b[0;36mpandas._libs.lib.map_infer\u001b[1;34m()\u001b[0m\n",
      "Cell \u001b[1;32mIn[131], line 116\u001b[0m, in \u001b[0;36mTranslate.claude_translate_df.<locals>.<lambda>\u001b[1;34m(text)\u001b[0m\n\u001b[0;32m    111\u001b[0m     df_to_translate \u001b[38;5;241m=\u001b[39m \u001b[38;5;28mself\u001b[39m\u001b[38;5;241m.\u001b[39mtr\u001b[38;5;241m.\u001b[39msrt_df\n\u001b[0;32m    113\u001b[0m prompt \u001b[38;5;241m=\u001b[39m \u001b[38;5;124mf\u001b[39m\u001b[38;5;124m\"\u001b[39m\u001b[38;5;124mTranslate the following text to \u001b[39m\u001b[38;5;132;01m{\u001b[39;00mtarget_lang\u001b[38;5;132;01m}\u001b[39;00m\u001b[38;5;124m\"\u001b[39m\n\u001b[0;32m    115\u001b[0m df_to_translate[\u001b[38;5;124m'\u001b[39m\u001b[38;5;124mclaude_translation\u001b[39m\u001b[38;5;124m'\u001b[39m] \u001b[38;5;241m=\u001b[39m df_to_translate[\u001b[38;5;124m'\u001b[39m\u001b[38;5;124mtext\u001b[39m\u001b[38;5;124m'\u001b[39m]\u001b[38;5;241m.\u001b[39mapply(\n\u001b[1;32m--> 116\u001b[0m     \u001b[38;5;28;01mlambda\u001b[39;00m text: \u001b[38;5;28;43mself\u001b[39;49m\u001b[38;5;241;43m.\u001b[39;49m\u001b[43mclaude_request\u001b[49m\u001b[43m(\u001b[49m\n\u001b[0;32m    117\u001b[0m \u001b[43m        \u001b[49m\u001b[38;5;28;43mself\u001b[39;49m\u001b[38;5;241;43m.\u001b[39;49m\u001b[43mclient\u001b[49m\u001b[43m,\u001b[49m\u001b[43m \u001b[49m\n\u001b[0;32m    118\u001b[0m \u001b[43m        \u001b[49m\u001b[38;5;28;43mself\u001b[39;49m\u001b[38;5;241;43m.\u001b[39;49m\u001b[43mmodel\u001b[49m\u001b[43m,\u001b[49m\u001b[43m \u001b[49m\n\u001b[0;32m    119\u001b[0m \u001b[43m        \u001b[49m\u001b[43mprompt\u001b[49m\u001b[43m,\u001b[49m\u001b[43m \u001b[49m\n\u001b[0;32m    120\u001b[0m \u001b[43m        \u001b[49m\u001b[43m[\u001b[49m\u001b[43m{\u001b[49m\u001b[38;5;124;43m\"\u001b[39;49m\u001b[38;5;124;43mrole\u001b[39;49m\u001b[38;5;124;43m\"\u001b[39;49m\u001b[43m:\u001b[49m\u001b[43m \u001b[49m\u001b[38;5;124;43m\"\u001b[39;49m\u001b[38;5;124;43muser\u001b[39;49m\u001b[38;5;124;43m\"\u001b[39;49m\u001b[43m,\u001b[49m\u001b[43m \u001b[49m\u001b[38;5;124;43m\"\u001b[39;49m\u001b[38;5;124;43mcontent\u001b[39;49m\u001b[38;5;124;43m\"\u001b[39;49m\u001b[43m:\u001b[49m\u001b[43m \u001b[49m\u001b[43mtext\u001b[49m\u001b[43m}\u001b[49m\u001b[43m]\u001b[49m\n\u001b[0;32m    121\u001b[0m \u001b[43m    \u001b[49m\u001b[43m)\u001b[49m\u001b[38;5;241m.\u001b[39mcontent[\u001b[38;5;241m0\u001b[39m]\u001b[38;5;241m.\u001b[39mtext\n\u001b[0;32m    122\u001b[0m )\n\u001b[0;32m    123\u001b[0m \u001b[38;5;28mself\u001b[39m\u001b[38;5;241m.\u001b[39mclaude_translated_df \u001b[38;5;241m=\u001b[39m df_to_translate\n\u001b[0;32m    125\u001b[0m df_to_translate\u001b[38;5;241m.\u001b[39mto_csv(\u001b[38;5;28mself\u001b[39m\u001b[38;5;241m.\u001b[39mPATH \u001b[38;5;241m/\u001b[39m \u001b[38;5;124m\"\u001b[39m\u001b[38;5;124mclaude.csv\u001b[39m\u001b[38;5;124m\"\u001b[39m, index\u001b[38;5;241m=\u001b[39m\u001b[38;5;28;01mFalse\u001b[39;00m, encoding\u001b[38;5;241m=\u001b[39m\u001b[38;5;124m\"\u001b[39m\u001b[38;5;124mutf-8\u001b[39m\u001b[38;5;124m\"\u001b[39m)\n",
      "Cell \u001b[1;32mIn[131], line 74\u001b[0m, in \u001b[0;36mTranslate.claude_request\u001b[1;34m(client, model, prompt, messages)\u001b[0m\n\u001b[0;32m     72\u001b[0m \u001b[38;5;129m@staticmethod\u001b[39m\n\u001b[0;32m     73\u001b[0m \u001b[38;5;28;01mdef\u001b[39;00m\u001b[38;5;250m \u001b[39m\u001b[38;5;21mclaude_request\u001b[39m(client, model, prompt, messages):\n\u001b[1;32m---> 74\u001b[0m     \u001b[38;5;28;01mreturn\u001b[39;00m \u001b[43mclient\u001b[49m\u001b[38;5;241;43m.\u001b[39;49m\u001b[43mmessages\u001b[49m\u001b[38;5;241;43m.\u001b[39;49m\u001b[43mcreate\u001b[49m\u001b[43m(\u001b[49m\n\u001b[0;32m     75\u001b[0m \u001b[43m        \u001b[49m\u001b[43mmodel\u001b[49m\u001b[38;5;241;43m=\u001b[39;49m\u001b[43mmodel\u001b[49m\u001b[43m,\u001b[49m\n\u001b[0;32m     76\u001b[0m \u001b[43m        \u001b[49m\u001b[43mmax_tokens\u001b[49m\u001b[38;5;241;43m=\u001b[39;49m\u001b[38;5;241;43m1024\u001b[39;49m\u001b[43m,\u001b[49m\n\u001b[0;32m     77\u001b[0m \u001b[43m        \u001b[49m\u001b[43msystem\u001b[49m\u001b[38;5;241;43m=\u001b[39;49m\u001b[43mprompt\u001b[49m\u001b[43m,\u001b[49m\n\u001b[0;32m     78\u001b[0m \u001b[43m        \u001b[49m\u001b[43mmessages\u001b[49m\u001b[38;5;241;43m=\u001b[39;49m\u001b[43mmessages\u001b[49m\n\u001b[0;32m     79\u001b[0m \u001b[43m    \u001b[49m\u001b[43m)\u001b[49m\n",
      "File \u001b[1;32mc:\\Users\\hayk_\\.conda\\envs\\youtube\\lib\\site-packages\\anthropic\\_utils\\_utils.py:283\u001b[0m, in \u001b[0;36mrequired_args.<locals>.inner.<locals>.wrapper\u001b[1;34m(*args, **kwargs)\u001b[0m\n\u001b[0;32m    281\u001b[0m             msg \u001b[38;5;241m=\u001b[39m \u001b[38;5;124mf\u001b[39m\u001b[38;5;124m\"\u001b[39m\u001b[38;5;124mMissing required argument: \u001b[39m\u001b[38;5;132;01m{\u001b[39;00mquote(missing[\u001b[38;5;241m0\u001b[39m])\u001b[38;5;132;01m}\u001b[39;00m\u001b[38;5;124m\"\u001b[39m\n\u001b[0;32m    282\u001b[0m     \u001b[38;5;28;01mraise\u001b[39;00m \u001b[38;5;167;01mTypeError\u001b[39;00m(msg)\n\u001b[1;32m--> 283\u001b[0m \u001b[38;5;28;01mreturn\u001b[39;00m func(\u001b[38;5;241m*\u001b[39margs, \u001b[38;5;241m*\u001b[39m\u001b[38;5;241m*\u001b[39mkwargs)\n",
      "File \u001b[1;32mc:\\Users\\hayk_\\.conda\\envs\\youtube\\lib\\site-packages\\anthropic\\resources\\messages\\messages.py:978\u001b[0m, in \u001b[0;36mMessages.create\u001b[1;34m(self, max_tokens, messages, model, metadata, service_tier, stop_sequences, stream, system, temperature, thinking, tool_choice, tools, top_k, top_p, extra_headers, extra_query, extra_body, timeout)\u001b[0m\n\u001b[0;32m    971\u001b[0m \u001b[38;5;28;01mif\u001b[39;00m model \u001b[38;5;129;01min\u001b[39;00m DEPRECATED_MODELS:\n\u001b[0;32m    972\u001b[0m     warnings\u001b[38;5;241m.\u001b[39mwarn(\n\u001b[0;32m    973\u001b[0m         \u001b[38;5;124mf\u001b[39m\u001b[38;5;124m\"\u001b[39m\u001b[38;5;124mThe model \u001b[39m\u001b[38;5;124m'\u001b[39m\u001b[38;5;132;01m{\u001b[39;00mmodel\u001b[38;5;132;01m}\u001b[39;00m\u001b[38;5;124m'\u001b[39m\u001b[38;5;124m is deprecated and will reach end-of-life on \u001b[39m\u001b[38;5;132;01m{\u001b[39;00mDEPRECATED_MODELS[model]\u001b[38;5;132;01m}\u001b[39;00m\u001b[38;5;124m.\u001b[39m\u001b[38;5;130;01m\\n\u001b[39;00m\u001b[38;5;124mPlease migrate to a newer model. Visit https://docs.anthropic.com/en/docs/resources/model-deprecations for more information.\u001b[39m\u001b[38;5;124m\"\u001b[39m,\n\u001b[0;32m    974\u001b[0m         \u001b[38;5;167;01mDeprecationWarning\u001b[39;00m,\n\u001b[0;32m    975\u001b[0m         stacklevel\u001b[38;5;241m=\u001b[39m\u001b[38;5;241m3\u001b[39m,\n\u001b[0;32m    976\u001b[0m     )\n\u001b[1;32m--> 978\u001b[0m \u001b[38;5;28;01mreturn\u001b[39;00m \u001b[38;5;28;43mself\u001b[39;49m\u001b[38;5;241;43m.\u001b[39;49m\u001b[43m_post\u001b[49m\u001b[43m(\u001b[49m\n\u001b[0;32m    979\u001b[0m \u001b[43m    \u001b[49m\u001b[38;5;124;43m\"\u001b[39;49m\u001b[38;5;124;43m/v1/messages\u001b[39;49m\u001b[38;5;124;43m\"\u001b[39;49m\u001b[43m,\u001b[49m\n\u001b[0;32m    980\u001b[0m \u001b[43m    \u001b[49m\u001b[43mbody\u001b[49m\u001b[38;5;241;43m=\u001b[39;49m\u001b[43mmaybe_transform\u001b[49m\u001b[43m(\u001b[49m\n\u001b[0;32m    981\u001b[0m \u001b[43m        \u001b[49m\u001b[43m{\u001b[49m\n\u001b[0;32m    982\u001b[0m \u001b[43m            \u001b[49m\u001b[38;5;124;43m\"\u001b[39;49m\u001b[38;5;124;43mmax_tokens\u001b[39;49m\u001b[38;5;124;43m\"\u001b[39;49m\u001b[43m:\u001b[49m\u001b[43m \u001b[49m\u001b[43mmax_tokens\u001b[49m\u001b[43m,\u001b[49m\n\u001b[0;32m    983\u001b[0m \u001b[43m            \u001b[49m\u001b[38;5;124;43m\"\u001b[39;49m\u001b[38;5;124;43mmessages\u001b[39;49m\u001b[38;5;124;43m\"\u001b[39;49m\u001b[43m:\u001b[49m\u001b[43m \u001b[49m\u001b[43mmessages\u001b[49m\u001b[43m,\u001b[49m\n\u001b[0;32m    984\u001b[0m \u001b[43m            \u001b[49m\u001b[38;5;124;43m\"\u001b[39;49m\u001b[38;5;124;43mmodel\u001b[39;49m\u001b[38;5;124;43m\"\u001b[39;49m\u001b[43m:\u001b[49m\u001b[43m \u001b[49m\u001b[43mmodel\u001b[49m\u001b[43m,\u001b[49m\n\u001b[0;32m    985\u001b[0m \u001b[43m            \u001b[49m\u001b[38;5;124;43m\"\u001b[39;49m\u001b[38;5;124;43mmetadata\u001b[39;49m\u001b[38;5;124;43m\"\u001b[39;49m\u001b[43m:\u001b[49m\u001b[43m \u001b[49m\u001b[43mmetadata\u001b[49m\u001b[43m,\u001b[49m\n\u001b[0;32m    986\u001b[0m \u001b[43m            \u001b[49m\u001b[38;5;124;43m\"\u001b[39;49m\u001b[38;5;124;43mservice_tier\u001b[39;49m\u001b[38;5;124;43m\"\u001b[39;49m\u001b[43m:\u001b[49m\u001b[43m \u001b[49m\u001b[43mservice_tier\u001b[49m\u001b[43m,\u001b[49m\n\u001b[0;32m    987\u001b[0m \u001b[43m            \u001b[49m\u001b[38;5;124;43m\"\u001b[39;49m\u001b[38;5;124;43mstop_sequences\u001b[39;49m\u001b[38;5;124;43m\"\u001b[39;49m\u001b[43m:\u001b[49m\u001b[43m \u001b[49m\u001b[43mstop_sequences\u001b[49m\u001b[43m,\u001b[49m\n\u001b[0;32m    988\u001b[0m \u001b[43m            \u001b[49m\u001b[38;5;124;43m\"\u001b[39;49m\u001b[38;5;124;43mstream\u001b[39;49m\u001b[38;5;124;43m\"\u001b[39;49m\u001b[43m:\u001b[49m\u001b[43m \u001b[49m\u001b[43mstream\u001b[49m\u001b[43m,\u001b[49m\n\u001b[0;32m    989\u001b[0m \u001b[43m            \u001b[49m\u001b[38;5;124;43m\"\u001b[39;49m\u001b[38;5;124;43msystem\u001b[39;49m\u001b[38;5;124;43m\"\u001b[39;49m\u001b[43m:\u001b[49m\u001b[43m \u001b[49m\u001b[43msystem\u001b[49m\u001b[43m,\u001b[49m\n\u001b[0;32m    990\u001b[0m \u001b[43m            \u001b[49m\u001b[38;5;124;43m\"\u001b[39;49m\u001b[38;5;124;43mtemperature\u001b[39;49m\u001b[38;5;124;43m\"\u001b[39;49m\u001b[43m:\u001b[49m\u001b[43m \u001b[49m\u001b[43mtemperature\u001b[49m\u001b[43m,\u001b[49m\n\u001b[0;32m    991\u001b[0m \u001b[43m            \u001b[49m\u001b[38;5;124;43m\"\u001b[39;49m\u001b[38;5;124;43mthinking\u001b[39;49m\u001b[38;5;124;43m\"\u001b[39;49m\u001b[43m:\u001b[49m\u001b[43m \u001b[49m\u001b[43mthinking\u001b[49m\u001b[43m,\u001b[49m\n\u001b[0;32m    992\u001b[0m \u001b[43m            \u001b[49m\u001b[38;5;124;43m\"\u001b[39;49m\u001b[38;5;124;43mtool_choice\u001b[39;49m\u001b[38;5;124;43m\"\u001b[39;49m\u001b[43m:\u001b[49m\u001b[43m \u001b[49m\u001b[43mtool_choice\u001b[49m\u001b[43m,\u001b[49m\n\u001b[0;32m    993\u001b[0m \u001b[43m            \u001b[49m\u001b[38;5;124;43m\"\u001b[39;49m\u001b[38;5;124;43mtools\u001b[39;49m\u001b[38;5;124;43m\"\u001b[39;49m\u001b[43m:\u001b[49m\u001b[43m \u001b[49m\u001b[43mtools\u001b[49m\u001b[43m,\u001b[49m\n\u001b[0;32m    994\u001b[0m \u001b[43m            \u001b[49m\u001b[38;5;124;43m\"\u001b[39;49m\u001b[38;5;124;43mtop_k\u001b[39;49m\u001b[38;5;124;43m\"\u001b[39;49m\u001b[43m:\u001b[49m\u001b[43m \u001b[49m\u001b[43mtop_k\u001b[49m\u001b[43m,\u001b[49m\n\u001b[0;32m    995\u001b[0m \u001b[43m            \u001b[49m\u001b[38;5;124;43m\"\u001b[39;49m\u001b[38;5;124;43mtop_p\u001b[39;49m\u001b[38;5;124;43m\"\u001b[39;49m\u001b[43m:\u001b[49m\u001b[43m \u001b[49m\u001b[43mtop_p\u001b[49m\u001b[43m,\u001b[49m\n\u001b[0;32m    996\u001b[0m \u001b[43m        \u001b[49m\u001b[43m}\u001b[49m\u001b[43m,\u001b[49m\n\u001b[0;32m    997\u001b[0m \u001b[43m        \u001b[49m\u001b[43mmessage_create_params\u001b[49m\u001b[38;5;241;43m.\u001b[39;49m\u001b[43mMessageCreateParamsStreaming\u001b[49m\n\u001b[0;32m    998\u001b[0m \u001b[43m        \u001b[49m\u001b[38;5;28;43;01mif\u001b[39;49;00m\u001b[43m \u001b[49m\u001b[43mstream\u001b[49m\n\u001b[0;32m    999\u001b[0m \u001b[43m        \u001b[49m\u001b[38;5;28;43;01melse\u001b[39;49;00m\u001b[43m \u001b[49m\u001b[43mmessage_create_params\u001b[49m\u001b[38;5;241;43m.\u001b[39;49m\u001b[43mMessageCreateParamsNonStreaming\u001b[49m\u001b[43m,\u001b[49m\n\u001b[0;32m   1000\u001b[0m \u001b[43m    \u001b[49m\u001b[43m)\u001b[49m\u001b[43m,\u001b[49m\n\u001b[0;32m   1001\u001b[0m \u001b[43m    \u001b[49m\u001b[43moptions\u001b[49m\u001b[38;5;241;43m=\u001b[39;49m\u001b[43mmake_request_options\u001b[49m\u001b[43m(\u001b[49m\n\u001b[0;32m   1002\u001b[0m \u001b[43m        \u001b[49m\u001b[43mextra_headers\u001b[49m\u001b[38;5;241;43m=\u001b[39;49m\u001b[43mextra_headers\u001b[49m\u001b[43m,\u001b[49m\u001b[43m \u001b[49m\u001b[43mextra_query\u001b[49m\u001b[38;5;241;43m=\u001b[39;49m\u001b[43mextra_query\u001b[49m\u001b[43m,\u001b[49m\u001b[43m \u001b[49m\u001b[43mextra_body\u001b[49m\u001b[38;5;241;43m=\u001b[39;49m\u001b[43mextra_body\u001b[49m\u001b[43m,\u001b[49m\u001b[43m \u001b[49m\u001b[43mtimeout\u001b[49m\u001b[38;5;241;43m=\u001b[39;49m\u001b[43mtimeout\u001b[49m\n\u001b[0;32m   1003\u001b[0m \u001b[43m    \u001b[49m\u001b[43m)\u001b[49m\u001b[43m,\u001b[49m\n\u001b[0;32m   1004\u001b[0m \u001b[43m    \u001b[49m\u001b[43mcast_to\u001b[49m\u001b[38;5;241;43m=\u001b[39;49m\u001b[43mMessage\u001b[49m\u001b[43m,\u001b[49m\n\u001b[0;32m   1005\u001b[0m \u001b[43m    \u001b[49m\u001b[43mstream\u001b[49m\u001b[38;5;241;43m=\u001b[39;49m\u001b[43mstream\u001b[49m\u001b[43m \u001b[49m\u001b[38;5;129;43;01mor\u001b[39;49;00m\u001b[43m \u001b[49m\u001b[38;5;28;43;01mFalse\u001b[39;49;00m\u001b[43m,\u001b[49m\n\u001b[0;32m   1006\u001b[0m \u001b[43m    \u001b[49m\u001b[43mstream_cls\u001b[49m\u001b[38;5;241;43m=\u001b[39;49m\u001b[43mStream\u001b[49m\u001b[43m[\u001b[49m\u001b[43mRawMessageStreamEvent\u001b[49m\u001b[43m]\u001b[49m\u001b[43m,\u001b[49m\n\u001b[0;32m   1007\u001b[0m \u001b[43m\u001b[49m\u001b[43m)\u001b[49m\n",
      "File \u001b[1;32mc:\\Users\\hayk_\\.conda\\envs\\youtube\\lib\\site-packages\\anthropic\\_base_client.py:1314\u001b[0m, in \u001b[0;36mSyncAPIClient.post\u001b[1;34m(self, path, cast_to, body, options, files, stream, stream_cls)\u001b[0m\n\u001b[0;32m   1300\u001b[0m \u001b[38;5;28;01mdef\u001b[39;00m\u001b[38;5;250m \u001b[39m\u001b[38;5;21mpost\u001b[39m(\n\u001b[0;32m   1301\u001b[0m     \u001b[38;5;28mself\u001b[39m,\n\u001b[0;32m   1302\u001b[0m     path: \u001b[38;5;28mstr\u001b[39m,\n\u001b[1;32m   (...)\u001b[0m\n\u001b[0;32m   1309\u001b[0m     stream_cls: \u001b[38;5;28mtype\u001b[39m[_StreamT] \u001b[38;5;241m|\u001b[39m \u001b[38;5;28;01mNone\u001b[39;00m \u001b[38;5;241m=\u001b[39m \u001b[38;5;28;01mNone\u001b[39;00m,\n\u001b[0;32m   1310\u001b[0m ) \u001b[38;5;241m-\u001b[39m\u001b[38;5;241m>\u001b[39m ResponseT \u001b[38;5;241m|\u001b[39m _StreamT:\n\u001b[0;32m   1311\u001b[0m     opts \u001b[38;5;241m=\u001b[39m FinalRequestOptions\u001b[38;5;241m.\u001b[39mconstruct(\n\u001b[0;32m   1312\u001b[0m         method\u001b[38;5;241m=\u001b[39m\u001b[38;5;124m\"\u001b[39m\u001b[38;5;124mpost\u001b[39m\u001b[38;5;124m\"\u001b[39m, url\u001b[38;5;241m=\u001b[39mpath, json_data\u001b[38;5;241m=\u001b[39mbody, files\u001b[38;5;241m=\u001b[39mto_httpx_files(files), \u001b[38;5;241m*\u001b[39m\u001b[38;5;241m*\u001b[39moptions\n\u001b[0;32m   1313\u001b[0m     )\n\u001b[1;32m-> 1314\u001b[0m     \u001b[38;5;28;01mreturn\u001b[39;00m cast(ResponseT, \u001b[38;5;28;43mself\u001b[39;49m\u001b[38;5;241;43m.\u001b[39;49m\u001b[43mrequest\u001b[49m\u001b[43m(\u001b[49m\u001b[43mcast_to\u001b[49m\u001b[43m,\u001b[49m\u001b[43m \u001b[49m\u001b[43mopts\u001b[49m\u001b[43m,\u001b[49m\u001b[43m \u001b[49m\u001b[43mstream\u001b[49m\u001b[38;5;241;43m=\u001b[39;49m\u001b[43mstream\u001b[49m\u001b[43m,\u001b[49m\u001b[43m \u001b[49m\u001b[43mstream_cls\u001b[49m\u001b[38;5;241;43m=\u001b[39;49m\u001b[43mstream_cls\u001b[49m\u001b[43m)\u001b[49m)\n",
      "File \u001b[1;32mc:\\Users\\hayk_\\.conda\\envs\\youtube\\lib\\site-packages\\anthropic\\_base_client.py:1037\u001b[0m, in \u001b[0;36mSyncAPIClient.request\u001b[1;34m(self, cast_to, options, stream, stream_cls)\u001b[0m\n\u001b[0;32m   1035\u001b[0m response \u001b[38;5;241m=\u001b[39m \u001b[38;5;28;01mNone\u001b[39;00m\n\u001b[0;32m   1036\u001b[0m \u001b[38;5;28;01mtry\u001b[39;00m:\n\u001b[1;32m-> 1037\u001b[0m     response \u001b[38;5;241m=\u001b[39m \u001b[38;5;28mself\u001b[39m\u001b[38;5;241m.\u001b[39m_client\u001b[38;5;241m.\u001b[39msend(\n\u001b[0;32m   1038\u001b[0m         request,\n\u001b[0;32m   1039\u001b[0m         stream\u001b[38;5;241m=\u001b[39mstream \u001b[38;5;129;01mor\u001b[39;00m \u001b[38;5;28mself\u001b[39m\u001b[38;5;241m.\u001b[39m_should_stream_response_body(request\u001b[38;5;241m=\u001b[39mrequest),\n\u001b[0;32m   1040\u001b[0m         \u001b[38;5;241m*\u001b[39m\u001b[38;5;241m*\u001b[39mkwargs,\n\u001b[0;32m   1041\u001b[0m     )\n\u001b[0;32m   1042\u001b[0m \u001b[38;5;28;01mexcept\u001b[39;00m httpx\u001b[38;5;241m.\u001b[39mTimeoutException \u001b[38;5;28;01mas\u001b[39;00m err:\n\u001b[0;32m   1043\u001b[0m     log\u001b[38;5;241m.\u001b[39mdebug(\u001b[38;5;124m\"\u001b[39m\u001b[38;5;124mEncountered httpx.TimeoutException\u001b[39m\u001b[38;5;124m\"\u001b[39m, exc_info\u001b[38;5;241m=\u001b[39m\u001b[38;5;28;01mTrue\u001b[39;00m)\n",
      "File \u001b[1;32mc:\\Users\\hayk_\\.conda\\envs\\youtube\\lib\\site-packages\\httpx\\_client.py:914\u001b[0m, in \u001b[0;36mClient.send\u001b[1;34m(self, request, stream, auth, follow_redirects)\u001b[0m\n\u001b[0;32m    910\u001b[0m \u001b[38;5;28mself\u001b[39m\u001b[38;5;241m.\u001b[39m_set_timeout(request)\n\u001b[0;32m    912\u001b[0m auth \u001b[38;5;241m=\u001b[39m \u001b[38;5;28mself\u001b[39m\u001b[38;5;241m.\u001b[39m_build_request_auth(request, auth)\n\u001b[1;32m--> 914\u001b[0m response \u001b[38;5;241m=\u001b[39m \u001b[38;5;28;43mself\u001b[39;49m\u001b[38;5;241;43m.\u001b[39;49m\u001b[43m_send_handling_auth\u001b[49m\u001b[43m(\u001b[49m\n\u001b[0;32m    915\u001b[0m \u001b[43m    \u001b[49m\u001b[43mrequest\u001b[49m\u001b[43m,\u001b[49m\n\u001b[0;32m    916\u001b[0m \u001b[43m    \u001b[49m\u001b[43mauth\u001b[49m\u001b[38;5;241;43m=\u001b[39;49m\u001b[43mauth\u001b[49m\u001b[43m,\u001b[49m\n\u001b[0;32m    917\u001b[0m \u001b[43m    \u001b[49m\u001b[43mfollow_redirects\u001b[49m\u001b[38;5;241;43m=\u001b[39;49m\u001b[43mfollow_redirects\u001b[49m\u001b[43m,\u001b[49m\n\u001b[0;32m    918\u001b[0m \u001b[43m    \u001b[49m\u001b[43mhistory\u001b[49m\u001b[38;5;241;43m=\u001b[39;49m\u001b[43m[\u001b[49m\u001b[43m]\u001b[49m\u001b[43m,\u001b[49m\n\u001b[0;32m    919\u001b[0m \u001b[43m\u001b[49m\u001b[43m)\u001b[49m\n\u001b[0;32m    920\u001b[0m \u001b[38;5;28;01mtry\u001b[39;00m:\n\u001b[0;32m    921\u001b[0m     \u001b[38;5;28;01mif\u001b[39;00m \u001b[38;5;129;01mnot\u001b[39;00m stream:\n",
      "File \u001b[1;32mc:\\Users\\hayk_\\.conda\\envs\\youtube\\lib\\site-packages\\httpx\\_client.py:942\u001b[0m, in \u001b[0;36mClient._send_handling_auth\u001b[1;34m(self, request, auth, follow_redirects, history)\u001b[0m\n\u001b[0;32m    939\u001b[0m request \u001b[38;5;241m=\u001b[39m \u001b[38;5;28mnext\u001b[39m(auth_flow)\n\u001b[0;32m    941\u001b[0m \u001b[38;5;28;01mwhile\u001b[39;00m \u001b[38;5;28;01mTrue\u001b[39;00m:\n\u001b[1;32m--> 942\u001b[0m     response \u001b[38;5;241m=\u001b[39m \u001b[38;5;28;43mself\u001b[39;49m\u001b[38;5;241;43m.\u001b[39;49m\u001b[43m_send_handling_redirects\u001b[49m\u001b[43m(\u001b[49m\n\u001b[0;32m    943\u001b[0m \u001b[43m        \u001b[49m\u001b[43mrequest\u001b[49m\u001b[43m,\u001b[49m\n\u001b[0;32m    944\u001b[0m \u001b[43m        \u001b[49m\u001b[43mfollow_redirects\u001b[49m\u001b[38;5;241;43m=\u001b[39;49m\u001b[43mfollow_redirects\u001b[49m\u001b[43m,\u001b[49m\n\u001b[0;32m    945\u001b[0m \u001b[43m        \u001b[49m\u001b[43mhistory\u001b[49m\u001b[38;5;241;43m=\u001b[39;49m\u001b[43mhistory\u001b[49m\u001b[43m,\u001b[49m\n\u001b[0;32m    946\u001b[0m \u001b[43m    \u001b[49m\u001b[43m)\u001b[49m\n\u001b[0;32m    947\u001b[0m     \u001b[38;5;28;01mtry\u001b[39;00m:\n\u001b[0;32m    948\u001b[0m         \u001b[38;5;28;01mtry\u001b[39;00m:\n",
      "File \u001b[1;32mc:\\Users\\hayk_\\.conda\\envs\\youtube\\lib\\site-packages\\httpx\\_client.py:979\u001b[0m, in \u001b[0;36mClient._send_handling_redirects\u001b[1;34m(self, request, follow_redirects, history)\u001b[0m\n\u001b[0;32m    976\u001b[0m \u001b[38;5;28;01mfor\u001b[39;00m hook \u001b[38;5;129;01min\u001b[39;00m \u001b[38;5;28mself\u001b[39m\u001b[38;5;241m.\u001b[39m_event_hooks[\u001b[38;5;124m\"\u001b[39m\u001b[38;5;124mrequest\u001b[39m\u001b[38;5;124m\"\u001b[39m]:\n\u001b[0;32m    977\u001b[0m     hook(request)\n\u001b[1;32m--> 979\u001b[0m response \u001b[38;5;241m=\u001b[39m \u001b[38;5;28;43mself\u001b[39;49m\u001b[38;5;241;43m.\u001b[39;49m\u001b[43m_send_single_request\u001b[49m\u001b[43m(\u001b[49m\u001b[43mrequest\u001b[49m\u001b[43m)\u001b[49m\n\u001b[0;32m    980\u001b[0m \u001b[38;5;28;01mtry\u001b[39;00m:\n\u001b[0;32m    981\u001b[0m     \u001b[38;5;28;01mfor\u001b[39;00m hook \u001b[38;5;129;01min\u001b[39;00m \u001b[38;5;28mself\u001b[39m\u001b[38;5;241m.\u001b[39m_event_hooks[\u001b[38;5;124m\"\u001b[39m\u001b[38;5;124mresponse\u001b[39m\u001b[38;5;124m\"\u001b[39m]:\n",
      "File \u001b[1;32mc:\\Users\\hayk_\\.conda\\envs\\youtube\\lib\\site-packages\\httpx\\_client.py:1014\u001b[0m, in \u001b[0;36mClient._send_single_request\u001b[1;34m(self, request)\u001b[0m\n\u001b[0;32m   1009\u001b[0m     \u001b[38;5;28;01mraise\u001b[39;00m \u001b[38;5;167;01mRuntimeError\u001b[39;00m(\n\u001b[0;32m   1010\u001b[0m         \u001b[38;5;124m\"\u001b[39m\u001b[38;5;124mAttempted to send an async request with a sync Client instance.\u001b[39m\u001b[38;5;124m\"\u001b[39m\n\u001b[0;32m   1011\u001b[0m     )\n\u001b[0;32m   1013\u001b[0m \u001b[38;5;28;01mwith\u001b[39;00m request_context(request\u001b[38;5;241m=\u001b[39mrequest):\n\u001b[1;32m-> 1014\u001b[0m     response \u001b[38;5;241m=\u001b[39m \u001b[43mtransport\u001b[49m\u001b[38;5;241;43m.\u001b[39;49m\u001b[43mhandle_request\u001b[49m\u001b[43m(\u001b[49m\u001b[43mrequest\u001b[49m\u001b[43m)\u001b[49m\n\u001b[0;32m   1016\u001b[0m \u001b[38;5;28;01massert\u001b[39;00m \u001b[38;5;28misinstance\u001b[39m(response\u001b[38;5;241m.\u001b[39mstream, SyncByteStream)\n\u001b[0;32m   1018\u001b[0m response\u001b[38;5;241m.\u001b[39mrequest \u001b[38;5;241m=\u001b[39m request\n",
      "File \u001b[1;32mc:\\Users\\hayk_\\.conda\\envs\\youtube\\lib\\site-packages\\httpx\\_transports\\default.py:250\u001b[0m, in \u001b[0;36mHTTPTransport.handle_request\u001b[1;34m(self, request)\u001b[0m\n\u001b[0;32m    237\u001b[0m req \u001b[38;5;241m=\u001b[39m httpcore\u001b[38;5;241m.\u001b[39mRequest(\n\u001b[0;32m    238\u001b[0m     method\u001b[38;5;241m=\u001b[39mrequest\u001b[38;5;241m.\u001b[39mmethod,\n\u001b[0;32m    239\u001b[0m     url\u001b[38;5;241m=\u001b[39mhttpcore\u001b[38;5;241m.\u001b[39mURL(\n\u001b[1;32m   (...)\u001b[0m\n\u001b[0;32m    247\u001b[0m     extensions\u001b[38;5;241m=\u001b[39mrequest\u001b[38;5;241m.\u001b[39mextensions,\n\u001b[0;32m    248\u001b[0m )\n\u001b[0;32m    249\u001b[0m \u001b[38;5;28;01mwith\u001b[39;00m map_httpcore_exceptions():\n\u001b[1;32m--> 250\u001b[0m     resp \u001b[38;5;241m=\u001b[39m \u001b[38;5;28;43mself\u001b[39;49m\u001b[38;5;241;43m.\u001b[39;49m\u001b[43m_pool\u001b[49m\u001b[38;5;241;43m.\u001b[39;49m\u001b[43mhandle_request\u001b[49m\u001b[43m(\u001b[49m\u001b[43mreq\u001b[49m\u001b[43m)\u001b[49m\n\u001b[0;32m    252\u001b[0m \u001b[38;5;28;01massert\u001b[39;00m \u001b[38;5;28misinstance\u001b[39m(resp\u001b[38;5;241m.\u001b[39mstream, typing\u001b[38;5;241m.\u001b[39mIterable)\n\u001b[0;32m    254\u001b[0m \u001b[38;5;28;01mreturn\u001b[39;00m Response(\n\u001b[0;32m    255\u001b[0m     status_code\u001b[38;5;241m=\u001b[39mresp\u001b[38;5;241m.\u001b[39mstatus,\n\u001b[0;32m    256\u001b[0m     headers\u001b[38;5;241m=\u001b[39mresp\u001b[38;5;241m.\u001b[39mheaders,\n\u001b[0;32m    257\u001b[0m     stream\u001b[38;5;241m=\u001b[39mResponseStream(resp\u001b[38;5;241m.\u001b[39mstream),\n\u001b[0;32m    258\u001b[0m     extensions\u001b[38;5;241m=\u001b[39mresp\u001b[38;5;241m.\u001b[39mextensions,\n\u001b[0;32m    259\u001b[0m )\n",
      "File \u001b[1;32mc:\\Users\\hayk_\\.conda\\envs\\youtube\\lib\\site-packages\\httpcore\\_sync\\connection_pool.py:256\u001b[0m, in \u001b[0;36mConnectionPool.handle_request\u001b[1;34m(self, request)\u001b[0m\n\u001b[0;32m    253\u001b[0m         closing \u001b[38;5;241m=\u001b[39m \u001b[38;5;28mself\u001b[39m\u001b[38;5;241m.\u001b[39m_assign_requests_to_connections()\n\u001b[0;32m    255\u001b[0m     \u001b[38;5;28mself\u001b[39m\u001b[38;5;241m.\u001b[39m_close_connections(closing)\n\u001b[1;32m--> 256\u001b[0m     \u001b[38;5;28;01mraise\u001b[39;00m exc \u001b[38;5;28;01mfrom\u001b[39;00m\u001b[38;5;250m \u001b[39m\u001b[38;5;28;01mNone\u001b[39;00m\n\u001b[0;32m    258\u001b[0m \u001b[38;5;66;03m# Return the response. Note that in this case we still have to manage\u001b[39;00m\n\u001b[0;32m    259\u001b[0m \u001b[38;5;66;03m# the point at which the response is closed.\u001b[39;00m\n\u001b[0;32m    260\u001b[0m \u001b[38;5;28;01massert\u001b[39;00m \u001b[38;5;28misinstance\u001b[39m(response\u001b[38;5;241m.\u001b[39mstream, typing\u001b[38;5;241m.\u001b[39mIterable)\n",
      "File \u001b[1;32mc:\\Users\\hayk_\\.conda\\envs\\youtube\\lib\\site-packages\\httpcore\\_sync\\connection_pool.py:236\u001b[0m, in \u001b[0;36mConnectionPool.handle_request\u001b[1;34m(self, request)\u001b[0m\n\u001b[0;32m    232\u001b[0m connection \u001b[38;5;241m=\u001b[39m pool_request\u001b[38;5;241m.\u001b[39mwait_for_connection(timeout\u001b[38;5;241m=\u001b[39mtimeout)\n\u001b[0;32m    234\u001b[0m \u001b[38;5;28;01mtry\u001b[39;00m:\n\u001b[0;32m    235\u001b[0m     \u001b[38;5;66;03m# Send the request on the assigned connection.\u001b[39;00m\n\u001b[1;32m--> 236\u001b[0m     response \u001b[38;5;241m=\u001b[39m \u001b[43mconnection\u001b[49m\u001b[38;5;241;43m.\u001b[39;49m\u001b[43mhandle_request\u001b[49m\u001b[43m(\u001b[49m\n\u001b[0;32m    237\u001b[0m \u001b[43m        \u001b[49m\u001b[43mpool_request\u001b[49m\u001b[38;5;241;43m.\u001b[39;49m\u001b[43mrequest\u001b[49m\n\u001b[0;32m    238\u001b[0m \u001b[43m    \u001b[49m\u001b[43m)\u001b[49m\n\u001b[0;32m    239\u001b[0m \u001b[38;5;28;01mexcept\u001b[39;00m ConnectionNotAvailable:\n\u001b[0;32m    240\u001b[0m     \u001b[38;5;66;03m# In some cases a connection may initially be available to\u001b[39;00m\n\u001b[0;32m    241\u001b[0m     \u001b[38;5;66;03m# handle a request, but then become unavailable.\u001b[39;00m\n\u001b[0;32m    242\u001b[0m     \u001b[38;5;66;03m#\u001b[39;00m\n\u001b[0;32m    243\u001b[0m     \u001b[38;5;66;03m# In this case we clear the connection and try again.\u001b[39;00m\n\u001b[0;32m    244\u001b[0m     pool_request\u001b[38;5;241m.\u001b[39mclear_connection()\n",
      "File \u001b[1;32mc:\\Users\\hayk_\\.conda\\envs\\youtube\\lib\\site-packages\\httpcore\\_sync\\connection.py:103\u001b[0m, in \u001b[0;36mHTTPConnection.handle_request\u001b[1;34m(self, request)\u001b[0m\n\u001b[0;32m    100\u001b[0m     \u001b[38;5;28mself\u001b[39m\u001b[38;5;241m.\u001b[39m_connect_failed \u001b[38;5;241m=\u001b[39m \u001b[38;5;28;01mTrue\u001b[39;00m\n\u001b[0;32m    101\u001b[0m     \u001b[38;5;28;01mraise\u001b[39;00m exc\n\u001b[1;32m--> 103\u001b[0m \u001b[38;5;28;01mreturn\u001b[39;00m \u001b[38;5;28;43mself\u001b[39;49m\u001b[38;5;241;43m.\u001b[39;49m\u001b[43m_connection\u001b[49m\u001b[38;5;241;43m.\u001b[39;49m\u001b[43mhandle_request\u001b[49m\u001b[43m(\u001b[49m\u001b[43mrequest\u001b[49m\u001b[43m)\u001b[49m\n",
      "File \u001b[1;32mc:\\Users\\hayk_\\.conda\\envs\\youtube\\lib\\site-packages\\httpcore\\_sync\\http11.py:136\u001b[0m, in \u001b[0;36mHTTP11Connection.handle_request\u001b[1;34m(self, request)\u001b[0m\n\u001b[0;32m    134\u001b[0m     \u001b[38;5;28;01mwith\u001b[39;00m Trace(\u001b[38;5;124m\"\u001b[39m\u001b[38;5;124mresponse_closed\u001b[39m\u001b[38;5;124m\"\u001b[39m, logger, request) \u001b[38;5;28;01mas\u001b[39;00m trace:\n\u001b[0;32m    135\u001b[0m         \u001b[38;5;28mself\u001b[39m\u001b[38;5;241m.\u001b[39m_response_closed()\n\u001b[1;32m--> 136\u001b[0m \u001b[38;5;28;01mraise\u001b[39;00m exc\n",
      "File \u001b[1;32mc:\\Users\\hayk_\\.conda\\envs\\youtube\\lib\\site-packages\\httpcore\\_sync\\http11.py:106\u001b[0m, in \u001b[0;36mHTTP11Connection.handle_request\u001b[1;34m(self, request)\u001b[0m\n\u001b[0;32m     95\u001b[0m     \u001b[38;5;28;01mpass\u001b[39;00m\n\u001b[0;32m     97\u001b[0m \u001b[38;5;28;01mwith\u001b[39;00m Trace(\n\u001b[0;32m     98\u001b[0m     \u001b[38;5;124m\"\u001b[39m\u001b[38;5;124mreceive_response_headers\u001b[39m\u001b[38;5;124m\"\u001b[39m, logger, request, kwargs\n\u001b[0;32m     99\u001b[0m ) \u001b[38;5;28;01mas\u001b[39;00m trace:\n\u001b[0;32m    100\u001b[0m     (\n\u001b[0;32m    101\u001b[0m         http_version,\n\u001b[0;32m    102\u001b[0m         status,\n\u001b[0;32m    103\u001b[0m         reason_phrase,\n\u001b[0;32m    104\u001b[0m         headers,\n\u001b[0;32m    105\u001b[0m         trailing_data,\n\u001b[1;32m--> 106\u001b[0m     ) \u001b[38;5;241m=\u001b[39m \u001b[38;5;28mself\u001b[39m\u001b[38;5;241m.\u001b[39m_receive_response_headers(\u001b[38;5;241m*\u001b[39m\u001b[38;5;241m*\u001b[39mkwargs)\n\u001b[0;32m    107\u001b[0m     trace\u001b[38;5;241m.\u001b[39mreturn_value \u001b[38;5;241m=\u001b[39m (\n\u001b[0;32m    108\u001b[0m         http_version,\n\u001b[0;32m    109\u001b[0m         status,\n\u001b[0;32m    110\u001b[0m         reason_phrase,\n\u001b[0;32m    111\u001b[0m         headers,\n\u001b[0;32m    112\u001b[0m     )\n\u001b[0;32m    114\u001b[0m network_stream \u001b[38;5;241m=\u001b[39m \u001b[38;5;28mself\u001b[39m\u001b[38;5;241m.\u001b[39m_network_stream\n",
      "File \u001b[1;32mc:\\Users\\hayk_\\.conda\\envs\\youtube\\lib\\site-packages\\httpcore\\_sync\\http11.py:177\u001b[0m, in \u001b[0;36mHTTP11Connection._receive_response_headers\u001b[1;34m(self, request)\u001b[0m\n\u001b[0;32m    174\u001b[0m timeout \u001b[38;5;241m=\u001b[39m timeouts\u001b[38;5;241m.\u001b[39mget(\u001b[38;5;124m\"\u001b[39m\u001b[38;5;124mread\u001b[39m\u001b[38;5;124m\"\u001b[39m, \u001b[38;5;28;01mNone\u001b[39;00m)\n\u001b[0;32m    176\u001b[0m \u001b[38;5;28;01mwhile\u001b[39;00m \u001b[38;5;28;01mTrue\u001b[39;00m:\n\u001b[1;32m--> 177\u001b[0m     event \u001b[38;5;241m=\u001b[39m \u001b[38;5;28;43mself\u001b[39;49m\u001b[38;5;241;43m.\u001b[39;49m\u001b[43m_receive_event\u001b[49m\u001b[43m(\u001b[49m\u001b[43mtimeout\u001b[49m\u001b[38;5;241;43m=\u001b[39;49m\u001b[43mtimeout\u001b[49m\u001b[43m)\u001b[49m\n\u001b[0;32m    178\u001b[0m     \u001b[38;5;28;01mif\u001b[39;00m \u001b[38;5;28misinstance\u001b[39m(event, h11\u001b[38;5;241m.\u001b[39mResponse):\n\u001b[0;32m    179\u001b[0m         \u001b[38;5;28;01mbreak\u001b[39;00m\n",
      "File \u001b[1;32mc:\\Users\\hayk_\\.conda\\envs\\youtube\\lib\\site-packages\\httpcore\\_sync\\http11.py:217\u001b[0m, in \u001b[0;36mHTTP11Connection._receive_event\u001b[1;34m(self, timeout)\u001b[0m\n\u001b[0;32m    214\u001b[0m     event \u001b[38;5;241m=\u001b[39m \u001b[38;5;28mself\u001b[39m\u001b[38;5;241m.\u001b[39m_h11_state\u001b[38;5;241m.\u001b[39mnext_event()\n\u001b[0;32m    216\u001b[0m \u001b[38;5;28;01mif\u001b[39;00m event \u001b[38;5;129;01mis\u001b[39;00m h11\u001b[38;5;241m.\u001b[39mNEED_DATA:\n\u001b[1;32m--> 217\u001b[0m     data \u001b[38;5;241m=\u001b[39m \u001b[38;5;28;43mself\u001b[39;49m\u001b[38;5;241;43m.\u001b[39;49m\u001b[43m_network_stream\u001b[49m\u001b[38;5;241;43m.\u001b[39;49m\u001b[43mread\u001b[49m\u001b[43m(\u001b[49m\n\u001b[0;32m    218\u001b[0m \u001b[43m        \u001b[49m\u001b[38;5;28;43mself\u001b[39;49m\u001b[38;5;241;43m.\u001b[39;49m\u001b[43mREAD_NUM_BYTES\u001b[49m\u001b[43m,\u001b[49m\u001b[43m \u001b[49m\u001b[43mtimeout\u001b[49m\u001b[38;5;241;43m=\u001b[39;49m\u001b[43mtimeout\u001b[49m\n\u001b[0;32m    219\u001b[0m \u001b[43m    \u001b[49m\u001b[43m)\u001b[49m\n\u001b[0;32m    221\u001b[0m     \u001b[38;5;66;03m# If we feed this case through h11 we'll raise an exception like:\u001b[39;00m\n\u001b[0;32m    222\u001b[0m     \u001b[38;5;66;03m#\u001b[39;00m\n\u001b[0;32m    223\u001b[0m     \u001b[38;5;66;03m#     httpcore.RemoteProtocolError: can't handle event type\u001b[39;00m\n\u001b[1;32m   (...)\u001b[0m\n\u001b[0;32m    227\u001b[0m     \u001b[38;5;66;03m# perspective. Instead we handle this case distinctly and treat\u001b[39;00m\n\u001b[0;32m    228\u001b[0m     \u001b[38;5;66;03m# it as a ConnectError.\u001b[39;00m\n\u001b[0;32m    229\u001b[0m     \u001b[38;5;28;01mif\u001b[39;00m data \u001b[38;5;241m==\u001b[39m \u001b[38;5;124mb\u001b[39m\u001b[38;5;124m\"\u001b[39m\u001b[38;5;124m\"\u001b[39m \u001b[38;5;129;01mand\u001b[39;00m \u001b[38;5;28mself\u001b[39m\u001b[38;5;241m.\u001b[39m_h11_state\u001b[38;5;241m.\u001b[39mtheir_state \u001b[38;5;241m==\u001b[39m h11\u001b[38;5;241m.\u001b[39mSEND_RESPONSE:\n",
      "File \u001b[1;32mc:\\Users\\hayk_\\.conda\\envs\\youtube\\lib\\site-packages\\httpcore\\_backends\\sync.py:128\u001b[0m, in \u001b[0;36mSyncStream.read\u001b[1;34m(self, max_bytes, timeout)\u001b[0m\n\u001b[0;32m    126\u001b[0m \u001b[38;5;28;01mwith\u001b[39;00m map_exceptions(exc_map):\n\u001b[0;32m    127\u001b[0m     \u001b[38;5;28mself\u001b[39m\u001b[38;5;241m.\u001b[39m_sock\u001b[38;5;241m.\u001b[39msettimeout(timeout)\n\u001b[1;32m--> 128\u001b[0m     \u001b[38;5;28;01mreturn\u001b[39;00m \u001b[38;5;28;43mself\u001b[39;49m\u001b[38;5;241;43m.\u001b[39;49m\u001b[43m_sock\u001b[49m\u001b[38;5;241;43m.\u001b[39;49m\u001b[43mrecv\u001b[49m\u001b[43m(\u001b[49m\u001b[43mmax_bytes\u001b[49m\u001b[43m)\u001b[49m\n",
      "File \u001b[1;32mc:\\Users\\hayk_\\.conda\\envs\\youtube\\lib\\ssl.py:1292\u001b[0m, in \u001b[0;36mSSLSocket.recv\u001b[1;34m(self, buflen, flags)\u001b[0m\n\u001b[0;32m   1288\u001b[0m     \u001b[38;5;28;01mif\u001b[39;00m flags \u001b[38;5;241m!=\u001b[39m \u001b[38;5;241m0\u001b[39m:\n\u001b[0;32m   1289\u001b[0m         \u001b[38;5;28;01mraise\u001b[39;00m \u001b[38;5;167;01mValueError\u001b[39;00m(\n\u001b[0;32m   1290\u001b[0m             \u001b[38;5;124m\"\u001b[39m\u001b[38;5;124mnon-zero flags not allowed in calls to recv() on \u001b[39m\u001b[38;5;132;01m%s\u001b[39;00m\u001b[38;5;124m\"\u001b[39m \u001b[38;5;241m%\u001b[39m\n\u001b[0;32m   1291\u001b[0m             \u001b[38;5;28mself\u001b[39m\u001b[38;5;241m.\u001b[39m\u001b[38;5;18m__class__\u001b[39m)\n\u001b[1;32m-> 1292\u001b[0m     \u001b[38;5;28;01mreturn\u001b[39;00m \u001b[38;5;28;43mself\u001b[39;49m\u001b[38;5;241;43m.\u001b[39;49m\u001b[43mread\u001b[49m\u001b[43m(\u001b[49m\u001b[43mbuflen\u001b[49m\u001b[43m)\u001b[49m\n\u001b[0;32m   1293\u001b[0m \u001b[38;5;28;01melse\u001b[39;00m:\n\u001b[0;32m   1294\u001b[0m     \u001b[38;5;28;01mreturn\u001b[39;00m \u001b[38;5;28msuper\u001b[39m()\u001b[38;5;241m.\u001b[39mrecv(buflen, flags)\n",
      "File \u001b[1;32mc:\\Users\\hayk_\\.conda\\envs\\youtube\\lib\\ssl.py:1165\u001b[0m, in \u001b[0;36mSSLSocket.read\u001b[1;34m(self, len, buffer)\u001b[0m\n\u001b[0;32m   1163\u001b[0m         \u001b[38;5;28;01mreturn\u001b[39;00m \u001b[38;5;28mself\u001b[39m\u001b[38;5;241m.\u001b[39m_sslobj\u001b[38;5;241m.\u001b[39mread(\u001b[38;5;28mlen\u001b[39m, buffer)\n\u001b[0;32m   1164\u001b[0m     \u001b[38;5;28;01melse\u001b[39;00m:\n\u001b[1;32m-> 1165\u001b[0m         \u001b[38;5;28;01mreturn\u001b[39;00m \u001b[38;5;28;43mself\u001b[39;49m\u001b[38;5;241;43m.\u001b[39;49m\u001b[43m_sslobj\u001b[49m\u001b[38;5;241;43m.\u001b[39;49m\u001b[43mread\u001b[49m\u001b[43m(\u001b[49m\u001b[38;5;28;43mlen\u001b[39;49m\u001b[43m)\u001b[49m\n\u001b[0;32m   1166\u001b[0m \u001b[38;5;28;01mexcept\u001b[39;00m SSLError \u001b[38;5;28;01mas\u001b[39;00m x:\n\u001b[0;32m   1167\u001b[0m     \u001b[38;5;28;01mif\u001b[39;00m x\u001b[38;5;241m.\u001b[39margs[\u001b[38;5;241m0\u001b[39m] \u001b[38;5;241m==\u001b[39m SSL_ERROR_EOF \u001b[38;5;129;01mand\u001b[39;00m \u001b[38;5;28mself\u001b[39m\u001b[38;5;241m.\u001b[39msuppress_ragged_eofs:\n",
      "\u001b[1;31mKeyboardInterrupt\u001b[0m: "
     ]
    }
   ],
   "source": [
    "translator.claude_translate_df(\"Armenian\", experiment_mode=False)"
   ]
  },
  {
   "cell_type": "code",
   "execution_count": 111,
   "id": "225e990a",
   "metadata": {},
   "outputs": [
    {
     "name": "stderr",
     "output_type": "stream",
     "text": [
      "INFO:httpx:HTTP Request: GET https://translate.googleapis.com/translate_a/single?client=gtx&sl=auto&tl=hy&hl=hy&dt=at&dt=bd&dt=ex&dt=ld&dt=md&dt=qca&dt=rw&dt=rm&dt=ss&dt=t&ie=UTF-8&oe=UTF-8&otf=1&ssel=0&tsel=0&tk=xxxx&q=Human+existence+is+scary+and+confusing.+A+few+hundred+thousand+years+ago%2C+we+became+conscious+and+found+ourselves+in+a+strange+place.+It+was+filled+with+other+beings.+We+could+eat+some%3B+some+could+eat+us.+There+was+liquid+stuff+we+could+drink%3B+things+we+could+use+to+make+more+things.+The+daytime+sky+had+a+tiny+yellow+ball+that+warmed+our+skin.+The+night+sky+was+filled+with+beautiful+lights.+This+place+was+obviously+made+for+us.+Something+was+watching+over+us.+We+were+home.+This+made+everything+much+less+scary+and+confusing.+But+the+older+we+got%2C+the+more+we+learned+about+the+world+and+ourselves.+We+learned+that+the+twinkling+lights+are+not+shining+beautifully+for+us%2C+they+just+are.+We+learned+that+we%27re+not+at+the+center+of+what+we+now+call+the+universe%2C+and+that+it+is+much%2C+much+older+than+we+thought.+We+learned+that+we%27re+made+of+many+little+dead+things%2C+which+make+up+bigger+things+that+are+not+dead%2C+for+some+reason%2C+and+that+we%27re+just+another+temporary+stage+in+a+history+going+back+over+a+billion+years.+We+learned%2C+in+awe%2C+that+we+live+on+a+moist+speck+of+dust+moving+around+a+medium-sized+star+in+a+quiet+region+of+one+arm+of+an+average+galaxy%2C+which+is+part+of+a+galaxy+group+that+we+will+never+leave.+And+this+group+is+only+one+of+thousands+that%2C+together%2C+make+up+a+galaxy+supercluster.+But+even+our+supercluster+is+only+one+in+thousands+that+make+up+what+we+call+the+observable+universe.+The+universe+might+be+a+million+times+bigger%2C+but+we+will+never+know.+We+can+throw+words+around+like+two+hundred+million+galaxies+or+trillions+of+stars+or+bazillions+of+planets%2C+but+all+of+these+numbers+mean+nothing.+Our+brains+can%27t+comprehend+these+concepts.+The+universe+is+too+big.+There+is+too+much+of+it.+But+size+is+not+the+most+troubling+concept+we+have+to+deal+with.+It%27s+time%2C+or%2C+more+precisely%2C+the+time+we+have.+If+you%27re+lucky+enough+to+live+to+one+hundred%2C+you+have+five+thousand+two+hundred+weeks+at+your+disposal.+If+you%27re+twenty-five+now%2C+then+you+have+three+thousand+nine+hundred+weeks+left.+If+you%27re+going+to+die+at+seventy%2C+then+there+are+two+thousand+three+hundred+and+forty+weeks+left+-+a+lot+of+time%2C+but+also+...+not+really.+And+then+what%3F+Your+biological+processes+will+break+down%2C+and+the+dynamic+pattern+that+is+you+will+stop+beinge+dynamic.+It+will+dissolve+until+there+is+no+you+left.+Some+believe+that+there+is+a+part+of+us+we+can%27t+see+or+measure%2C+but+we+have+no+way+to+find+out%2C+so+this+life+might+be+it+and+we+might+end+up+dead+forever.+This+is+less+scary+than+it+sounds%2C+though.+If+you+don%27t+remember+the+13.75+billion+years+that+went+by+before+you+existed%2C+Then+the+trillions+and+trillions+and+trillions+of+years+that+come+after+will+pass+in+no+time+once+you%27re+gone.+Close+your+eyes.+Count+to+1.+That%27s+how+long+forever+feels.+And+as+far+as+we+know%2C+in+the+end%2C+the+universe+itself+will+die+and+nothing+will+ever+change+again.+Our+videos+induce+existential+dread+in+many+people%2C+and+the+last+few+minutes+probably+haven%27t+helped.+So%2C+for+once%2C+we+want+to+offer+a+different+way+of+looking+at+these+things%3A+an+unscientific%2C+subjective+point+of+view%2C+the+philosophy+of+Kurzgesagt%2C+if+you+want.+Please+take+it+with+a+grain+of+salt%3B+we+don%27t+know+any+more+about+human+existence+than+you+do.+We+counter+existential+dread+with+optimistic+nihilism.+What+do+we+mean+by+that%3F+Well%2C+to+summarize%2C+it+seems+very+unlikely+that+200+trillion+trillion+stars+have+been+made+for+us.+In+a+way%2C+it+feels+like+the+cruelest+joke+in+existence+has+been+played+on+us.+We+became+self-aware+only+to+realize+this+story+is+not+about+us.+While+it+is+great+to+know+about+electrons+and+the+powerhouse+of+the+cell%2C+Science+doesn%27t+do+a+lot+to+make+this+less+depressing.+Okay%2C+but+so+what%3F+You+only+get+one+shot+at+life%2C+which+is+scary%2C+but+it+also+sets+you+free.+If+the+universe+ends+in+heat+death%2C+every+humiliation+you+suffer+in+your+life+will+be+forgotten.+Every+mistake+you+made+will+not+matter+in+the+end.+Every+bad+thing+you+did+will+be+voided.+If+our+life+is+all+we+get+to+experience%2C+then+it%27s+the+only+thing+that+matters.+If+the+universe+has+no+principles%2C+the+only+principles+relevant+are+the+ones+we+decide+on.+If+the+universe+has+no+purpose%2C+then+we+get+to+dictate+what+its+purpose+is.+Humans+will+most+certainly+cease+to+exist+at+some+point%2C+but+before+we+do%2C+we+get+to+explore+ourselves+and+the+world+around+us.+We+get+to+experience+feelings.+We+get+to+experience+food%2C+books%2C+sunrises%2C+and+being+with+each+other.+The+fact+that+we%27re+even+able+to+think+about+these+things+is+already+kind+of+incredible.+It%27s+easy+to+think+of+ourselves+as+separated+from+everything%2C+but+this+is+not+true.+We+are+as+much+the+universe+as+a+neutron+star+or+a+black+hole+or+a+nebula.+Even+better%2C+actually%2C+we+are+its+thinking+and+feeling+part%3A+the+centre+organs+of+the+universe.+We+are+truly+free+in+a+universe-sized+playground%2C+so+we+might+as+well+aim+to+be+happy+and+to+build+some+kind+of+utopia+in+the+stars.+It%27s+not+as+if+we%27ve+found+out+everything+there+is+to+know+We+don%27t+know+why+the+rules+of+the+universe+are+as+they+are%2C+how+life+came+into+existence%2C+what+life+is.+We+have+no+idea+what+consciousness+is+or+if+we+are+alone+in+the+universe.+But+we+can+try+to+find+some+answers.+There+are+billions+of+stars+to+visit%2C+diseases+to+cure%2C+people+to+help%2C+happy+feelings+to+be+experienced%2C+and+video+games+to+finish.+There+is+so+much+to+do.+So%2C+wrapping+up%2C+you%27ve+probably+used+up+a+good+chunk+of+the+time+available+to+you.+If+this+is+our+one+shot+at+life%2C+there+is+no+reason+not+to+have+fun+and+live+as+happy+as+possible.+Bonus+points+if+you+made+the+life+of+other+people+better.+More+bonus+points+if+you+help+build+a+galactic+human+empire.+Do+the+things+that+make+you+feel+good.+You+get+to+decide+whatever+this+means+for+you. \"HTTP/2 200 OK\"\n",
      "INFO:__main__:Google translation completed and saved to file.\n"
     ]
    },
    {
     "data": {
      "text/plain": [
       "'Մարդու գոյությունը սարսափելի է եւ շփոթեցնող: Մի քանի հարյուր հազար տարի առաջ մենք գիտակից դարձանք եւ հայտնվեցինք տարօրինակ վայրում: Այն լցված էր այլ էակներով: Մենք կարող էինք ուտել մի քանիսը. Ոմանք կարող էին մեզ ուտել: Հեղուկ նյութեր կար, որ կարող էինք խմել; բաներ, որոնք մենք կարող էինք օգտագործել ավելի շատ բաներ անելու համար: The երեկային երկինքը փոքրիկ դեղին գնդակ ուներ, որը տաքացրեց մեր մաշկը: Գիշերային երկինքը լցվեց գեղեցիկ լույսերով: Այս վայրն ակնհայտորեն արվեց մեզ համար: Ինչ-որ բան հետեւում էր մեզ: Մենք տուն էինք: Սա ամեն ինչ շատ ավելի քիչ վախեցավ եւ շփոթեցնող: Բայց ավելի հինացանք, այնքան ավելի շատ իմացանք աշխարհի եւ մեր մասին: Տեղեկացանք, որ շողշողացող լույսերը գեղեցիկ չեն փայլում մեզ համար, նրանք պարզապես են: Մենք իմացանք, որ մենք այն կենտրոնում չենք, թե ինչն ենք այժմ անվանում տիեզերք, եւ որ այն շատ ավելի հին է, քան կարծում ենք: Մենք իմացանք, որ մենք պատրաստված ենք շատ փոքր մեռած բաներից, որոնք կազմում են ավելի մեծ բաներ, որոնք ինչ-ինչ պատճառներով մեռած չեն, եւ որ մենք եւս մեկ միլիարդ տարի վերադառնում ենք պատմության մեջ մեկ այլ ժամանակավոր փուլ: Մենք սովորեցինք, վախենում, որ մենք ապրում ենք փոշու խոնավ բծերի վրա, որոնք շարժվում են միջին չափի աստղի շուրջը միջին գալակտիկայի մեկ բազայի հանգիստ մարզում, որը գալակտիկայի խմբի մի մասն է, որը մենք երբեք չենք հեռանա: Եվ այս խումբը հազարից միայն մեկն է, որ միասին կազմում է գալակտիկայի սուպերլաստեր: Բայց նույնիսկ մեր սուպերմարկետը հազարավոր մարդիկ են, որոնք կազմում են այն, ինչ մենք անվանում ենք դիտորդ տիեզերք: Տիեզերքը կարող է միլիոն անգամ ավելի մեծ լինել, բայց մենք երբեք չենք իմանա: Մենք կարող ենք բառեր նետել երկու հարյուր միլիոն գալակտիկաների կամ տհաճ աստղերի կամ մոլորակների երթեւեկության պես, բայց այս բոլոր համարները ոչինչ չեն նշանակում: Մեր ուղեղը չի կարող հասկանալ այս հասկացությունները: Տիեզերքը չափազանց մեծ է: Դրանից շատ բան կա: Բայց չափը ամենաուշակալի գաղափարը չէ, որի հետ մենք պետք է գործ ունենանք: Ժամանակն է, կամ ավելի ճիշտ, մեր ունեցած ժամանակը: Եթե \\u200b\\u200bբավականաչափ հաջողակ եք հարյուր հարյուր ապրելու համար, ձեր տրամադրության տակ ունեք հինգ հազար երկու հարյուր շաբաթ: Եթե \\u200b\\u200bհիմա քսանհինգ տարեկան եք, ապա մնացել եք երեք հազար ինը հարյուր շաբաթ: Եթե \\u200b\\u200bդուք մեռնեք յոթանասունից, ապա մնացել է երկու հազար երեք հարյուր քառասուն շաբաթ, շատ ժամանակ, բայց նաեւ ... իրականում: Եվ հետո ինչ: Ձեր կենսաբանական գործընթացները կխորտակվեն, եւ դինամիկ օրինակը, որը դուք կդադարեցնեք դինամիկ մնալ: Դա կվերածվի այնքան ժամանակ, քանի դեռ չեք մնացել: Ոմանք կարծում են, որ մեզանից մի մասն կա, մենք չենք կարող տեսնել կամ չափել, բայց մենք պարզելու միջոց չենք, ուստի այս կյանքը կարող է հավերժ մեռել: Սա պակաս սարսափելի է, քան հնչում է: Եթե \\u200b\\u200bդուք չեք հիշում 13,75 միլիարդ տարի, որը անցել է նախքան գոյություն ունենալը, ապա այն տհաճ ու տհաճ տարիներ, որոնք գալիս են այն բանից հետո, երբ կանցնեն ոչ մի անգամ, երբ դուք չեք գնացել: Փակեք ձեր աչքերը: Հաշվեք 1-ին: Դա ինչքան է զգում ընդմիշտ: Եվ որքանով մենք գիտենք, վերջում տիեզերքն ինքնին կմեռնի, եւ ոչինչ այլեւս ոչինչ չի փոխվի: Մեր տեսանյութերը շատ մարդկանց մեջ առաջացնում են գոյություն ունեցող վախ, եւ վերջին մի քանի րոպեները, հավանաբար, չեն օգնել: Այսպիսով, մեկ անգամ, մենք ուզում ենք առաջարկել այս բաները նայելու այլ եղանակ, անիմաստ, սուբյեկտիվ տեսակետ, եթե ցանկանում եք kurzgesagt- ի փիլիսոփայությունը: Խնդրում ենք վերցնել այն հացահատիկով աղով. Մենք այլեւս չգիտենք մարդկային գոյության մասին, քան դուք: Մենք հակասում ենք գոյություն ունեցող վախի, լավատեսական նիհիլիզմով: Ինչ նկատի ունենք դրանով: Դե, ամփոփելու համար, կարծես թե շատ քիչ հավանական է, որ 200 տրիլիոն տրիլիոն աստղ արվել է մեզ համար: Ինչ-որ կերպ զգում է, որ մեզ վրա խաղացել են գոյության դաժան կատակներ: Մենք ինքնասիրահարվեցինք միայն այս պատմությունը գիտակցելու համար մեր մասին չէ: Թեեւ հիանալի է իմանալ էլեկտրոնների եւ բջիջի էլեկտրակայանի մասին, գիտությունը շատ բան չի անում այս պակաս ճնշող դարձնելու համար: Լավ, բայց ինչ? Դուք միայն մեկ կրակոց եք ստանում կյանքում, ինչը սարսափելի է, բայց այն նաեւ ձեզ ազատ է դնում: Եթե \\u200b\\u200bտիեզերքն ավարտվի ջերմության մեջ, ձեր կյանքի մեջ տառապող յուրաքանչյուր նվաստացում կմղչի: Վերջում ձեր կատարած յուրաքանչյուր սխալ նշանակություն չունի: Ձեր արած յուրաքանչյուր վատ բան կհեռացվի: Եթե \\u200b\\u200bմեր կյանքը այն ամենն է, ինչ մենք զգում ենք, ապա դա միակ բանն է, որ կարեւոր է: Եթե \\u200b\\u200bտիեզերքը չունի սկզբունքներ, ապա միակ սկզբունքներն են, որոնց մասին մենք որոշում ենք: Եթե \\u200b\\u200bտիեզերքը նպատակ չունի, ապա մենք պետք է թելադրենք, թե որն է դրա նպատակը: Մարդիկ, անշուշտ, կդադարեն ինչ-որ պահի գոյություն ունենալ, բայց նախքան մենք անենք, մենք պետք է ուսումնասիրենք մեր եւ մեր շրջապատի աշխարհը: Մենք ստանում ենք զգացմունքներ զգալու համար: Մենք ստանում ենք զգալու սնունդ, գրքեր, արեւածագ եւ միմյանց հետ լինելը: Այն փաստը, որ մենք նույնիսկ կարողանում ենք մտածել այս բաների մասին, արդեն անհավատալի է: Հեշտ է մտածել ինքներս մեզ մասին, ինչպես ամեն ինչից առանձնացված, բայց դա ճիշտ չէ: Մենք նույնքան տիեզերք ենք, որքան նեյտրոնային աստղը կամ սեւ անցքը կամ միգամած: Նույնիսկ ավելի լավ, իրականում մենք նրա մտածելակերպն ու զգում ենք մաս. Տիեզերքի կենտրոնական օրգանները: Մենք իսկապես ազատ ենք տիեզերքի չափի խաղահրապարակում, այնպես որ մենք կարող ենք նաեւ երջանիկ լինել եւ աստղերում կառուցել ինչ-որ ուտոպիա: Ասես մենք պարզեցինք, որ այնտեղ ամեն ինչ կա, որ չգիտենք, թե ինչու են տիեզերքի կանոնները այնպես, ինչպես նրանք են, ինչ է կյանքը: Մենք գաղափար չունենք, թե ինչ գիտակցություն է, կամ եթե մենք միայնակ ենք տիեզերքում: Բայց մենք կարող ենք փորձել գտնել որոշ պատասխաններ: Կան միլիարդավոր աստղեր այցելելու, բուժելու հիվանդություններ, մարդիկ, ովքեր կօգնեն զգույշ լինել, եւ տեսախաղերը կավարտվեն: Դա շատ անելիքներ կան: Այսպիսով, փաթաթվելով, դուք հավանաբար օգտագործել եք ձեզ համար մատչելի ժամանակի լավ կտոր: Եթե \\u200b\\u200bսա մեր մեկ կրակոցն է կյանքում, պատճառ չկա, որ հնարավորինս երջանիկ չլինեն եւ ապրեն: Բոնուսային միավորներ, եթե ավելի լավ եք դարձրել այլ մարդկանց կյանքը: Ավելի շատ բոնուսային միավորներ, եթե օգնում եք ստեղծել գալակտիկական մարդկային կայսրություն: Կատարեք այն բաները, որոնք ձեզ լավ են զգում: Դուք պետք է որոշեք այն, ինչ դա նշանակում է ձեզ համար:'"
      ]
     },
     "execution_count": 111,
     "metadata": {},
     "output_type": "execute_result"
    }
   ],
   "source": [
    "await translator.google_translate()"
   ]
  },
  {
   "cell_type": "code",
   "execution_count": null,
   "id": "1fe1b6fd",
   "metadata": {},
   "outputs": [],
   "source": [
    "await translator.google_translate_df(\"hy\")"
   ]
  },
  {
   "cell_type": "code",
   "execution_count": null,
   "id": "755c648d",
   "metadata": {},
   "outputs": [
    {
     "ename": "AttributeError",
     "evalue": "'Anthropic' object has no attribute 'chat'",
     "output_type": "error",
     "traceback": [
      "\u001b[1;31m---------------------------------------------------------------------------\u001b[0m",
      "\u001b[1;31mAttributeError\u001b[0m                            Traceback (most recent call last)",
      "Cell \u001b[1;32mIn[80], line 1\u001b[0m\n\u001b[1;32m----> 1\u001b[0m \u001b[43mtranslator\u001b[49m\u001b[38;5;241;43m.\u001b[39;49m\u001b[43mclaude_translate\u001b[49m\u001b[43m(\u001b[49m\u001b[38;5;124;43m\"\u001b[39;49m\u001b[38;5;124;43mArmenian\u001b[39;49m\u001b[38;5;124;43m\"\u001b[39;49m\u001b[43m)\u001b[49m\n",
      "Cell \u001b[1;32mIn[76], line 49\u001b[0m, in \u001b[0;36mTranslate.claude_translate\u001b[1;34m(self, target_lang, experiment_mode)\u001b[0m\n\u001b[0;32m     47\u001b[0m \u001b[38;5;28;01melse\u001b[39;00m:\n\u001b[0;32m     48\u001b[0m     text_to_translate \u001b[38;5;241m=\u001b[39m \u001b[38;5;28mself\u001b[39m\u001b[38;5;241m.\u001b[39mtr\u001b[38;5;241m.\u001b[39mtext\n\u001b[1;32m---> 49\u001b[0m response \u001b[38;5;241m=\u001b[39m \u001b[38;5;28;43mself\u001b[39;49m\u001b[38;5;241;43m.\u001b[39;49m\u001b[43mclient\u001b[49m\u001b[38;5;241;43m.\u001b[39;49m\u001b[43mchat\u001b[49m\u001b[38;5;241m.\u001b[39mcompletions\u001b[38;5;241m.\u001b[39mcreate(\n\u001b[0;32m     50\u001b[0m     model\u001b[38;5;241m=\u001b[39m\u001b[38;5;28mself\u001b[39m\u001b[38;5;241m.\u001b[39mmodel,\n\u001b[0;32m     51\u001b[0m     messages\u001b[38;5;241m=\u001b[39m[\n\u001b[0;32m     52\u001b[0m         {\u001b[38;5;124m\"\u001b[39m\u001b[38;5;124mrole\u001b[39m\u001b[38;5;124m\"\u001b[39m: \u001b[38;5;124m\"\u001b[39m\u001b[38;5;124muser\u001b[39m\u001b[38;5;124m\"\u001b[39m, \u001b[38;5;124m\"\u001b[39m\u001b[38;5;124mcontent\u001b[39m\u001b[38;5;124m\"\u001b[39m: \u001b[38;5;124mf\u001b[39m\u001b[38;5;124m\"\u001b[39m\u001b[38;5;124mTranslate the following text to \u001b[39m\u001b[38;5;132;01m{\u001b[39;00mtarget_lang\u001b[38;5;132;01m}\u001b[39;00m\u001b[38;5;124m. \u001b[39m\u001b[38;5;130;01m\\n\u001b[39;00m\u001b[38;5;130;01m\\n\u001b[39;00m\u001b[38;5;132;01m{\u001b[39;00mtext_to_translate\u001b[38;5;132;01m}\u001b[39;00m\u001b[38;5;124m\"\u001b[39m}\n\u001b[0;32m     53\u001b[0m     ]\n\u001b[0;32m     54\u001b[0m )\n\u001b[0;32m     55\u001b[0m \u001b[38;5;28;01mreturn\u001b[39;00m response\u001b[38;5;241m.\u001b[39mchoices[\u001b[38;5;241m0\u001b[39m]\u001b[38;5;241m.\u001b[39mmessage\u001b[38;5;241m.\u001b[39mcontent\n",
      "\u001b[1;31mAttributeError\u001b[0m: 'Anthropic' object has no attribute 'chat'"
     ]
    }
   ],
   "source": []
  },
  {
   "cell_type": "code",
   "execution_count": null,
   "id": "775381b3",
   "metadata": {},
   "outputs": [],
   "source": [
    "gt = await google_translate(t.text, \"hy\")"
   ]
  },
  {
   "cell_type": "code",
   "execution_count": 52,
   "id": "ba8b49d4",
   "metadata": {},
   "outputs": [],
   "source": [
    "df_translated = await translate_df(t.srt_df, \"hy\")"
   ]
  },
  {
   "cell_type": "code",
   "execution_count": 53,
   "id": "fd50d32f",
   "metadata": {},
   "outputs": [
    {
     "data": {
      "application/vnd.microsoft.datawrangler.viewer.v0+json": {
       "columns": [
        {
         "name": "index",
         "rawType": "int64",
         "type": "integer"
        },
        {
         "name": "index",
         "rawType": "object",
         "type": "string"
        },
        {
         "name": "time_range",
         "rawType": "object",
         "type": "string"
        },
        {
         "name": "text",
         "rawType": "object",
         "type": "string"
        },
        {
         "name": "translated_text",
         "rawType": "object",
         "type": "string"
        }
       ],
       "ref": "59ed5486-d109-40d8-a001-750deb1d9563",
       "rows": [
        [
         "0",
         "1",
         "00:00:00,520 --> 00:00:04,019",
         "Human existence is scary and confusing.",
         "Մարդու գոյությունը սարսափելի է եւ շփոթեցնող:"
        ],
        [
         "1",
         "2",
         "00:00:04,019 --> 00:00:09,600",
         "A few hundred thousand years ago, we became conscious and found ourselves in a strange place.",
         "Մի քանի հարյուր հազար տարի առաջ մենք գիտակից դարձանք եւ հայտնվեցինք տարօրինակ վայրում:"
        ],
        [
         "2",
         "3",
         "00:00:09,600 --> 00:00:14,820",
         "It was filled with other beings. We could eat some; some could eat us.",
         "Այն լցված էր այլ էակներով: Մենք կարող էինք ուտել մի քանիսը. Ոմանք կարող էին մեզ ուտել:"
        ],
        [
         "3",
         "4",
         "00:00:14,820 --> 00:00:19,500",
         "There was liquid stuff we could drink; things we could use to make more things.",
         "Հեղուկ նյութեր կար, որ կարող էինք խմել; բաներ, որոնք մենք կարող էինք օգտագործել ավելի շատ բաներ անելու համար:"
        ],
        [
         "4",
         "5",
         "00:00:19,500 --> 00:00:22,900",
         "The daytime sky had a tiny yellow ball that warmed our skin.",
         "The երեկային երկինքը փոքրիկ դեղին գնդակ ուներ, որը տաքացրեց մեր մաշկը:"
        ],
        [
         "5",
         "6",
         "00:00:22,900 --> 00:00:25,620",
         "The night sky was filled with beautiful lights.",
         "Գիշերային երկինքը լցվեց գեղեցիկ լույսերով:"
        ],
        [
         "6",
         "7",
         "00:00:25,620 --> 00:00:28,100",
         "This place was obviously made for us.",
         "Այս վայրն ակնհայտորեն արվեց մեզ համար:"
        ],
        [
         "7",
         "8",
         "00:00:28,100 --> 00:00:29,940",
         "Something was watching over us.",
         "Ինչ-որ բան հետեւում էր մեզ:"
        ],
        [
         "8",
         "9",
         "00:00:29,940 --> 00:00:35,020",
         "We were home. This made everything much less scary and confusing.",
         "Մենք տուն էինք: Սա ամեն ինչ շատ ավելի քիչ վախեցավ եւ շփոթեցնող:"
        ],
        [
         "9",
         "10",
         "00:00:35,020 --> 00:00:38,960",
         "But the older we got, the more we learned about the world and ourselves.",
         "Բայց ավելի հինացանք, այնքան ավելի շատ իմացանք աշխարհի եւ մեր մասին:"
        ],
        [
         "10",
         "11",
         "00:00:38,960 --> 00:00:43,660",
         "We learned that the twinkling lights are not shining beautifully for us, they just are.",
         "Տեղեկացանք, որ շողշողացող լույսերը գեղեցիկ չեն փայլում մեզ համար, նրանք պարզապես են:"
        ],
        [
         "11",
         "12",
         "00:00:43,660 --> 00:00:46,840",
         "We learned that we're not at the center of what we now call the universe,",
         "Մենք իմացանք, որ մենք այն կենտրոնում չենք, թե ինչն ենք այժմ անվանում տիեզերք,"
        ],
        [
         "12",
         "13",
         "00:00:46,840 --> 00:00:49,900",
         "and that it is much, much older than we thought.",
         "Եվ որ այն շատ ավելի հին է, քան կարծում էինք:"
        ],
        [
         "13",
         "14",
         "00:00:49,900 --> 00:00:52,600",
         "We learned that we're made of many little dead things,",
         "Մենք իմացանք, որ մենք պատրաստված ենք շատ փոքր մեռած իրերից,"
        ],
        [
         "14",
         "15",
         "00:00:52,600 --> 00:00:55,680",
         "which make up bigger things that are not dead, for some reason,",
         "որոնք կազմում են ավելի մեծ բաներ, որոնք ինչ-ինչ պատճառներով մեռած չեն,"
        ],
        [
         "15",
         "16",
         "00:00:55,680 --> 00:01:01,380",
         "and that we're just another temporary stage in a history going back over a billion years.",
         "Եվ որ մենք պարզապես մեկ այլ ժամանակավոր փուլ ենք, ավելի քան մեկ միլիարդ տարի վերադառնալու պատմության մեջ:"
        ],
        [
         "16",
         "17",
         "00:01:01,380 --> 00:01:06,320",
         "We learned, in awe, that we live on a moist speck of dust moving around a medium-sized star",
         "Մենք սովորեցինք, վախի մեջ, որ մենք ապրում ենք փոշու խոնավ բծերի վրա, որը շարժվում է միջին չափի աստղի շուրջը"
        ],
        [
         "17",
         "18",
         "00:01:06,320 --> 00:01:11,840",
         "in a quiet region of one arm of an average galaxy, which is part of a galaxy group that we will never leave.",
         "Միջին գալակտիկայի մեկ ձեռքի հանգիստ շրջանում, որը գալակտիկայի խմբի մի մասն է, որը մենք երբեք չենք հեռանա:"
        ],
        [
         "18",
         "19",
         "00:01:11,840 --> 00:01:16,720",
         "And this group is only one of thousands that, together, make up a galaxy supercluster.",
         "Եվ այս խումբը հազարից միայն մեկն է, որ միասին կազմում է գալակտիկայի սուպերլաստեր:"
        ],
        [
         "19",
         "20",
         "00:01:16,720 --> 00:01:22,860",
         "But even our supercluster is only one in thousands that make up what we call the observable universe.",
         "Բայց նույնիսկ մեր սուպերմարկետը հազարավոր մարդիկ են, որոնք կազմում են այն, ինչ մենք անվանում ենք դիտորդ տիեզերք:"
        ],
        [
         "20",
         "21",
         "00:01:22,860 --> 00:01:27,580",
         "The universe might be a million times bigger, but we will never know.",
         "Տիեզերքը կարող է միլիոն անգամ ավելի մեծ լինել, բայց մենք երբեք չենք իմանա:"
        ],
        [
         "21",
         "22",
         "00:01:27,580 --> 00:01:30,740",
         "We can throw words around like two hundred million galaxies",
         "Մենք կարող ենք բառեր նետել երկու հարյուր միլիոն գալակտիկաների նման"
        ],
        [
         "22",
         "23",
         "00:01:30,740 --> 00:01:33,560",
         "or trillions of stars or bazillions of planets,",
         "կամ տրիլիոններ աստղեր կամ մոլորակների բազիլիոններ,"
        ],
        [
         "23",
         "24",
         "00:01:33,560 --> 00:01:38,240",
         "but all of these numbers mean nothing. Our brains can't comprehend these concepts.",
         "Բայց այս բոլոր համարները ոչինչ չեն նշանակում: Մեր ուղեղը չի կարող հասկանալ այս հասկացությունները:"
        ],
        [
         "24",
         "25",
         "00:01:38,240 --> 00:01:42,000",
         "The universe is too big. There is too much of it.",
         "Տիեզերքը չափազանց մեծ է: Դրանից շատ բան կա:"
        ],
        [
         "25",
         "26",
         "00:01:42,000 --> 00:01:45,520",
         "But size is not the most troubling concept we have to deal with.",
         "Բայց չափը ամենաուշակալի գաղափարը չէ, որի հետ մենք պետք է գործ ունենանք:"
        ],
        [
         "26",
         "27",
         "00:01:45,520 --> 00:01:49,380",
         "It's time, or, more precisely, the time we have.",
         "Ժամանակն է, կամ ավելի ճիշտ, մեր ունեցած ժամանակը:"
        ],
        [
         "27",
         "28",
         "00:01:49,960 --> 00:01:51,960",
         "If you're lucky enough to live to one hundred,",
         "Եթե ​​բավականաչափ հաջողակ եք ապրելու հարյուր,"
        ],
        [
         "28",
         "29",
         "00:01:51,960 --> 00:01:55,120",
         "you have five thousand two hundred weeks at your disposal.",
         "Ձեր տրամադրության տակ ունեք հինգ հազար երկու հարյուր շաբաթ:"
        ],
        [
         "29",
         "30",
         "00:01:55,120 --> 00:01:59,960",
         "If you're twenty-five now, then you have three thousand nine hundred weeks left.",
         "Եթե ​​հիմա քսանհինգ տարեկան եք, ապա մնացել եք երեք հազար ինը հարյուր շաբաթ:"
        ],
        [
         "30",
         "31",
         "00:01:59,960 --> 00:02:05,800",
         "If you're going to die at seventy, then there are two thousand three hundred and forty weeks left -",
         "Եթե ​​դուք կմեռնեք յոթանասունից, ապա մնացել է երկու հազար երեք հարյուր քառասուն շաբաթ:"
        ],
        [
         "31",
         "32",
         "00:02:05,800 --> 00:02:08,760",
         "a lot of time, but also ... not really.",
         "Շատ ժամանակ, բայց նաեւ ... իրականում:"
        ],
        [
         "32",
         "33",
         "00:02:09,460 --> 00:02:10,700",
         "And then what?",
         "Եվ հետո ինչ:"
        ],
        [
         "33",
         "34",
         "00:02:10,940 --> 00:02:13,740",
         "Your biological processes will break down,",
         "Ձեր կենսաբանական գործընթացները կխորտակվեն,"
        ],
        [
         "34",
         "35",
         "00:02:13,740 --> 00:02:17,060",
         "and the dynamic pattern that is you will stop beinge dynamic.",
         "Եվ դինամիկ օրինակը, որը դուք կդադարեցնեք դինամիկ մնալ:"
        ],
        [
         "35",
         "36",
         "00:02:17,060 --> 00:02:20,580",
         "It will dissolve until there is no you left.",
         "Դա կվերածվի այնքան ժամանակ, քանի դեռ չեք մնացել:"
        ],
        [
         "36",
         "37",
         "00:02:20,580 --> 00:02:23,935",
         "Some believe that there is a part of us we can't see or measure,",
         "Ոմանք կարծում են, որ մեզանից մի մասը մենք չենք կարող տեսնել կամ չափել,"
        ],
        [
         "37",
         "38",
         "00:02:23,940 --> 00:02:28,220",
         "but we have no way to find out, so this life might be it",
         "Բայց մենք պարզելու միջոց չենք, ուստի այս կյանքը կարող է լինել"
        ],
        [
         "38",
         "39",
         "00:02:28,220 --> 00:02:30,800",
         "and we might end up dead forever.",
         "Եվ մենք կարող ենք հավերժ մեռել:"
        ],
        [
         "39",
         "40",
         "00:02:30,800 --> 00:02:33,180",
         "This is less scary than it sounds, though.",
         "Սա պակաս սարսափելի է, քան հնչում է:"
        ],
        [
         "40",
         "41",
         "00:02:33,180 --> 00:02:37,720",
         "If you don't remember the 13.75 billion years that went by before you existed,",
         "Եթե ​​դուք չեք հիշում 13,75 միլիարդ տարի, որը անցել է նախքան գոյություն ունենալը,"
        ],
        [
         "41",
         "42",
         "00:02:37,720 --> 00:02:43,980",
         "Then the trillions and trillions and trillions of years that come after will pass in no time once you're gone.",
         "Ապա տհաճ ու տրիլիոններ եւ տրիլիոններ եւ տհաճ տարիներ, որոնք տեղի են ունենում այն ​​բանից հետո, երբ դուք չեք անցնի:"
        ],
        [
         "42",
         "43",
         "00:02:43,980 --> 00:02:46,840",
         "Close your eyes. Count to 1.",
         "Փակեք ձեր աչքերը: Հաշվել 1-ին:"
        ],
        [
         "43",
         "44",
         "00:02:47,400 --> 00:02:49,560",
         "That's how long forever feels.",
         "Դա ինչքան է զգում ընդմիշտ:"
        ],
        [
         "44",
         "45",
         "00:02:49,980 --> 00:02:55,680",
         "And as far as we know, in the end, the universe itself will die and nothing will ever change again.",
         "Եվ որքանով մենք գիտենք, վերջում տիեզերքն ինքնին կմեռնի, եւ ոչինչ այլեւս ոչինչ չի փոխվի:"
        ],
        [
         "45",
         "46",
         "00:02:56,380 --> 00:02:59,320",
         "Our videos induce existential dread in many people,",
         "Մեր տեսանյութերը շատ մարդկանց մեջ առաջացնում են գոյություն ունեցող վախ,"
        ],
        [
         "46",
         "47",
         "00:02:59,320 --> 00:03:01,560",
         "and the last few minutes probably haven't helped.",
         "Եվ վերջին մի քանի րոպեները, հավանաբար, չեն օգնել:"
        ],
        [
         "47",
         "48",
         "00:03:01,880 --> 00:03:05,380",
         "So, for once, we want to offer a different way of looking at these things:",
         "Այսպիսով, մեկ անգամ մենք ուզում ենք այլ կերպ առաջարկել այս բաները նայելու համար."
        ],
        [
         "48",
         "49",
         "00:03:05,380 --> 00:03:10,760",
         "an unscientific, subjective point of view, the philosophy of Kurzgesagt, if you want.",
         "Եթե ​​ցանկանում եք, քրտնաջան, սուբյեկտիվ տեսակետ, Kurzgesagt- ի փիլիսոփայությունը:"
        ],
        [
         "49",
         "50",
         "00:03:10,760 --> 00:03:15,540",
         "Please take it with a grain of salt; we don't know any more about human existence than you do.",
         "Խնդրում ենք վերցնել այն հացահատիկով աղով. Մենք այլեւս չգիտենք մարդկային գոյության մասին, քան դուք:"
        ]
       ],
       "shape": {
        "columns": 4,
        "rows": 91
       }
      },
      "text/html": [
       "<div>\n",
       "<style scoped>\n",
       "    .dataframe tbody tr th:only-of-type {\n",
       "        vertical-align: middle;\n",
       "    }\n",
       "\n",
       "    .dataframe tbody tr th {\n",
       "        vertical-align: top;\n",
       "    }\n",
       "\n",
       "    .dataframe thead th {\n",
       "        text-align: right;\n",
       "    }\n",
       "</style>\n",
       "<table border=\"1\" class=\"dataframe\">\n",
       "  <thead>\n",
       "    <tr style=\"text-align: right;\">\n",
       "      <th></th>\n",
       "      <th>index</th>\n",
       "      <th>time_range</th>\n",
       "      <th>text</th>\n",
       "      <th>translated_text</th>\n",
       "    </tr>\n",
       "  </thead>\n",
       "  <tbody>\n",
       "    <tr>\n",
       "      <th>0</th>\n",
       "      <td>1</td>\n",
       "      <td>00:00:00,520 --&gt; 00:00:04,019</td>\n",
       "      <td>Human existence is scary and confusing.</td>\n",
       "      <td>Մարդու գոյությունը սարսափելի է եւ շփոթեցնող:</td>\n",
       "    </tr>\n",
       "    <tr>\n",
       "      <th>1</th>\n",
       "      <td>2</td>\n",
       "      <td>00:00:04,019 --&gt; 00:00:09,600</td>\n",
       "      <td>A few hundred thousand years ago, we became co...</td>\n",
       "      <td>Մի քանի հարյուր հազար տարի առաջ մենք գիտակից դ...</td>\n",
       "    </tr>\n",
       "    <tr>\n",
       "      <th>2</th>\n",
       "      <td>3</td>\n",
       "      <td>00:00:09,600 --&gt; 00:00:14,820</td>\n",
       "      <td>It was filled with other beings. We could eat ...</td>\n",
       "      <td>Այն լցված էր այլ էակներով: Մենք կարող էինք ուտ...</td>\n",
       "    </tr>\n",
       "    <tr>\n",
       "      <th>3</th>\n",
       "      <td>4</td>\n",
       "      <td>00:00:14,820 --&gt; 00:00:19,500</td>\n",
       "      <td>There was liquid stuff we could drink; things ...</td>\n",
       "      <td>Հեղուկ նյութեր կար, որ կարող էինք խմել; բաներ,...</td>\n",
       "    </tr>\n",
       "    <tr>\n",
       "      <th>4</th>\n",
       "      <td>5</td>\n",
       "      <td>00:00:19,500 --&gt; 00:00:22,900</td>\n",
       "      <td>The daytime sky had a tiny yellow ball that wa...</td>\n",
       "      <td>The երեկային երկինքը փոքրիկ դեղին գնդակ ուներ,...</td>\n",
       "    </tr>\n",
       "    <tr>\n",
       "      <th>...</th>\n",
       "      <td>...</td>\n",
       "      <td>...</td>\n",
       "      <td>...</td>\n",
       "      <td>...</td>\n",
       "    </tr>\n",
       "    <tr>\n",
       "      <th>86</th>\n",
       "      <td>87</td>\n",
       "      <td>00:05:32,940 --&gt; 00:05:37,040</td>\n",
       "      <td>If this is our one shot at life, there is no r...</td>\n",
       "      <td>Եթե ​​սա մեր մեկ կրակոցն է կյանքում, ապա պատճա...</td>\n",
       "    </tr>\n",
       "    <tr>\n",
       "      <th>87</th>\n",
       "      <td>88</td>\n",
       "      <td>00:05:37,040 --&gt; 00:05:38,840</td>\n",
       "      <td>and live as happy as possible.</td>\n",
       "      <td>եւ ապրեք հնարավորինս երջանիկ:</td>\n",
       "    </tr>\n",
       "    <tr>\n",
       "      <th>88</th>\n",
       "      <td>89</td>\n",
       "      <td>00:05:39,460 --&gt; 00:05:42,400</td>\n",
       "      <td>Bonus points if you made the life of other peo...</td>\n",
       "      <td>Բոնուսային միավորներ, եթե ավելի լավ եք դարձրել...</td>\n",
       "    </tr>\n",
       "    <tr>\n",
       "      <th>89</th>\n",
       "      <td>90</td>\n",
       "      <td>00:05:42,400 --&gt; 00:05:45,980</td>\n",
       "      <td>More bonus points if you help build a galactic...</td>\n",
       "      <td>Ավելի շատ բոնուսային միավորներ, եթե օգնում եք ...</td>\n",
       "    </tr>\n",
       "    <tr>\n",
       "      <th>90</th>\n",
       "      <td>91</td>\n",
       "      <td>00:05:46,680 --&gt; 00:05:49,320</td>\n",
       "      <td>Do the things that make you feel good.</td>\n",
       "      <td>Կատարեք այն բաները, որոնք ձեզ լավ են զգում:</td>\n",
       "    </tr>\n",
       "  </tbody>\n",
       "</table>\n",
       "<p>91 rows × 4 columns</p>\n",
       "</div>"
      ],
      "text/plain": [
       "   index                     time_range  \\\n",
       "0      1  00:00:00,520 --> 00:00:04,019   \n",
       "1      2  00:00:04,019 --> 00:00:09,600   \n",
       "2      3  00:00:09,600 --> 00:00:14,820   \n",
       "3      4  00:00:14,820 --> 00:00:19,500   \n",
       "4      5  00:00:19,500 --> 00:00:22,900   \n",
       "..   ...                            ...   \n",
       "86    87  00:05:32,940 --> 00:05:37,040   \n",
       "87    88  00:05:37,040 --> 00:05:38,840   \n",
       "88    89  00:05:39,460 --> 00:05:42,400   \n",
       "89    90  00:05:42,400 --> 00:05:45,980   \n",
       "90    91  00:05:46,680 --> 00:05:49,320   \n",
       "\n",
       "                                                 text  \\\n",
       "0             Human existence is scary and confusing.   \n",
       "1   A few hundred thousand years ago, we became co...   \n",
       "2   It was filled with other beings. We could eat ...   \n",
       "3   There was liquid stuff we could drink; things ...   \n",
       "4   The daytime sky had a tiny yellow ball that wa...   \n",
       "..                                                ...   \n",
       "86  If this is our one shot at life, there is no r...   \n",
       "87                     and live as happy as possible.   \n",
       "88  Bonus points if you made the life of other peo...   \n",
       "89  More bonus points if you help build a galactic...   \n",
       "90             Do the things that make you feel good.   \n",
       "\n",
       "                                      translated_text  \n",
       "0        Մարդու գոյությունը սարսափելի է եւ շփոթեցնող:  \n",
       "1   Մի քանի հարյուր հազար տարի առաջ մենք գիտակից դ...  \n",
       "2   Այն լցված էր այլ էակներով: Մենք կարող էինք ուտ...  \n",
       "3   Հեղուկ նյութեր կար, որ կարող էինք խմել; բաներ,...  \n",
       "4   The երեկային երկինքը փոքրիկ դեղին գնդակ ուներ,...  \n",
       "..                                                ...  \n",
       "86  Եթե ​​սա մեր մեկ կրակոցն է կյանքում, ապա պատճա...  \n",
       "87                      եւ ապրեք հնարավորինս երջանիկ:  \n",
       "88  Բոնուսային միավորներ, եթե ավելի լավ եք դարձրել...  \n",
       "89  Ավելի շատ բոնուսային միավորներ, եթե օգնում եք ...  \n",
       "90        Կատարեք այն բաները, որոնք ձեզ լավ են զգում:  \n",
       "\n",
       "[91 rows x 4 columns]"
      ]
     },
     "execution_count": 53,
     "metadata": {},
     "output_type": "execute_result"
    }
   ],
   "source": [
    "df_translated"
   ]
  },
  {
   "cell_type": "code",
   "execution_count": 18,
   "id": "0dbb84b2",
   "metadata": {},
   "outputs": [],
   "source": [
    "ma = Channel(\"https://www.youtube.com/@MetricAcademy\")"
   ]
  },
  {
   "cell_type": "code",
   "execution_count": 19,
   "id": "77e5e044",
   "metadata": {},
   "outputs": [],
   "source": [
    "# playlists = ma.playlists\n",
    "# print(len(playlists))"
   ]
  },
  {
   "cell_type": "code",
   "execution_count": null,
   "id": "57110f79",
   "metadata": {},
   "outputs": [],
   "source": [
    "# for pl in playlists:\n",
    "# \tprint(pl.title)\n",
    "    "
   ]
  },
  {
   "cell_type": "code",
   "execution_count": 21,
   "id": "9f4137a0",
   "metadata": {},
   "outputs": [],
   "source": [
    "ma = pytubefix.Channel(\"https://www.youtube.com/@MetricAcademy\")"
   ]
  },
  {
   "cell_type": "code",
   "execution_count": 22,
   "id": "39e03842",
   "metadata": {},
   "outputs": [],
   "source": [
    "videos = ma.video_urls"
   ]
  },
  {
   "cell_type": "code",
   "execution_count": null,
   "id": "766241ad",
   "metadata": {},
   "outputs": [],
   "source": [
    "len(videos)"
   ]
  },
  {
   "cell_type": "code",
   "execution_count": null,
   "id": "1d4a9074",
   "metadata": {},
   "outputs": [],
   "source": []
  },
  {
   "cell_type": "code",
   "execution_count": 8,
   "id": "313334d8",
   "metadata": {},
   "outputs": [
    {
     "name": "stdout",
     "output_type": "stream",
     "text": [
      "Only the following languages are available: KeysView({})\n"
     ]
    },
    {
     "ename": "ValueError",
     "evalue": "No captions available for language: a.hy",
     "output_type": "error",
     "traceback": [
      "\u001b[1;31m---------------------------------------------------------------------------\u001b[0m",
      "\u001b[1;31mValueError\u001b[0m                                Traceback (most recent call last)",
      "Cell \u001b[1;32mIn[8], line 6\u001b[0m\n\u001b[0;32m      3\u001b[0m video_url \u001b[38;5;241m=\u001b[39m \u001b[38;5;124m\"\u001b[39m\u001b[38;5;124mhttps://youtu.be/7XsIyFTImwk\u001b[39m\u001b[38;5;124m\"\u001b[39m\n\u001b[0;32m      5\u001b[0m video \u001b[38;5;241m=\u001b[39m YouTubeVideo(video_url)\n\u001b[1;32m----> 6\u001b[0m tr \u001b[38;5;241m=\u001b[39m \u001b[43mvideo\u001b[49m\u001b[38;5;241;43m.\u001b[39;49m\u001b[43mget_transcript\u001b[49m\u001b[43m(\u001b[49m\u001b[43m)\u001b[49m\n\u001b[0;32m      7\u001b[0m \u001b[38;5;28mprint\u001b[39m(tr)\n\u001b[0;32m      8\u001b[0m \u001b[38;5;66;03m# save transcript to file\u001b[39;00m\n",
      "File \u001b[1;32mc:\\Users\\hayk_\\OneDrive\\Desktop\\youtube_tools\\_youtube.py:60\u001b[0m, in \u001b[0;36mYouTubeVideo.get_transcript\u001b[1;34m(self, language, return_srt)\u001b[0m\n\u001b[0;32m     58\u001b[0m \u001b[38;5;28;01mif\u001b[39;00m \u001b[38;5;129;01mnot\u001b[39;00m captions:\n\u001b[0;32m     59\u001b[0m     \u001b[38;5;28mprint\u001b[39m(\u001b[38;5;124mf\u001b[39m\u001b[38;5;124m\"\u001b[39m\u001b[38;5;124mOnly the following languages are available: \u001b[39m\u001b[38;5;132;01m{\u001b[39;00m\u001b[38;5;28mself\u001b[39m\u001b[38;5;241m.\u001b[39mvideo\u001b[38;5;241m.\u001b[39mcaptions\u001b[38;5;241m.\u001b[39mkeys()\u001b[38;5;132;01m}\u001b[39;00m\u001b[38;5;124m\"\u001b[39m)\n\u001b[1;32m---> 60\u001b[0m     \u001b[38;5;28;01mraise\u001b[39;00m \u001b[38;5;167;01mValueError\u001b[39;00m(\u001b[38;5;124mf\u001b[39m\u001b[38;5;124m\"\u001b[39m\u001b[38;5;124mNo captions available for language: \u001b[39m\u001b[38;5;132;01m{\u001b[39;00mlanguage\u001b[38;5;132;01m}\u001b[39;00m\u001b[38;5;124m\"\u001b[39m)\n\u001b[0;32m     61\u001b[0m \u001b[38;5;28;01mif\u001b[39;00m return_srt:\n\u001b[0;32m     62\u001b[0m     \u001b[38;5;28mself\u001b[39m\u001b[38;5;241m.\u001b[39mtext \u001b[38;5;241m=\u001b[39m captions\u001b[38;5;241m.\u001b[39mgenerate_srt_captions()\n",
      "\u001b[1;31mValueError\u001b[0m: No captions available for language: a.hy"
     ]
    }
   ],
   "source": [
    "from _youtube import YouTubeVideo\n",
    "\n",
    "video_url = \"https://youtu.be/7XsIyFTImwk\"\n",
    "\n",
    "video = YouTubeVideo(video_url)\n",
    "tr = video.get_transcript()\n",
    "print(tr)\n",
    "# save transcript to file\n",
    "with open(\"transcript.srt\", \"w\", encoding=\"utf-8\") as f:\n",
    "    f.write(tr)"
   ]
  },
  {
   "cell_type": "code",
   "execution_count": null,
   "id": "15bb6a27",
   "metadata": {},
   "outputs": [],
   "source": [
    "# video.get_metadata()"
   ]
  },
  {
   "cell_type": "code",
   "execution_count": null,
   "id": "ae745637",
   "metadata": {},
   "outputs": [],
   "source": []
  },
  {
   "cell_type": "code",
   "execution_count": null,
   "id": "c795cb1f",
   "metadata": {},
   "outputs": [],
   "source": [
    "from openai import OpenAI\n",
    "\n",
    "import os\n",
    "import toml\n",
    "\n",
    "from dotenv import load_dotenv\n",
    "load_dotenv()\n",
    "\n",
    "\n",
    "config = toml.load(\"config.toml\")\n",
    "\n",
    "client = OpenAI()\n"
   ]
  },
  {
   "cell_type": "code",
   "execution_count": null,
   "id": "658f7ed5",
   "metadata": {},
   "outputs": [],
   "source": [
    "from pydantic import BaseModel, ValidationError\n"
   ]
  },
  {
   "cell_type": "code",
   "execution_count": null,
   "id": "862da102",
   "metadata": {},
   "outputs": [],
   "source": [
    "import re\n",
    "\n",
    "class Segment(BaseModel):\n",
    "    title: str\n",
    "    start_time: str  # e.g. '00:03:15'\n",
    "\n",
    "    @classmethod\n",
    "    def __get_validators__(cls):\n",
    "        yield from super().__get_validators__()\n",
    "        yield cls.validate_time_format\n",
    "\n",
    "    @staticmethod\n",
    "    def validate_time_format(value):\n",
    "        if not re.match(r\"^\\d{2}:\\d{2}:\\d{2}$\", value):\n",
    "            raise ValueError(\"start_time must be in HH:MM:SS format\")\n",
    "        return value\n",
    " \n",
    "class TimeStamps(BaseModel):\n",
    "    segments: list[Segment]"
   ]
  },
  {
   "cell_type": "code",
   "execution_count": null,
   "id": "358b1f6f",
   "metadata": {},
   "outputs": [],
   "source": [
    "prompt = \"\"\"You are given a YouTube transcript with timestamps. Identify 3-7 key segments and return \\ntitle and start_time\\n\\n[INSTRUCTIONS]The text should be in Armenian, you are allowed to use English for terminology or technical terms if needed.\\n\\nYou need to be technical and precise. Make sure that the segments cover the entire video and are spaced with at least 5-10 minutes apart. Keep the format HH:MM:SS for timestamps. An example return is 00:00 Tuple\n",
    "14:00 Set\n",
    "31:54 Dictionary մոտիվացիա\n",
    "40:39 Dictionary\"\"\""
   ]
  },
  {
   "cell_type": "code",
   "execution_count": null,
   "id": "7c5fe0a8",
   "metadata": {},
   "outputs": [],
   "source": [
    "def generate_segmented_timestamps(transcript: str) -> str:\n",
    "    \"\"\"\n",
    "    Uses the OpenAI chat endpoint (api-mode=chat) to analyze a transcript\n",
    "    and return key segment titles with start timestamps as JSON.\n",
    "    \"\"\"\n",
    "    # Create chat completion\n",
    "    print(prompt)\n",
    "    response = client.chat.completions.parse(\n",
    "        model=config[\"openai\"][\"model\"],\n",
    "        messages=[\n",
    "            {\n",
    "                \"role\": \"system\",\n",
    "                \"content\": prompt\n",
    "            },\n",
    "            {\n",
    "                \"role\": \"user\",\n",
    "                \"content\": transcript\n",
    "            }\n",
    "        ],\n",
    "        response_format=TimeStamps,\n",
    "        \n",
    "    )\n",
    "\n",
    "    # Extract and return the assistant's content\n",
    "    return response.choices[0].message.parsed\n"
   ]
  },
  {
   "cell_type": "code",
   "execution_count": null,
   "id": "beb2852c",
   "metadata": {},
   "outputs": [],
   "source": [
    "with open(\"transcript.srt\", \"r\") as f:\n",
    "    transcript_text = f.read()"
   ]
  },
  {
   "cell_type": "code",
   "execution_count": null,
   "id": "5d2805f1",
   "metadata": {},
   "outputs": [
    {
     "name": "stdout",
     "output_type": "stream",
     "text": [
      "You are given a YouTube transcript with timestamps. Identify 3-7 key segments and return \n",
      "title and start_time\n",
      "\n",
      "[INSTRUCTIONS]The text should be in Armenian, you are allowed to use English for terminology or technical terms if needed.\n",
      "\n",
      "You need to be technical and precise. Make sure that the segments cover the entire video and are spaced with at least 5-10 minutes apart. Keep the format HH:MM:SS for timestamps. An example return is 00:00 Tuple\n",
      "14:00 Set\n",
      "31:54 Dictionary մոտիվացիա\n",
      "40:39 Dictionary\n"
     ]
    }
   ],
   "source": [
    "res = generate_segmented_timestamps(transcript_text)"
   ]
  },
  {
   "cell_type": "code",
   "execution_count": null,
   "id": "04024dde",
   "metadata": {},
   "outputs": [
    {
     "name": "stdout",
     "output_type": "stream",
     "text": [
      "00:00:00 Ներածություն և պլան\n",
      "00:14:00 Python գրադարաններ եւ գործիքներ\n",
      "00:34:00 YouTube տվյալներ մշակելն ու ստանալը\n",
      "01:00:00 Աուդիո և վիդեո ներբեռնում\n",
      "01:14:00 Թարգմանական գործիքներ: Google Translate եւ Deepl\n",
      "01:34:00 Նախապատրաստական եւ ամփոփում\n"
     ]
    }
   ],
   "source": [
    "for segment in res.segments:\n",
    "    print(f\"{segment.start_time} {segment.title}\")\n"
   ]
  },
  {
   "cell_type": "markdown",
   "id": "bcc5e3ba",
   "metadata": {},
   "source": [
    "# Antrophic"
   ]
  },
  {
   "cell_type": "code",
   "execution_count": null,
   "id": "7d1f61a2",
   "metadata": {},
   "outputs": [],
   "source": []
  },
  {
   "cell_type": "code",
   "execution_count": null,
   "id": "3a7c96a2",
   "metadata": {},
   "outputs": [
    {
     "data": {
      "text/plain": [
       "'Ողջույն, էսօր տենց երեք կտորից ա դասը\\nոր առաջին անգամ Python-ից դուրս կգանք,\\nմինիմալոտ մակարդակի էն ամենա հիմնական\\nկբռնի մի հատ ուրիշ բանի հետ, որ\\nէն ա, որ\\nենք\\nբաներ են, որ ծրագրավորողը պետք է իմանադ\\nֆայլերի հետ աշխատել ինչ-որ ֆայլեր բացել\\nերրորդ բանն էլ այն որ կսովորենք մի քանի\\nգրադարանների պրինցիպը աշխատելու որն ա ու\\nներմուծել ու էդ տենց մի աշխարհ\\nու մի հատ հետաքրքիր գրադարան կա որ\\nօգտագործել, չենք ուսումնասիրել\\nսահմանափակենք, ձեռով գրենք էն ինչ պետք\\nայսօրվանից հետո արդեն մի քիչ այդ\\nդուրս\\nանցնենք կախեցզվեց\\nկապված նախ ոնց բացենք ընդհանրապես\\nտերմինալը տերմինալը կարանք սահմանենք\\nաշխատացնելու գործիքս ասած ու օրինակի\\nտեղ մի վայրկյան\\nհատ թազա ֆայլ ֆայլի անունը փոխենք, մի\\nայլն, և այլն, հեսա կտեսնենք ոնց կարանք\\nինչը առաջին հերթին կարի բավականին\\nերկրորդը կարի անհրաժեշտ ուղղակի, երբ որ\\nորտեղ մենք ուղղակի էկրան չենք ունենալու,\\nօրինակ, գանք, սպեն ինչ ուղղակի\\nաշխատացվի։ Ըը ու հա, տերմինալ բացելու\\nտերմինալ կամ cmd կամ կոնսոլ տենց տարբեր\\nբան, որ եթե գաք ուղղակի ստեղ այս հասցեն\\ncmd, ինքը միանգամից ավտոմատ տերմինալ\\nպապկայի հասցեով - Ըհը այստեղ տակից\\n00:03:02,760\\n00:03:15,040\\n00:03:17,760\\n00:03:21,360\\n00:03:27,040\\n00:03:32,400\\n00:03:37,400\\n00:03:44,560\\n00:03:50,239\\n00:03:56,200\\n00:04:00,720\\n00:04:06,120\\n00:04:11,400\\n00:04:20,239\\n00:04:25,360\\n00:04:30,960\\n00:04:35,880\\n00:04:41,400\\n00:04:47,039\\n00:04:50,039\\n00:05:03,600\\n00:05:10,039\\n00:05:15,400\\n00:05:21,240\\n00:05:28,840\\n00:05:36,800\\n00:05:41,840\\n00:05:45,080\\n00:05:54,000\\n00:05:57,759\\n00:06:05,720\\n00:06:11,599\\n00:06:15,599\\n00:06:23,720\\n00:06:28,960\\n00:06:35,199\\n00:06:50,000\\n00:06:57,360\\n00:07:02,599\\n00:07:08,759\\n00:07:13,319\\n00:07:18,680\\n00:07:24,280\\n00:07:29,520\\n00:07:34,800\\n00:07:40,960\\n00:07:46,919\\n00:07:53,199\\n00:07:59,599\\n00:08:03,720\\n00:08:08,919\\n00:08:17,120\\n00:08:25,639\\n00:08:28,639\\n00:08:42,599\\n00:08:47,720\\n00:08:51,959\\n00:08:58,079\\n00:09:04,200\\n00:09:12,160\\n00:09:20,959\\n00:09:26,240\\n00:09:31,240\\n00:09:35,360\\n00:09:42,839\\n00:09:47,399\\n00:09:53,760\\n00:10:00,680\\n00:10:07,560\\n00:10:14,000\\n00:10:17,519\\n00:10:20,959\\nհա բայց հա, բայց\\nռֆը\\nհամարք cոփի միջոցն ա տեղաշարժելու համար\\nմիջոցն է ասենք renameից էլի foldդ նորմալ\\nանուն ըհը այս ֆոլդերի փոխարեն ֆոլդերը\\nտենց մի քիչ ինչ-որ ավելի ուրիշ ժանրի\\nինչքան լիքը բան կա ուզում ենք սաղ\\nամեն ինչ ուղղակի կմաքրի clear\\nպարունակություն տեսնենք տեսնենք ստեղ ինչ\\ntype\\nsn ու կբերի մեջը ինչ\\nընդհանրապես ինչ-որ բանի մասին օգնող\\nլիքը բան բերեց բայց օրինակ ասենք help\\nվերի\\nգրենք սենց three- ինքը կբերի կառուցվածք\\nէս\\nինչ-որ բանի մեջ, ես չեմ էլ զբում ինչերն\\nերևի հա Կոնդայից ա գալիս\\nկառուցում սենց ասած այս\\nնորմալ անուն python minի պրոյեկտներ\\nֆայլերն էլ ցույց տա բայց մի քիչ շատ\\nհիմա հա ուրիշ հրամաններից օրինակ եթե\\nnotmd մի վայրկյան ս\\nբերեց ինձ, ես նոր էի ավելացրել, եկեք սա\\nչնկատեք, որ սրա մասին խոսացել եմ։ Մի\\nկարանք, օրինակ ասենք task list, ինքը այ\\nմեր բանում,\\nDrive-ը և այլն, և այլն ու Ու սա կարող է\\nաշխատելուց կամ ինչ-որ մի քիչ մեծ, ծանրոտ\\nոր կոմպը կախել ա մկնիկը, որ ինչ-որ բան\\nլցվել ա կոմպի, մկնիկ բան տենց կախել են\\nձև, այսպես սա էս tkքլ listիսով գտել ենք\\nուտելի ուտում են էս memեմ-ին ու տենց\\nպրոցեսները ու տենց ինչ-որ շատ դաժան\\nպրոցեսի ենթա\\nուզում ինչ-որ kill\\nմի հետաքրքիր բան ա կարմինալով անել\\nէլի որ շատ-շատ օգտագործում եք ու կյանքը\\nէլի: Հեսա մի քանի բան\\n00:14:29,190\\nվերցրել: Վսյո, Լավ, սաղ էներգիան գնում\\nկտրվի\\nհամար ակտուալ Python-ով ինչ-որ ծրագրեր\\nֆայլի անուն ու ինքը իրանց\\nմեջ քաշել Python և այլն, ինչ էլ կլինի\\nինստրուկցիա բոման կուղարկեմ թե ոնց քաշել\\nկամչառում կամ ինչ ուզեք քաշել բայց արդեն\\nկամաց-կամաց սաղ քաշելու ինչ-որ հղումներ\\nկամաց-կամաց անցնելը դրան տերմինալից էլ\\nժողովուրդ ինչ-որ հարցեր նշումներ կամ\\n00:15:47,839\\n00:15:52,839\\n00:15:58,839\\n00:16:05,040\\n00:16:09,519\\n00:16:13,560\\n00:16:20,959\\n00:16:25,240\\n00:16:30,079\\n00:16:34,880\\n00:16:40,720\\n00:16:45,880\\n00:16:50,360\\n00:16:55,360\\n00:17:02,199\\n00:17:06,959\\n00:17:15,520\\n00:17:21,760\\n00:17:25,839\\n00:17:29,200\\n00:17:33,559\\n00:17:37,280\\n00:17:43,320\\n00:17:47,320\\n00:17:52,200\\n00:17:57,320\\n00:18:03,400\\n00:18:07,960\\n00:18:13,480\\n00:18:19,679\\n00:18:23,640\\n00:18:27,039\\n00:18:33,520\\n00:18:38,520\\n00:18:44,840\\n00:18:48,679\\n00:18:51,840\\n00:18:57,360\\n00:19:10,440\\n00:19:15,600\\n00:19:29,679\\n00:19:35,480\\n00:19:43,520\\n00:19:49,159\\n00:19:54,200\\n00:19:58,760\\n00:20:10,480\\n00:20:14,760\\npassword ուղղակի եմ այդպենս մեծատարերով\\nկկահավ հիմա եթե ուզենանք այս մեր պարելն\\nսարքեմ չմտածեք ինչ էական\\nուղղակի ասենք դե էդ էլ բերել\\nբերում կարանք հանգիստ գրենք իրենք իրենց\\nտպին\\npassword-ն վեցը տպեց քառակուսին ու\\nբաներ վատ բան եմ ասում բայց\\nենք տենց ուղղակի ինչ ասես չասես սաղ ինչ\\nուղղակի from\\nաստղանիշ սա կնշանակի որ ուղղակի ամեն ինչ\\nնույնպես\\npythonի օրենքների մեջ էլ սպս ասած կար\\nնշանակում է ավելի լավ է հստակ կոնկրետ\\nպետք\\nասել դե ամեն ինչ բեր էլի ինչ կա չկա չէ\\nգրել իհարկե բայց գոնե գիտենք ինչ ինչ-որ\\nնենց չի լինի, որ չիմանանք, որ Helper-ում\\nհատ ֆունկցիա կա ընդեղ մեջը մի հատ ինչ-որ\\nներմու սարքենք քառակուսի հաշվելու,\\nընդեղինը ջրվեց, բան-ման մի խոսքով բարի\\nեք ներմուծում, շատ ավելի հաճելի կլինի\\nբոլորին,\\nհամար, եթե ասենք էս ֆունկցիաների\\nչունենք էդքանը գրենք կամ գրադարանի\\nա, կարելի է\\nimport, օրինակ, որպես\\nասել ի մի հատ քոմենթ անեմ ուղղակի ասել\\nութ ոչ թե ամբողջ ֆայլի անունը helpկ\\nդնում որ այդքան չտանջվենք\\nսպանեցի աշխատացնենք էլի նորմալ աշխատեց\\nենթագրադարան ենթաֆայլեր օրինակ Օրինակ սա\\nհանդիպենք, որ գրում են օրինակ import\\nsplt սա նշանակում է մենք էս maple bipp\\nներմուծում մենակ ոչ թե ամբողջ\\nառմամբ\\nհետ կապված էսքանն\\nժողովուրդ հլը մի քիչ էլ բան ունենք այս\\n00:24:20,640\\n00:24:25,919\\n00:24:33,799\\n00:24:38,440\\n00:24:44,520\\n00:24:50,480\\n00:24:58,600\\n00:25:04,279\\n00:25:11,080\\n00:25:16,799\\n00:25:21,000\\n00:25:26,200\\n00:25:37,399\\n00:25:41,399\\n00:25:46,440\\n00:25:53,320\\n00:25:58,720\\n00:26:03,360\\n00:26:09,919\\n00:26:15,520\\n00:26:19,279\\n00:26:27,200\\n00:26:33,159\\n00:26:39,640\\n00:26:45,279\\n00:26:51,520\\n00:26:58,960\\n00:27:03,399\\n00:27:08,799\\n00:27:13,799\\n00:27:19,880\\n00:27:25,279\\n00:27:29,279\\n00:27:34,520\\n00:27:39,440\\n00:27:45,519\\n00:27:49,760\\n00:27:53,840\\n00:28:00,360\\n00:28:06,120\\n00:28:13,880\\n00:28:17,000\\n00:28:22,799\\n00:28:27,760\\n00:28:29,720\\nբան։ Ըըը է դրա մասին հեսա կակր հաջորդ\\nպատմեմ, եթե չծածկի հարցը, մի հատ նորից\\nԵղավ մերց շատ։ Ըհը, Ձեզ մերսի։\\nժողովուրդ։\\nհարցով փորձենք անցում անենք դեպի հաջորդ\\nոնց որ շտորական ֆայլ ա։ Այս ֆայլում\\nանելու։ ստեղ կարանք տպենք մեր պասվոյդ,\\nունենանք ցիկլ, որ ինչ-որ\\nբուք\\nՈւ հիմա եթե ուզում ուզենք բան\\nներմուծենք, պատկերացրեք էս help հելը մեր\\nներմուծենք իրա, որ իրենից վերցնենք\\nտեսոք, օրինակ տեսոքը սա է, ասում եմ\\nհստակ ասում եմ\\nsquare import\\n00:30:09,559\\n00:30:20,080\\nsquare\\nինձ ասում է դե մուտքագրի թիվը\\nՍա որ ներմուծում էինք, Python-ը մի հատ\\nոր իմանա մեջը ինչ կա չկա, որ մեզ կարանա\\nեղածներին։ Այդ ընթացքում, որ ինքը\\nաշխատեց այս սաղ\\nվերցնենք տենց խոհանոցում կնոջ հետ կռիվը\\nէինք մեր աղը վերցնենք ու վսյո մեր գործը\\nարվում դրսից դիմողը էս helpում մենակ էս\\nուզի աղ կամ պեսոք վերցնի չպետք է այս\\nսենց մի հատ պրոբլեմ ունի որ ուզում ենք\\nդիմողների համար հասանելի չլինի էս կոդը\\nհատ խնդիր\\nէլեգանտ\\nուղղակի այ սենց կոչվող մի հատ\\nերկու տակի գծիկ ունեցող բաները թափեցի,\\nասեմ python main.\\nտեսնենք թե ինչն է տպում այ սպս մի հատ\\nհավասար է helpը աս main-ից main նայեք\\nաշխատացրել ներմուծել եմ help ու ստեղ\\nսաղ նորմալ ա սաղ տրամաբանական\\nաշխատացնում եմ այս անգամ\\nտակ գծիկ main։ Փոխվեց\\nփորձեք պատկերացնել, նման ա նրան, որ\\nդե ձեր տատիկին ասեք տատի, բայց հարևանը\\nկդիմի։ Նման ձևով, ոնց որ հենց էս ֆայլի\\nաշխատացնելուց ֆայլի անունը լինում ա\\nիմ մասին խոսալուց կասեմ ես ինչ-որ մեկը\\nհայկը հիմա եթե helper-ն ա իր մասին\\nփոխականի արժեքը լինում է main եթե main-ն\\nդիմում եթե սա եմ\\nանունով\\nհամեցեք եթե չէ մի հատ տենց\\nգաղափարից օգտվելով կարանք տենց\\nչիմանա ինչ ա տեղի ունենում մեր\\nգրենք պայման տանք իֆեյմը տակի գծիկներով\\nգործողությունը\\nաշխատացնում ա ունենում էին ու մենակ հենց\\nանունը main չի լինում։ Հիմա եթե մենակ էդ\\nստուգենք։ Ասենք, որ եթե նեյմը հավասար\\nնայեք աշխատացնում եմ Python help.pite,\\nհնդկահավ աստխանիշներ սաղ աշխատեց հիմա\\npyը նայեք արդեն այս ամեն ինչը չկա\\nեղավ այս դեպքում արդեն helperի հավասար\\nmainի այ աս\\nանել կոդը տարանջատենք այն ինչ որ ուզում\\nուղղակի վերաբերվում է հենց կոնկրետ այ\\nայս ֆայլին կանչի,\\nսե՞ր։ Իրականում տենց մի քանի ֆայլի հետ\\nոր սաղ ամեն ինչից, ամեն\\nեմ հա օքեյ\\nեմ\\nկանչում ենք ինքը ավտոմատ իր անունը մեin\\nհա այստեղ ոնց\\nչէ օրինակ որ helpը աշխատացնում ենք\\nmain չէ<un\\nանունն հենց մեր մոտ մեյա անունը\\nԷս լավ հարց ա ոնց որ անունը պետք ա լինի\\nհստակ երկու հատ տակի գծիկներով\\nու ես իրականում երբեք սենց անունը ֆայլ\\nայսպես գրելուց ինչ-որ բաներ ջարդվում էլ\\nդրվի։ Չէ, հլը OK ա թվում ամեն ինչ, բայց\\nգծիկ մեin լիներ, եկեք հլը\\nhelpի անունը\\nչեք տեսնում տենց բան, որ ֆայլի անունը\\nամբողջականության համար մի հատ\\nRefores, չէ, խելոք է ուզում է միանգամից,\\nբաները, որ սխալ չլինի\\nսովորական main.p-ը\\nասեմ ես սրանից իմֆորտ հրաքվով\\nա չկարողացավ ներմուծի\\nգուցե գուցե հա գուցե պրոբլեմ ա տալ գուցե\\nԱյդպիսի անունը ֆայլիս ստեղից էլ չի\\nհիմա\\nուղղակի չի թողնում, որ երկու տակ գծիկ\\nԱմենահաճելի լուծումն է եթե\\nըհը ը Էն լսում եմ\\nԵթե կարելի ա մի հատ նորից կբացատրեք, ես\\nMain-ի էլի, հա, main-main էդ պահը։ Հա, ը\\nասած, ինքը պահվում ա այ էս փոփոխականի\\nփոփոխականներից ա, մենք իրեն չենք\\nհիմա այս ֆայլի\\nարժեք, կա կախված նրանից, թե ով ա\\nօրինակ ձեր անունը, օրինակ հարցնի ձեր\\nհարցնի ինչ-որ մարդ, որ շատ հեռու եք,\\nներկայացնեք, չէ՞։ Ըհը։ Կամ կամ իմ վրա\\nարեցի։ Նույն կտրվածքով Python-ը եթե\\nիզուգեցիք, այսինքն հենց ասում ենք Python\\nէ գալիս main անունով էս main-ն ոնց որ\\nիսկ դրսից կանչողի համար մեin-ը որ ասում\\nըտեղ արդեն ոչ թե ասում ենք էս մարդը ես ա\\nմոտավոր այդպիսի բան օքեյ դե ժողովուրդ\\nմեր գրած ինչ-որ ֆայլերից\\nԿարևորը էն ա, որ կարանք մի հատ էլ\\nներմուծենք։ Իրականում դրա հետ արդեն\\nներմուծել, չե՞ն մաթից կոսինուս ենք\\nգրադարանների համար, սա էլ արդեն ըստ\\nգրած կոդեր ունեն, ֆունկցիաներ ունեն,\\nանում, նույն ձև ոնց անում ենք մեր\\nհամար, ուղղակի իրանց էլ մերց լավն են\\nհենց բուն Python-ի մեջ եղած գրադարանով,\\nքանի հրաման էդ մակարդակի\\nկտեսնենք ոնց կարանք ոչ Python-ից ինչ-որ\\nօգտագործենք ըըը ու\\nինտերնետից քաշվի սենց ասած։ Ու հետո\\nֆայլի մեջ գրել, ֆայլ բացել, ֆայլ կարդալ,\\nնույն\\nօրինակի համար էլի ոչ թե pythonի ֆայլ մի\\nգնանք առաջին գրադարանը կլինի գրադարանը\\nsystem ստեղ հղում է դրած դեպիդոկումացիա\\nը ինքը հենց բուն Python-ի գրադարանն ա,\\nլավ է ասել\\nբաներին ենք\\nհիմնականում երևի այդպենս եմ ասում ու\\nհրամաններ իրենց նկարագիրներ նշումներ և\\nու հա, մեկ էլ 1000 մի ուրիշ գրադարաններ\\nոր մենք մի քանիսն ենք նայելու, բայց եթե\\nմեջ ինչեր կան\\nկոդին, կարամ սրա հուղնեմ այստեղ։\\nսպոյլեր կարանք գրենք\\nցուցակ այս OS-ի մեջ եղած եղած չեղած\\nֆունկցիաների այստեղ վերջին 10 հատն եմ\\nտպել ու եկեք մի քանի հատով անցնենք ու սա\\nտերմինալից անցած բաներին օրինակ եթե\\nդիրեկտորիայի մեջ ենք որ ֆոլդերում ենք\\ncurrent working director ինքը կասի, որ\\nմեջ, այս Python mat ml կուրսի մեջ: Եթե\\nգրում էինք CD է, կարո ենք այստեղ\\nPython\\ncvd արդեն կասի, որ այս Python modl ու\\nու ուղղակի\\nկբերեր նախորդ ֆոլդեր, նույն կերպ, ոնց\\nանում։ Մեկ էլ ժողովուրդ, ընդհանրապես էս\\nասելու։\\nբոլորս Հայաստանում լինենք կամ եկեք\\nհայաստանում լինենք օրինակ\\nորտե՞ղ ես կարանք օրինակ ասենք Կոտայք ու\\nտիեզերքի երկրագունդ մոլորակի, Հայաստանի\\nուղղակի ասեցի Կոտայք, դուք արդեն\\nգտնվում էինք նույն տարածքում այդ\\nհասկանալի էր խոսքը ինչի մասին օրինակ\\nterminին որ սաղ գտնվում է նույն տեղ\\nոր ասում եմ wallpapers կամ ասում եմ\\nամb papers ինքը հասկանում ա ինչի մասին ա\\nհասցր է, հարաբերական հասցե կա նաև\\nասեն որ ֆայլն է քեզ պետք ու ես սկսեմ\\nանուն, երկրի, մարզի, քաղաքի, փողոցի, այ\\nայսինքն ինչ-որ users, hike, oneդrive,\\nտտտ երկու ձևն էլ լրիվ validիդ է ռելատիվը\\nգրելով շատ ավելի հաճելի է, ուղղակի\\nորովհետև կախված չի նրանից, թե որտեղից\\nնույն բանն\\nուղղակի բանն էր, էն սովորական դիռի դերն\\nանունները այստեղ։ Ասենք էս հրամանը կարա\\nպատկերացրեք մի հատ մի տեղ նկարներ ունենք\\nնկարների վրայով, կարանք ասենք for e inին\\nֆայլով նկարը կարդանք, հետո գործ\\nբաներ։ Հա։ եթե list դիրին ուղղակի ոչ մի\\nհենց մեր եղած պապկայում ինչեր կան։\\nինչ կա, որ ասեցի wallpapers, ասեց\\nկա։ Ու հա մի հատ էլ ժողովուրդ\\nձևով\\nէ մի\\nօպերացիոն\\nտարբեր լինի\\nՈւմ\\nբան Linux-ի դեպքում ֆայլի հասցեները այ\\nինչ-որ այ էս պապկա գնա այնտեղ Windows-ի\\nսենց ու հիմա հարց է առաջանում բա OK ո՞նց\\nայստեղ նկատեք որ երկու հատ թեք գծով ա\\nEscape character-ն էր, ու մեզ պետք էր\\nհատիկով, որ իրենք դառնան մի հատիկ է\\nհիշեց։ Սրա հետ կապված հարցը էն ա, որ\\nկախված ա օպերացիոն համակարգից։ Իմ մոտ,\\nկիսվեմ, հիշում եմ իմ\\nպրոյեկտը, կիսաիսկական առաջադրանքը\\nլրիվ սկսնակ բան վիճակներով ուղարկել էի\\nասեցին չի աշխատում ոնց թե չի աշխատում\\nոնց կա ֆիքսել էի իմ Windows-ի համար էդ\\nհիմա ո՞նց անենք որ այդպիսի պրոբլեմների\\nospathjojin\\nֆոլդերների անուններ, ֆայլի անուն և այլն,\\nկմիացնի ճիշտ ձևով, այնպես ոնց պետք\\nոր կարան որ կոդը կարանա տարբեր օպերացիոն\\nաշխատի շատ խոսացի թեմայից, լավ հլը\\nուրիշ մեթոդ ունի ասեսը իհարկե ուղղակի\\nՀարցեր, հարցեր, հարցեր,\\nՀայկ ջան, էդ վերջում երբ որ ուզեցիր\\nու երկու հատ սթրինգ տվեցիր ուզում,\\nկփոխի համապատասխան ձևով ու մյուս տեղում\\nԸըը ավելի շուտ ոնց որ ըըը այ էս տված\\nգիծն, բայց այդ ստրինգները իրենք, այսինքն\\nչէ, այ դրանք են ճիշտ այդ երկու թեք\\nկմիացնի, հա՞, էդ էիր ուզում ուզում եմ\\nբանով\\nգրածը որ ըտեղ դեիր, ինքը կբացեր ճիշտ\\nԵթե վերևի, եթե վերևի գրածով ասեի\\nուրիշ կոմպով լինեի ինքը այ սենց կաներ\\nարել նրա պատճառով որ իմ կոմպով ա եթե\\nկոբորին\\nինքը թարս թարսթեր\\nամեն ինչը սարքել վերջացրել էիր պետք է\\nոր ինքը ճիշտ բացեր:\\nկարդում ու այդ ֆայլը այդ կարդալը արդեն\\nայդպենս ֆայլ գոյություն չուներ, որովհետև\\nՄերսի շատ խնդրեմ ձեզ:\\nԴե լավ ժամանակն ա ժամանակ մոդուլի էլի\\nբայց ուղղակի կարանք ասենք թ time ու իրեն\\nնայում ենք տեսնում ենք 1970 թվականի\\nլուրջ եմ\\nԱյ ինքը մեզ սենց մի հատ ֆլոթ ա\\nտալիս ու նայեք հիմա օրինակ անց 40\\nվայրկյան խոսում եմ աշխատացնեմ 54 դարձավ\\nասում ոնց կար ինքը\\nեթե բռնենք ու ինչ-որ ծրագիր կա որ ուզում\\nԿարանք ուղղակի ծրագրի աշխատելուց առաջ\\nֆիքսի էդ պահին, թե քանի վայրկյան ա անցել\\nհամեմատելու համար ըը վայրկյանից, ինչքա՞ն\\nաշխատացնենք, հետո ասենք մի հատ էլ end\\nհիմա էլ նայենք թե քանի վայրկյան ա անցել\\nտարբերությունը ավտոմատ կստացվի, թե\\nծրագիրը օրինակ աշխատել ա 07 վայրկյան\\nըհ սա աշխատացնելը կչափի որ երկու անգամ\\nեղավ մի քիչ չեմ հասկանում խի է 2 անգամ\\nասած լավ շատ հիմա այս պահին չխորանեմ\\nմի հատ պուճուր շատ շատ տենց\\ntime-ը ինքը այդպենս օրինակ եթե ժամային\\nհետ են տալիս բան են անում ու դա եթե տեղի\\nէդ կարա ազդի էս արդյունքների վրա եթե մեզ\\nտևում\\nհասկանանք թե բան ինչքան տվեց, որ մի բան\\nփոխարեն գրել\\nըը հա, բայց պրակտիկ համարյա երբեք ոչ մի\\nուղղակի պրակտիկ երբեք տարբերություն չեք\\nտեսնեմ ինչ-որ հարց կա, թե չէ մինչև էս\\nՕքեյ եթե ուզում ենք իմանանք, օրինակ հիմա\\nլոկալ Ինքը մեզ սենց մի հատ օբյեկտ\\nամիս 28-րդ\\nտն ինքն իրանով շատ հաճելի չի կարդալ բայց\\nկվերադարձնի տենց տարի մեջից բան իր հետ\\nstrրֆթ time մեթոդը որը կոչվում է\\ntime կենսֆորմատ ու սենց տոկոսի նշաններ\\nY-ը համապատասխանում ա տարվան: Հետո,\\nգրում եմ գծիկ, տոկոս եմ նշանակում ա\\nտոկոս H, սա ժամն ա, վերջակետ եմ ուզում\\nսրան տալիս եմ այս մեր տան, որովհետև էս\\nհարմար ձևով կտի։ Էս երևի միշտ Google-ու\\nտառը ոնց ա և այլն։\\nֆորմատավորված սթրինգ ա ստեղծում էլի\\nէլեմենտներով։ Սա էլ մյուս տենց հաճախ\\nայստեղից։ Այ էն մյուսը կարող է մի քիչ\\nօգտագործվում։ Մյուս հրամանին սաղ արածը\\nտալիս, ինչքան վայրկյանով, որ ասենք,\\nունեմ print մեկ. 5\\nվայրկյան սպասում է ոչ մի բան չի անում\\nտպեց ինչ-որ կրկնակի է տպվում բաներ ին\\nգալիս օրինակը բայց\\nենք իսկականից մի հատ մի քիչ հանգստացնենք\\nինֆորմացիա ենք քաշում կամ ինչ-որ մի\\nհատ ինչ-որ մի հատ տեղից տարբեր\\nվերցնում կարող ա ինքը բան անի եթե\\nմի հատ ավելի դանդաղ արար կամ օրինակ ասի\\nկոդ է ինձանից այս ինֆորմացիան քաշում արի\\nբլոկեմ օրինակ բանի համար կարող է\\nքնացնենք մի քանի\\nՀա։ Ըըմսքանը հաշվի առնելով, էսքանը\\nորպես կիսահավես բան օրինակ ծրագիր գրենք,\\nմարդը բան, ինչքան ճիշտ կարա մարդը մտքում\\nհաշվի։ Դա կարանք օրինակ կազմակերպենք\\ntime. կամ perf\\nուզենք\\nինչը հավասար է\\nthink five seconds have\\nհաշվենք թե ինչքան ժամանակ եղավ\\nstart հենց մի հատ միկրոպրոեկտ որպես հիմա\\nբացվելու ըը ու հա հիմա հինգ վայրկյան\\nսեղմեցի մեկ օրինակ պարզվեց վեց ու 6ու39\\nսեղմեցի կարելի է այստեղից օրինակ հանել\\nէլհինգ գրել օրինակ\\nby ու ասենք այստեղ աս սրա ու սրա\\nորովհետև եթե ավելի ուշ ու ավելի շուտ է\\nէ այստեղ փակագծի իմաստ փակագծի կարիք շատ\\nխոսքով հարցերը ինչ որ ժողովուրդ այստեղից\\nլսեմ վայրկյան\\nօքե դե լավ ժողովուրդ ադ դեպքում մի քիչ\\nգրում ենք rռ random այս մեկից արդեն մի\\nասեմ պատահական թիվ եթե ուզում ենք ստանալ\\nարանքում կարևոր երկու թվերն էլ ներառյալ\\ninclusive Եթե ուզում ենք ստանանք ինչ-որ\\nrandom կետ randոom ու եթե ուզում ստանանք\\nփոխարեն այդպես որտեղից ուզենք որտեղ ու\\nքիչ խոսացինք սրանից կարանք գրենք կետ\\nմեզ կտա շատ չեմ խորանում ստեղ ոնց որ ոնց\\nանցնենք այդտեղ էլի խոսելու ենք մի քիչ\\nբաներից ըհը բայց օրինակ պատահական\\nչոյսներ ցուցակը էլեմենտների\\nէր մեկ երկու երեք չորս հինգը դարձրեց\\nչորս այստեղ մի բան որը որ տենց\\nայն որ իրականում ոնց որ հեչ ռանդոմ չի\\nմեր աչքին ռանդոմ է թվում բայց դրա վատը\\nանգամ լրիվ ռանդոմ ձևով աշխատի էդ\\nենք հետո տանք ինչ-որ ուրիշը ստուգի ու\\nկախված բան է\\nձև կաշխատի ծրագիրը կամ եթե հենց մենք\\nփորձարկենք կոդը ճիշտ է աշխատում թե չէ\\nփոխվի արժեքները դրա համար կա\\nԿարո ենք օրինակ ասենք random.sed Seդ\\nթիվ սրանից հետո եթե ես աշխատացնեմ էս մեկ\\nկսարքի հինգերեք մեկ երկու չորս օքեյ\\nսարքեմ գաղափար չունեմ ուրիշ ոնց կխառնի 5\\nնորից էս ծաղծը աշխատացնեմ իմպորտ\\nլրիվ նույն արժեքն նորից եմ աշխատացնում\\nաշխատացնեմ որ վստահ լինենք 5\\nանգամ նույն ձև եթե c ֆիքսել եմ եթե սա\\nաշխատացնեմ 5մ 1եքչ ինչ-որ հա հինգով է\\nչորսհինգերմ և\\nէլի ուրիշ ռանդոմ ձև է աշխատելու, բայց\\nմենք seդը ֆիքսում ենք ու մի անգամ\\nոր բոլորը մեր ծրագիրը աշխատացնող էլի\\nկանցնեն: Սա հասկանալու համար կարա օգնի\\nսենց բան ա, մի հատ սենյակ ա, մեջը լիքը\\nպատահական թվեր են հերթով ասում ու դուք\\nեմ մի հատ պատահական թիվ ինձ կասե՞ս,\\nգաղափար չունենք, ասում ենք մի հատ էլ\\nօս պարզվում է, որ այդ մարդուն եթե գանք\\nմոտենա այդ նույն մարդուն նույն հարցերը\\nպատասխանելու: Այդ նույն հարցերը մոտենանք\\nպատասխանելու, բայց միշտ այդ ուրիշ նույն\\nֆիքսելով մենք մեր համար մեր պատահական\\nգուշակում ինչ թիվ ա լինելու, բայց հետո\\nարդյունքներ չենք ստանում չի լինում, որ\\nանգամ թազա բան բերի, դ ինձ պետք չի քանի\\nընկի ուրիշների հետ կիսվի սաղ գլխացավ շատ\\nոր այդ CD ֆիքսումը տեղի ունենա ծրագրի\\nայդպենս լրիվ ուզում եք պատահական աշխատի\\nհետևանքների է բերում, օքեյ է, կարող է\\nկոնտեքստում, մեքենան սմոն կոնտեքստում\\nօրինակ տվյալները բաժանել պատահական երկու\\nստուգել էդտեղ պետք է պարտադիր ֆիքսվի, թե\\nստուգելու լինենք միշտ նույն տվյալների\\nտվյալների վրա\\nշատ եմ սրա մասին խոսում, որովհետև սա մի\\nտեսել եմ, որ մարդիկս-ը չեն ֆիքսումս-ն էլ\\nդնում եք հողի մեջ, 509-րդ սերմն եք դնում\\nոնց է աճում, բայց գիտե Գիտենք, որ հստակ\\nաճելու։ Աճելու դառնա ծառկեմ էլի տենց\\nբան։ Հարցեր ռանդոմից,\\nՕքեյ Հա, Նարինը լսում եմ\\n«Էմյլ»-ում, երբ որ անում եք, էդ կարևոր ա\\nթե՞ էտի էլի զուտ այդպես պատահական ինչ-որ\\nԿարևորը ուղղակի ֆիքսելն ա։ Սա ուղղակի իմ\\nնաև ինձ, օրինակ սա օգնում ա կոդին մի\\nնայեմ ասեմ ըխկ, էս ով ա գրել, մեջը 509\\nկտեսնեք, որ 42 եմ գրում մեջը Se-ը որպես\\nգալիս էս ըը էս գրքում ոնց\\n42 ասում այդպենս հայտնի դարձած թիվ էս 42\\nհամար ինչ ուզեն կգրեն հաճախ սիրած թվերն\\nսպենց ասած\\nՀա։ Մերսի հարցի համար։ Հարց էր,\\nհազար ու մի բան կա էս հղումով հենց բուն\\nմի երկու հատ իմ սիրածներից ասեմ import\\npython պոեմիկը, որ պետք է ամեն\\nզարթնելուց ու քնելուց առաջ ու հետո մի\\nլավ տպավորվի սաղ հիմնական\\nգրել ուղղակի գրում ենք import disk է\\nկամ առնվազն չգիտեմ, որ ունի Ունի մի հատ\\nվրա բացեց չտես ավտոմատ ինքը բացեց այ էս\\nայդպես տենաք\\nբրաուզերում բացեց սա ու ինչ-որ կոմիքս\\nմասին python\\nհավես ա որ մարդիկ եք լուրջ ահռելի մեծ\\nմեջը սենց բան են որոշել ներառ\\nուրախացնում ա էդ բանն ա Ը ինչո՞վ ա տենց\\nլեզուներից, որ մեր մոտ, եթե ուզում ենք\\nոչ թե սենց թիթից փակագծեր ենք դնում, այլ\\nանում, էս փակագծերը բրեյսիսն ա։ Հիմա\\nփակագծերը, նայեք ինչ ա արում պրելաձավի\\nլինի ձև չի ապագայում այ սրանցից\\nբան\\nգրադարանները ու անցնենք չներկառուցված\\nապրելավայրերից ա այս հայp-ին python\\nաշխարհ\\npackageներ, գրադարան մի քիչ սխալ բառ\\nպանդաս գրում ենք, բերում է ինֆորմացիան\\nմասին ըհը սա, էս գրադարանն ա, սա իրա\\npython քաշելու լինենք ավտոմատ կբերի ու\\nու այս պանդաս գրադարանից կարողանանք\\nանենք պանդաս կարևոր չի պանդասը հիմա ինչ\\n01:08:41,679\\n01:08:48,920\\n01:08:53,520\\n01:08:59,279\\n01:09:04,040\\n01:09:08,400\\n01:09:27,480\\n01:09:35,480\\n01:09:39,560\\n01:09:43,640\\n01:09:48,080\\n01:09:54,640\\n01:10:00,080\\n01:10:05,280\\n01:10:10,560\\n01:10:15,040\\n01:10:18,960\\n01:10:27,960\\n01:10:34,640\\n01:10:40,360\\n01:10:45,960\\n01:10:51,640\\n01:10:55,800\\n01:11:02,480\\n01:11:08,239\\n01:11:12,600\\n01:11:20,320\\n01:11:27,040\\n01:11:29,600\\n01:11:37,440\\n01:11:42,920\\n01:11:48,040\\n01:11:51,159\\n01:12:00,679\\n01:12:05,159\\n01:12:09,280\\n01:12:16,080\\n01:12:20,480\\n01:12:25,360\\n01:12:32,960\\n01:12:37,560\\n01:12:43,239\\n01:12:48,400\\n01:12:53,280\\n01:12:59,800\\n01:13:04,840\\n01:13:10,440\\n01:13:19,600\\n01:13:24,239\\n01:13:28,080\\n01:13:35,800\\n01:13:44,400\\n01:13:49,239\\n01:13:56,600\\n01:14:01,280\\n01:14:05,320\\n01:14:10,480\\n01:14:15,800\\n01:14:21,560\\n01:14:25,960\\n01:14:30,360\\n01:14:35,600\\n01:14:39,239\\n01:14:46,199\\n01:14:51,400\\n01:14:56,239\\n01:15:01,960\\n01:15:07,040\\n01:15:11,639\\n01:15:17,000\\n01:15:23,480\\n01:15:28,960\\n01:15:35,159\\n01:15:40,600\\n01:15:45,639\\n01:15:51,360\\n01:15:56,480\\n01:16:03,280\\n01:16:10,040\\n01:16:15,920\\n01:16:19,560\\n01:16:24,560\\n01:16:30,199\\n01:16:36,400\\n01:16:41,760\\n01:16:47,520\\n01:16:52,760\\n01:16:57,679\\n01:17:04,120\\n01:17:09,360\\n01:17:14,679\\n01:17:25,480\\n01:17:40,560\\n01:17:46,000\\n01:17:50,000\\n01:17:54,440\\n01:17:58,679\\n01:18:02,760\\n01:18:07,960\\n01:18:13,600\\n01:18:17,800\\n01:18:25,440\\n01:18:30,120\\n01:18:36,600\\n01:18:42,120\\n01:18:47,199\\n01:18:51,960\\n01:18:57,560\\n01:19:03,560\\n01:19:08,760\\n01:19:14,159\\n01:19:17,960\\n01:19:22,920\\n01:19:27,840\\n01:19:33,280\\n01:19:36,600\\n01:19:44,520\\n01:19:48,760\\n01:19:57,600\\n01:20:01,239\\n01:20:10,000\\n01:20:18,600\\n01:20:26,040\\n01:20:34,239\\n01:20:39,400\\n01:20:45,199\\n01:20:49,880\\n01:20:54,520\\n01:21:00,679\\n01:21:05,600\\n01:21:10,199\\n01:21:16,920\\n01:21:22,520\\n01:21:28,239\\n01:21:33,120\\n01:21:36,840\\n01:21:44,520\\n01:21:50,000\\n01:21:55,800\\n01:22:03,360\\n01:22:10,560\\n01:22:16,560\\n01:22:21,920\\n01:22:26,960\\n01:22:33,280\\n01:22:44,400\\n01:22:51,480\\n01:22:54,199\\n01:22:58,719\\n01:23:04,719\\n01:23:10,920\\n01:23:15,040\\n01:23:27,880\\n01:23:31,400\\n01:23:41,280\\n01:23:44,280\\n01:23:50,800\\n01:23:57,960\\n01:24:00,960\\n01:24:12,400\\n01:24:16,719\\n01:24:20,239\\n01:24:24,920\\n01:24:30,560\\n01:24:35,239\\n01:24:43,920\\n01:24:48,400\\n01:24:53,600\\n01:24:58,800\\n01:25:14,199\\n01:25:19,199\\n01:25:25,840\\n01:25:33,000\\n01:25:42,360\\n01:25:48,520\\n01:25:53,560\\n01:25:57,800\\n01:26:04,560\\n01:26:13,159\\n01:26:18,119\\n01:26:22,800\\n01:26:29,000\\n01:26:37,000\\n01:26:42,280\\n01:26:49,639\\n01:26:57,560\\n01:27:02,360\\n01:27:09,400\\n01:27:16,679\\n01:27:21,800\\n01:27:27,280\\n01:27:36,280\\n01:27:41,280\\n01:27:43,679\\n01:27:55,119\\n01:28:02,520\\n01:28:06,360\\n01:28:14,320\\n01:28:22,880\\n01:28:29,119\\n01:28:32,440\\n01:28:39,400\\n01:28:45,119\\n01:28:51,119\\n01:29:02,560\\n01:29:08,119\\n01:29:14,159\\n01:29:20,119\\n01:29:25,080\\n01:29:31,360\\n01:29:39,440\\n01:29:42,880\\n01:29:52,400\\n01:29:57,239\\n01:30:10,400\\n01:30:22,400\\n01:30:26,920\\n01:30:33,080\\n01:30:38,080\\n01:30:43,360\\n01:30:48,800\\n01:30:55,040\\n01:31:02,159\\n01:31:05,280\\n01:31:17,080\\n01:31:24,119\\n01:31:28,480\\n01:31:34,400\\n01:31:40,239\\n01:31:46,360\\n01:31:49,000\\n01:32:09,880\\n01:32:40,800\\n01:32:47,880\\n01:32:53,400\\n01:33:01,119\\n01:33:06,760\\n01:33:09,960\\n01:33:17,840\\n01:33:22,199\\n01:33:40,560\\n01:33:46,280\\n01:33:52,159\\n01:33:56,960\\n01:34:02,800\\n01:34:12,199\\n01:34:17,280\\n01:34:21,760\\n01:34:26,080\\n01:34:32,360\\n01:34:37,679\\n01:34:52,400\\n01:34:56,320\\n01:35:01,760\\n01:35:05,080\\n01:35:17,840\\n01:35:25,840\\n01:35:31,760\\n01:35:35,199\\nտալու էդ տնայինը բան եկեք լավ եկեք դա էլ\\nմտածում սա արդեն լինելու է ավելի շատ\\nտնային մի\\nբացել մի վայրկյան մի\\nըհը տնային լինելու է այ սենց մի հատ\\nոնց կարա աշխատի 1000 մի\\nտնային որը պետք ա անեք հենց բանի մեջ\\nմեջ ըըը է ներողություն ես կոդով կամ նման\\nմիտքը սա է մի քանի կետ ունենք\\nտեսակի ֆայլերի ֆայլերի տեսակով ըստ\\nջփեք քանի հատ\\ndictionary-ին սորտավորեք ու սեվ արեք\\nմեջ, որ ես բացեմ, տեսնեմ իմ մոտ կա 20\\nհատ էլ python-ի ֆայլ ինչ-որ կոնկրետ\\nմեջ: Նույնը արեք հետո բանով ֆայլերի\\nեմ ըըը Windդո-ի ֆայլերի չափերի ու բանի\\nգալիս ոնց ա աշխատում\\nոր հերթով ֆայլերով անցնում ա, սեվ ա\\nչափերը ու հետո էդ ֆայլը բացում եմ, մեջից\\nօգնում ա ինձ: Կարող եք փորձեք մի հատ\\nփորձեք մի հատ բան սարքել, որ ֆունկցիա\\nֆայլերը սիրուն կտեղավորի պապկաների մեջ,\\nExcelելներ ֆոլդերի մեջ, սաղ նկարները\\nկտեղափոխվի։ Զգույշ եղեք, որ ինչ-որ ձեր\\nփոխեք հավեսով ամեն ինչ, հետո չկարողանաք\\nսենց մի հատ ֆոլդեր կա, մեջը տեքստ մեկ\\nջեք python և այլն, վերադարձնի այ սենց մի\\nանեք, տենց ավելի հետաքրքիր կլինի երևի ու\\nըըը չափը ու ավելի լավ կլիներ հակառակը\\nիրա չափը անուն չափը անուն չափ ու տենց ու\\nտեսքի\\nտեսանամակը մերսի նշելու\\nՄի քիչ ավիրվեց այս վերջին քանի\\nբանից ֆայլերի ցանկից ստանանք ըստ իրենց\\nքանակի ըստ իրենց ֆայլի չափերի\\nֆոլդերներով որպես սպս մի հատ պրոյեկտ\\nէլ Google-ով ընկնեք, փորձեք սարքել\\n10 ֆայլերը որոնք են կամ ֆայլերի\\nփորձեք հասկանալ ոնց ա կարելի սարքել\\nայլն ու հա այստեղ կարաք բան անեք սա'"
      ]
     },
     "execution_count": 85,
     "metadata": {},
     "output_type": "execute_result"
    },
    {
     "ename": "",
     "evalue": "",
     "output_type": "error",
     "traceback": [
      "\u001b[1;31mThe Kernel crashed while executing code in the current cell or a previous cell. \n",
      "\u001b[1;31mPlease review the code in the cell(s) to identify a possible cause of the failure. \n",
      "\u001b[1;31mClick <a href='https://aka.ms/vscodeJupyterKernelCrash'>here</a> for more info. \n",
      "\u001b[1;31mView Jupyter <a href='command:jupyter.viewOutput'>log</a> for further details."
     ]
    }
   ],
   "source": [
    "from _youtube import YouTubeVideo\n",
    "\n",
    "video_url = input(\"Enter YouTube video URL: \")\n",
    "\n",
    "video = YouTubeVideo(video_url)\n",
    "tr = video.get_transcript()\n",
    "\n",
    "# save transcript to file\n",
    "with open(\"transcript.srt\", \"w\", encoding=\"utf-8\") as f:\n",
    "    f.write(tr)\n",
    "\n",
    "import re\n",
    "\n",
    "# ── configurable filters ────────────────────────────────────────────────\n",
    "TIMESTAMP_RGX      = re.compile(r'^\\d{2}:\\d{2}:\\d{2},\\d{3}\\s*-->', re.M)   # 00:00:00,000 -->\n",
    "STAGE_DIR_RGX      = re.compile(r'^[\\[(].*?[\\])]$', re.M)                  # [Music], (laughs)\n",
    "CUE_INDEX_RGX      = re.compile(r'^\\d+\\s*$', re.M)                         # 742\n",
    "BLANK_LINE_RGX     = re.compile(r'^\\s*$', re.M)                            # empty lines\n",
    "# ────────────────────────────────────────────────────────────────────────\n",
    "\n",
    "def clean_srt_text(srt_text: str, join_paragraphs: bool = False) -> str:\n",
    "    \"\"\"\n",
    "    Strip cue numbers, timestamps, blank lines and bracketed\n",
    "    stage directions from a YouTube­-generated SRT transcript.\n",
    "\n",
    "    Parameters\n",
    "    ----------\n",
    "    srt_text : str\n",
    "        Raw transcript exactly as read from an .srt file.\n",
    "    join_paragraphs : bool, default=False\n",
    "        If True, collapses all remaining lines into a single paragraph.\n",
    "\n",
    "    Returns\n",
    "    -------\n",
    "    str\n",
    "        Cleaned transcript text.\n",
    "    \"\"\"\n",
    "    # Remove each class of “extra stuff”\n",
    "    txt = TIMESTAMP_RGX.sub('', srt_text)\n",
    "    txt = CUE_INDEX_RGX.sub('', txt)\n",
    "    txt = STAGE_DIR_RGX.sub('', txt)\n",
    "    txt = BLANK_LINE_RGX.sub('\\n', txt)     # normalise multiple blank lines\n",
    "\n",
    "    # Strip leading/trailing whitespace on each line\n",
    "    lines = [ln.strip() for ln in txt.splitlines() if ln.strip()]\n",
    "    lines = [lines[i] for i in range(1, len(lines), 4)]\n",
    "    # take every 4th line (the actual text)\n",
    " \n",
    "\n",
    "    return (' '.join(lines) if join_paragraphs else '\\n'.join(lines))\n",
    "\n",
    "# ── example usage ────────────────────────────────────────────────────────\n",
    "if __name__ == \"__main__\":\n",
    "    # imagine srt_text came from an HTTP request, clipboard, etc.\n",
    "    with open(\"transcript.srt\", encoding=\"utf-8\") as f:\n",
    "        srt_text = f.read()\n",
    "\n",
    "    tr_clean = clean_srt_text(srt_text)              # multi-line output\n",
    "    # print(clean_srt_text(srt_text, True))      # one long paragraph\n",
    "tr_clean"
   ]
  },
  {
   "cell_type": "code",
   "execution_count": null,
   "id": "d21ea2e3",
   "metadata": {},
   "outputs": [],
   "source": [
    "\n",
    "\n",
    "\n",
    "prompt = \"\"\"You are given a YouTube transcript with timestamps. Identify 3-7 key segments and return \\ntitle and start_time in the format [start_time] [title]\\n\\n[INSTRUCTIONS]The text should be in Armenian, you are allowed to use English for terminology or technical terms if needed.\\n\\nYou need to be technical and precise. Make sure that the segments cover the entire video and are spaced with at least 5-10 minutes apart. Keep the format HH:MM:SS for timestamps. An example return is 00:00 Tuple\n",
    "14:00 Set\n",
    "31:54 Dictionary մոտիվացիա\n",
    "40:39 Dictionary. Return only a text with the segments in the format:\n",
    "# 00:00 Segment Title ...\"\"\"\n",
    "\n",
    "\n",
    "message = client.messages.create(\n",
    "    # model=\"claude-opus-4-20250514\",\n",
    "    model=\"claude-3-5-sonnet-20241022\",\n",
    "    max_tokens=1024,\n",
    "    system=prompt,\n",
    "    messages=[\n",
    "        {\"role\": \"user\", \"content\": tr_clean}\n",
    "    ]\n",
    ")\n",
    "\n",
    "text = message.content[0].text\n"
   ]
  },
  {
   "cell_type": "code",
   "execution_count": null,
   "id": "ff9d7ab8",
   "metadata": {},
   "outputs": [
    {
     "name": "stdout",
     "output_type": "stream",
     "text": [
      "Վարկյանները գեներացված են ԱԲ-ի կողմից, ձեռքով նորմալ չեմ ուղղել\n",
      "Here are the key segments from the video lecture:\n",
      "\n",
      "00:00:00 Գործնական խնդիր - Password գեներատոր\n",
      "- Առաջադրանք՝ ստեղծել password գեներատոր ֆունկցիա \n",
      "- Տարբեր բարդության մակարդակներ (easy, medium, hard)\n",
      "- Թվեր, տառեր և սիմվոլներ օգտագործելով\n",
      "\n",
      "00:29:30 Random մոդուլի կիրառում\n",
      "- Random մոդուլի հիմնական ֆունկցիաներ\n",
      "- Random choice և uniform ֆունկցիաներ\n",
      "- Պատահական թվերի գեներացում\n",
      "\n",
      "00:47:00 Մեծ թվերի օրենքի օրինակ\n",
      "- Կոպեկի գցման սիմուլյացիա \n",
      "- Հավանականությունների հաշվարկ\n",
      "- Պատահականության վիզուալիզացիա գրաֆիկով\n",
      "\n",
      "01:15:00 Matplotlib գրաֆիկների օգտագործում\n",
      "- Pyplot մոդուլի import\n",
      "- Գրաֆիկների կառուցում\n",
      "- Տվյալների վիզուալիզացիա\n",
      "\n",
      "01:30:00 Դասի ամփոփում և հաջորդ թեմաներ\n",
      "- Գրադարանների օգտագործման նախապատրաստում\n",
      "- Python-ի հնարավորությունների ընդլայնում\n",
      "- Հետագա ուսուցման պլաններ\n"
     ]
    }
   ],
   "source": [
    "\n",
    "print(\"Վարկյանները գեներացված են ԱԲ-ի կողմից, ձեռքով նորմալ չեմ ուղղել\")\n",
    "print(text.replace(\"#\", \"\"))"
   ]
  },
  {
   "cell_type": "code",
   "execution_count": null,
   "id": "05afdcc4",
   "metadata": {},
   "outputs": [],
   "source": [
    "\n",
    "# # extract ```json part\n",
    "# json_part = text.split(\"```json\")[1].split(\"```\")[0].strip()\n",
    "# import json\n",
    "# res = json.loads(json_part)\n",
    "# for segment in res:\n",
    "# \tprint(f\"{segment['start_time']} {segment['title']}\")"
   ]
  },
  {
   "cell_type": "code",
   "execution_count": null,
   "id": "818ef971",
   "metadata": {},
   "outputs": [],
   "source": [
    "# res = eval(message.content[0].text.replace(\"\\n\", \" \").replace(\"  \", \" \")[8:-4])"
   ]
  },
  {
   "cell_type": "code",
   "execution_count": null,
   "id": "ab2a9ad4",
   "metadata": {},
   "outputs": [],
   "source": [
    "# res"
   ]
  },
  {
   "cell_type": "code",
   "execution_count": null,
   "id": "74f6881a",
   "metadata": {},
   "outputs": [
    {
     "name": "stdout",
     "output_type": "stream",
     "text": [
      "Վարկյանները գեներացված են ԱԲ-ի կողմից, ձեռքով նորմալ չեմ ուղղել\n",
      "00:00:00 Գործնական դասերի ավարտ և հաջորդ թեմաների պլան\n",
      "00:11:00 YouTube-ից վիդեո մետադատաների քաշում dataclass-ով\n",
      "00:27:00 Transcript (ենթագրերի) քաշում և աշխատանք\n",
      "00:33:00 Աուդիո և վիդեո ֆայլերի ներբեռնում YouTube-ից\n",
      "00:52:00 Google Translate և DeepL API-ների հետ աշխատանք\n",
      "01:13:00 Աբստրակտ կլասներ և թարգմանիչների Pipeline\n",
      "01:26:00 Git և քոմիթների մասին քննարկում\n"
     ]
    }
   ],
   "source": [
    "print(\"Վարկյանները գեներացված են ԱԲ-ի կողմից, ձեռքով նորմալ չեմ ուղղել\")\n",
    "for segment in res:\n",
    "    print(f\"{segment['start_time']} {segment['title']}\")\n"
   ]
  },
  {
   "cell_type": "code",
   "execution_count": null,
   "id": "72f55816",
   "metadata": {},
   "outputs": [],
   "source": [
    "import anthropic\n",
    "\n",
    "client = anthropic.Anthropic(\n",
    "    # defaults to os.environ.get(\"ANTHROPIC_API_KEY\")\n",
    "    api_key=os.getenv(\"CLAUDE_API_KEY\"),\n",
    ")"
   ]
  },
  {
   "cell_type": "markdown",
   "id": "dea441bc",
   "metadata": {},
   "source": [
    "# Playlist"
   ]
  },
  {
   "cell_type": "code",
   "execution_count": 6,
   "id": "59063992",
   "metadata": {},
   "outputs": [],
   "source": [
    "import re\n",
    "import pandas as pd\n",
    "from tqdm import tqdm\n",
    "from _youtube import YouTubeVideo\n",
    "from pytubefix import Playlist, YouTube, Channel"
   ]
  },
  {
   "cell_type": "code",
   "execution_count": 7,
   "id": "4192ceb0",
   "metadata": {},
   "outputs": [],
   "source": [
    "ma = Channel(\"https://www.youtube.com/@MetricAcademy\")"
   ]
  },
  {
   "cell_type": "code",
   "execution_count": 8,
   "id": "81d433b1",
   "metadata": {},
   "outputs": [
    {
     "data": {
      "text/plain": [
       "[<pytubefix.contrib.Playlist object: playlistId=PLfLD2TpGxVUxu2_l1zR1RpGQqT9fp-WIR>, <pytubefix.contrib.Playlist object: playlistId=PLfLD2TpGxVUytC30DnVEKt-inCmsylOpY>, <pytubefix.contrib.Playlist object: playlistId=PLfLD2TpGxVUxfiN8AF5b-LFDvSrT_dVj6>, <pytubefix.contrib.Playlist object: playlistId=PLfLD2TpGxVUzpXv7Bey_8qkVKPSMhN2cS>, <pytubefix.contrib.Playlist object: playlistId=PLfLD2TpGxVUwro_kavF8BvvJXmyXB7jVF>, <pytubefix.contrib.Playlist object: playlistId=PLfLD2TpGxVUwUa_o8Fxig8SlC1PrLYWUg>, <pytubefix.contrib.Playlist object: playlistId=PLfLD2TpGxVUxjP7WnHxAWfbd8LWSY-pix>, <pytubefix.contrib.Playlist object: playlistId=PLfLD2TpGxVUwbO3Ts-JzkLTRaFcpTBgNL>, <pytubefix.contrib.Playlist object: playlistId=PLfLD2TpGxVUwkKFfZYCeIip7BHzmk0mbK>, <pytubefix.contrib.Playlist object: playlistId=PLfLD2TpGxVUwNhdJWh3lpAJLFBjV6ilqv>]"
      ]
     },
     "execution_count": 8,
     "metadata": {},
     "output_type": "execute_result"
    }
   ],
   "source": [
    "ma.playlists"
   ]
  },
  {
   "cell_type": "code",
   "execution_count": 9,
   "id": "a5ffd6a9",
   "metadata": {},
   "outputs": [
    {
     "data": {
      "text/plain": [
       "10"
      ]
     },
     "execution_count": 9,
     "metadata": {},
     "output_type": "execute_result"
    }
   ],
   "source": [
    "len(ma.video_urls)"
   ]
  },
  {
   "cell_type": "code",
   "execution_count": null,
   "id": "3a3f7fe0",
   "metadata": {},
   "outputs": [
    {
     "name": "stderr",
     "output_type": "stream",
     "text": [
      "  0%|          | 0/10 [00:00<?, ?it/s]"
     ]
    },
    {
     "name": "stdout",
     "output_type": "stream",
     "text": [
      "Python Libraries\n",
      "Python Libraries\n"
     ]
    },
    {
     "name": "stderr",
     "output_type": "stream",
     "text": [
      "100%|██████████| 1/1 [00:04<00:00,  4.04s/it]\n",
      " 10%|█         | 1/10 [00:06<00:55,  6.19s/it]"
     ]
    },
    {
     "name": "stdout",
     "output_type": "stream",
     "text": [
      "Tuple-ներ և Set-եր | 24 բաժին խնդիրներ | Python Profound\n",
      "Tupleներ և Setեր  24 բաժին խնդիրներ  Python Profound\n"
     ]
    },
    {
     "name": "stderr",
     "output_type": "stream",
     "text": [
      "100%|██████████| 5/5 [00:20<00:00,  4.12s/it]\n",
      " 20%|██        | 2/10 [00:28<02:07, 15.91s/it]"
     ]
    },
    {
     "name": "stdout",
     "output_type": "stream",
     "text": [
      "Ֆայլեր | 29 բաժին խնդիրներ | Python Profound\n",
      "Ֆայլեր  29 բաժին խնդիրներ  Python Profound\n"
     ]
    },
    {
     "name": "stderr",
     "output_type": "stream",
     "text": [
      "100%|██████████| 10/10 [00:42<00:00,  4.20s/it]\n",
      " 30%|███       | 3/10 [01:13<03:21, 28.79s/it]"
     ]
    },
    {
     "name": "stdout",
     "output_type": "stream",
     "text": [
      "Python - Պրոեկտներ\n",
      "Python  Պրոեկտներ\n"
     ]
    },
    {
     "name": "stderr",
     "output_type": "stream",
     "text": [
      "100%|██████████| 2/2 [00:08<00:00,  4.35s/it]\n",
      " 40%|████      | 4/10 [01:23<02:10, 21.73s/it]"
     ]
    },
    {
     "name": "stdout",
     "output_type": "stream",
     "text": [
      "Ֆունկցիաներ 1 | 26 բաժին խնդիրներ | Python Profound\n",
      "Ֆունկցիաներ 1  26 բաժին խնդիրներ  Python Profound\n"
     ]
    },
    {
     "name": "stderr",
     "output_type": "stream",
     "text": [
      "100%|██████████| 11/11 [00:50<00:00,  4.56s/it]\n",
      " 50%|█████     | 5/10 [02:16<02:44, 32.93s/it]"
     ]
    },
    {
     "name": "stdout",
     "output_type": "stream",
     "text": [
      "[2023] Python\n",
      "2023 Python\n"
     ]
    },
    {
     "name": "stderr",
     "output_type": "stream",
     "text": [
      "100%|██████████| 30/30 [02:33<00:00,  5.12s/it]\n",
      " 60%|██████    | 6/10 [04:52<04:59, 74.84s/it]"
     ]
    },
    {
     "name": "stdout",
     "output_type": "stream",
     "text": [
      "Խնդիրների լուծումներ | Python Profound\n",
      "Խնդիրների լուծումներ  Python Profound\n"
     ]
    },
    {
     "name": "stderr",
     "output_type": "stream",
     "text": [
      "100%|██████████| 35/35 [02:26<00:00,  4.19s/it]\n",
      " 70%|███████   | 7/10 [07:21<04:57, 99.00s/it]"
     ]
    },
    {
     "name": "stdout",
     "output_type": "stream",
     "text": [
      "Python - կարճ տեսադասեր\n",
      "Python  կարճ տեսադասեր\n"
     ]
    },
    {
     "name": "stderr",
     "output_type": "stream",
     "text": [
      "100%|██████████| 2/2 [00:08<00:00,  4.45s/it]\n",
      " 80%|████████  | 8/10 [07:32<02:22, 71.00s/it]"
     ]
    },
    {
     "name": "stdout",
     "output_type": "stream",
     "text": [
      "Չմոնտաժված տեսագրություններ\n",
      "Չմոնտաժված տեսագրություններ\n"
     ]
    },
    {
     "name": "stderr",
     "output_type": "stream",
     "text": [
      "100%|██████████| 1/1 [00:04<00:00,  4.96s/it]\n",
      " 90%|█████████ | 9/10 [07:39<00:50, 51.00s/it]"
     ]
    },
    {
     "name": "stdout",
     "output_type": "stream",
     "text": [
      "Python - Դասեր\n",
      "Python  Դասեր\n"
     ]
    },
    {
     "name": "stderr",
     "output_type": "stream",
     "text": [
      "100%|██████████| 26/26 [01:58<00:00,  4.54s/it]\n",
      "100%|██████████| 10/10 [09:40<00:00, 58.03s/it]\n"
     ]
    },
    {
     "ename": "AttributeError",
     "evalue": "'Channel' object has no attribute 'playlist_'",
     "output_type": "error",
     "traceback": [
      "\u001b[1;31m---------------------------------------------------------------------------\u001b[0m",
      "\u001b[1;31mAttributeError\u001b[0m                            Traceback (most recent call last)",
      "Cell \u001b[1;32mIn[10], line 19\u001b[0m\n\u001b[0;32m     16\u001b[0m     res_df\u001b[38;5;241m.\u001b[39mto_csv(\u001b[38;5;124mf\u001b[39m\u001b[38;5;124m\"\u001b[39m\u001b[38;5;124mout/\u001b[39m\u001b[38;5;132;01m{\u001b[39;00mpl_title_no_special_chars\u001b[38;5;132;01m}\u001b[39;00m\u001b[38;5;124m.csv\u001b[39m\u001b[38;5;124m\"\u001b[39m, index\u001b[38;5;241m=\u001b[39m\u001b[38;5;28;01mFalse\u001b[39;00m)\n\u001b[0;32m     18\u001b[0m \u001b[38;5;28;01mwith\u001b[39;00m \u001b[38;5;28mopen\u001b[39m(\u001b[38;5;124m\"\u001b[39m\u001b[38;5;124mout/export_info.txt\u001b[39m\u001b[38;5;124m\"\u001b[39m, \u001b[38;5;124m\"\u001b[39m\u001b[38;5;124mw\u001b[39m\u001b[38;5;124m\"\u001b[39m, encoding\u001b[38;5;241m=\u001b[39m\u001b[38;5;124m\"\u001b[39m\u001b[38;5;124mutf-8\u001b[39m\u001b[38;5;124m\"\u001b[39m) \u001b[38;5;28;01mas\u001b[39;00m f:\n\u001b[1;32m---> 19\u001b[0m     f\u001b[38;5;241m.\u001b[39mwritable(\u001b[38;5;124mf\u001b[39m\u001b[38;5;124m\"\u001b[39m\u001b[38;5;124mExported \u001b[39m\u001b[38;5;132;01m{\u001b[39;00m\u001b[38;5;28mlen\u001b[39m(\u001b[43mma\u001b[49m\u001b[38;5;241;43m.\u001b[39;49m\u001b[43mplaylist_\u001b[49m)\u001b[38;5;132;01m}\u001b[39;00m\u001b[38;5;124m playlists with \u001b[39m\u001b[38;5;132;01m{\u001b[39;00m\u001b[38;5;28mlen\u001b[39m(ma\u001b[38;5;241m.\u001b[39mvideo_urls)\u001b[38;5;132;01m}\u001b[39;00m\u001b[38;5;124m videos.\u001b[39m\u001b[38;5;130;01m\\n\u001b[39;00m\u001b[38;5;124m\"\u001b[39m)\n\u001b[0;32m     20\u001b[0m     f\u001b[38;5;241m.\u001b[39mwrite(\u001b[38;5;124mf\u001b[39m\u001b[38;5;124m\"\u001b[39m\u001b[38;5;124mDate: \u001b[39m\u001b[38;5;132;01m{\u001b[39;00mpd\u001b[38;5;241m.\u001b[39mTimestamp\u001b[38;5;241m.\u001b[39mnow()\u001b[38;5;132;01m}\u001b[39;00m\u001b[38;5;130;01m\\n\u001b[39;00m\u001b[38;5;124m\"\u001b[39m)\n",
      "\u001b[1;31mAttributeError\u001b[0m: 'Channel' object has no attribute 'playlist_'"
     ]
    }
   ],
   "source": [
    "for pl in tqdm(ma.playlists):\n",
    "    pl_title = pl.title\n",
    "    print(pl_title)\n",
    "    pl_title_no_special_chars = re.sub(r'[^\\w\\s]', '', pl_title)\n",
    "    print(pl_title_no_special_chars)\n",
    "    \n",
    "    res = []\n",
    "\n",
    "    for v in tqdm(pl.video_urls):\n",
    "        video = YouTubeVideo(v)\n",
    "        \n",
    "        data = video.get_metadata()\n",
    "        res.append(data)\n",
    "    \n",
    "    res_df = pd.DataFrame(res)\n",
    "    res_df.to_csv(f\"out/{pl_title_no_special_chars}.csv\", index=False)\n"
   ]
  },
  {
   "cell_type": "code",
   "execution_count": 12,
   "id": "0cd9218a",
   "metadata": {},
   "outputs": [],
   "source": [
    "\n",
    "with open(\"out/export_info.txt\", \"w\", encoding=\"utf-8\") as f:\n",
    "    f.write(f\"Exported {len(ma.playlists)} playlists with {len(ma.video_urls)} videos.\\n\")\n",
    "    f.write(f\"Date: {pd.Timestamp.now()}\\n\")"
   ]
  },
  {
   "cell_type": "code",
   "execution_count": 13,
   "id": "7876dca1",
   "metadata": {},
   "outputs": [],
   "source": [
    "# pandas merge all cvs on a folder into one excel file\n",
    "import os\n",
    "import pandas as pd\n",
    "\n",
    "folder_path = \"out\"\n",
    "all_files = [f for f in os.listdir(folder_path) if f.endswith('.csv')]\n",
    "with pd.ExcelWriter(\"out/merged_data.xlsx\") as writer:\n",
    "    for file in all_files:\n",
    "        df = pd.read_csv(os.path.join(folder_path, file))\n",
    "        sheet_name = os.path.splitext(file)[0][:31]  # Excel sheet name max length is 31\n",
    "        df.to_excel(writer, sheet_name=sheet_name, index=False)"
   ]
  },
  {
   "cell_type": "markdown",
   "id": "503a486b",
   "metadata": {},
   "source": [
    "# Armenian transcript"
   ]
  },
  {
   "cell_type": "code",
   "execution_count": 4,
   "id": "ac6153e6",
   "metadata": {},
   "outputs": [
    {
     "ename": "NameError",
     "evalue": "name 'YouTubeVideo' is not defined",
     "output_type": "error",
     "traceback": [
      "\u001b[1;31m---------------------------------------------------------------------------\u001b[0m",
      "\u001b[1;31mNameError\u001b[0m                                 Traceback (most recent call last)",
      "Cell \u001b[1;32mIn[4], line 1\u001b[0m\n\u001b[1;32m----> 1\u001b[0m vid \u001b[38;5;241m=\u001b[39m \u001b[43mYouTubeVideo\u001b[49m(\u001b[38;5;124m\"\u001b[39m\u001b[38;5;124mhttps://youtu.be/7XsIyFTImwk\u001b[39m\u001b[38;5;124m\"\u001b[39m)\n\u001b[0;32m      3\u001b[0m tr \u001b[38;5;241m=\u001b[39m vid\u001b[38;5;241m.\u001b[39mget_transcript(\u001b[38;5;124m\"\u001b[39m\u001b[38;5;124ma,hy\u001b[39m\u001b[38;5;124m\"\u001b[39m, return_srt\u001b[38;5;241m=\u001b[39m\u001b[38;5;28;01mFalse\u001b[39;00m)\n\u001b[0;32m      4\u001b[0m \u001b[38;5;28mprint\u001b[39m(\u001b[38;5;124mf\u001b[39m\u001b[38;5;124m\"\u001b[39m\u001b[38;5;124mNum characters \u001b[39m\u001b[38;5;132;01m{\u001b[39;00m\u001b[38;5;28mlen\u001b[39m(tr)\u001b[38;5;132;01m}\u001b[39;00m\u001b[38;5;124m | Num words \u001b[39m\u001b[38;5;132;01m{\u001b[39;00m\u001b[38;5;28mlen\u001b[39m(tr\u001b[38;5;241m.\u001b[39msplit())\u001b[38;5;132;01m}\u001b[39;00m\u001b[38;5;124m | Num sentences \u001b[39m\u001b[38;5;132;01m{\u001b[39;00m\u001b[38;5;28mlen\u001b[39m(tr\u001b[38;5;241m.\u001b[39msplit(\u001b[38;5;124m'\u001b[39m\u001b[38;5;124m.\u001b[39m\u001b[38;5;124m'\u001b[39m))\u001b[38;5;132;01m}\u001b[39;00m\u001b[38;5;124m\"\u001b[39m)\n",
      "\u001b[1;31mNameError\u001b[0m: name 'YouTubeVideo' is not defined"
     ]
    }
   ],
   "source": [
    "vid = YouTubeVideo(\"https://youtu.be/7XsIyFTImwk\")\n",
    "\n",
    "tr = vid.get_transcript(\"a,hy\", return_srt=False)\n",
    "print(f\"Num characters {len(tr)} | Num words {len(tr.split())} | Num sentences {len(tr.split('.'))}\")\n"
   ]
  },
  {
   "cell_type": "code",
   "execution_count": 14,
   "id": "202d2dbe",
   "metadata": {},
   "outputs": [],
   "source": [
    "from googletrans import Translator\n",
    "\n",
    "async def google_translate(text, target_lang):\n",
    "    async with Translator() as translator:\n",
    "        result = await translator.translate(text, dest=target_lang)\n",
    "        return result.text"
   ]
  },
  {
   "cell_type": "code",
   "execution_count": 15,
   "id": "a20c254d",
   "metadata": {},
   "outputs": [],
   "source": [
    "translation = await google_translate(tr, \"hy\")"
   ]
  },
  {
   "cell_type": "code",
   "execution_count": 16,
   "id": "9a43f58d",
   "metadata": {},
   "outputs": [
    {
     "data": {
      "text/plain": [
       "'Այդ ցուրտ, անձրեւոտ օրերին, երբ մոռանում ես անձրեւի բաճկոնը կամ հովանոցը, եւ ուզում ես հնարավորինս չոր մնալ ... պետք է քայլես եւ ավելի շատ ժամանակ անցկացիր անձրեւի տակ: Կամ պետք է գործարկեք, ինչը նշանակում է, որ դուք կխորտակվեք ավելի շատ անձրեւաջրերի կողքից: Ենթադրելով, որ դուք դեռ լիովին ներծծված չեք եղել, եւ դուք չեք նետվում պուդլների մեջ, պատասխանը պարզ է: Երբ դուրս եք գալիս անձրեւաջրերի մեկ ճանապարհից, դուք անցնում եք մեկ ուրիշի ճանապարհով: Այսպիսով, ձեր գագաթին հարվածող անձրեւի քանակը կայուն է, անկախ այն բանից, թե որքան արագ եք գնում: Այլապես, կարող եք պատկերացնել, որ անձրեւներն իրենք են գրենական պիտույքներ, եւ դուք (եւ ձեր տակ գտնվող երկիրը) շարժվում են անձրեւի միջով: Եվ քանի որ զուգահեռացված (դա 3D զուգահեռ) ծավալը կախված չէ իր թեքությունից, այնուհետեւ անկախ նրանից, թե որքան արագ եք հորիզոնական շարժվում, նույն քանակությամբ անձրեւի վրա կուղեւորվի ձեզանից յուրաքանչյուր վայրկյան: Հիմա, եթե դուք չեք շարժվում, վերեւից անձրեւը բոլորը կստանաք: Բայց եթե շարժվում ես, կողքից նույնպես վազելու ես անձրեւաջրերի մեջ եւ կթուլես: Այսպիսով, ցանկացած պահի, դուք մնում եք Drouest, կանգնած լինելով, եւ ավելի արագ եք շարժվում այն \\u200b\\u200bթացը: Բայց եթե դուք փորձում եք ստանալ A կետից B կետը, ապա կանգնելը դեռ ձեզ շատ լավ չի անի: Եվ երթուղին դեպի B կետ B կետը, որի մեջ ընկած անձրեւի ընդհանուր քանակը ոչ մի կապ չունի այն մասին, թե որքան արագ եք գնում: Անձրեւի միջով անցնելու դեպքում կարող եք դա կրկին պատկերացնել զուգահեռների օգտագործմամբ: Այսպիսով, տվյալ ժամանակահատվածի ընթացքում նույն քանակությամբ անձրեւը ձեզ կխփի վերեւից, անկախ նրանից, թե որքան արագ եք գնում: Եվ տվյալ հեռավորության վրա, դուք կխփեք նույն քանակությամբ անձրեւից, կրկին, անկախ նրանից, թե որքան արագ եք գնում: Այսպիսով, ձեր ընդհանուր խոնավությունը հավասար է անձրեւի համար մեկ վայրկյանում գտնվող խոնավության համար `անձրեւի ժամանակ անցկացրած ժամանակի քանակը, գումարած մեկ մետրով մեկ մետր հեռավորության վրա գտնվող մետր հեռավորության վրա: Այսպիսով, որպեսզի մնա մի կետից մյուսը, դուք պետք է փորձեք նվազագույնի հասցնել վերեւից ձեզ վրա ընկած ջրի քանակը: Եվ, միանգամայն պարզապես, դա նշանակում է անձրեւից հնարավորինս արագ դուրս գալ:'"
      ]
     },
     "execution_count": 16,
     "metadata": {},
     "output_type": "execute_result"
    }
   ],
   "source": [
    "translation"
   ]
  },
  {
   "cell_type": "code",
   "execution_count": 38,
   "id": "1ae84970",
   "metadata": {},
   "outputs": [
    {
     "name": "stdout",
     "output_type": "stream",
     "text": [
      "Collecting google-genai\n",
      "  Using cached google_genai-1.23.0-py3-none-any.whl.metadata (38 kB)\n",
      "Requirement already satisfied: anyio<5.0.0,>=4.8.0 in c:\\users\\hayk_\\.conda\\envs\\youtube\\lib\\site-packages (from google-genai) (4.9.0)\n",
      "Requirement already satisfied: google-auth<3.0.0,>=2.14.1 in c:\\users\\hayk_\\.conda\\envs\\youtube\\lib\\site-packages (from google-genai) (2.40.3)\n",
      "Requirement already satisfied: httpx<1.0.0,>=0.28.1 in c:\\users\\hayk_\\.conda\\envs\\youtube\\lib\\site-packages (from google-genai) (0.28.1)\n",
      "Requirement already satisfied: pydantic<3.0.0,>=2.0.0 in c:\\users\\hayk_\\.conda\\envs\\youtube\\lib\\site-packages (from google-genai) (2.11.7)\n",
      "Requirement already satisfied: requests<3.0.0,>=2.28.1 in c:\\users\\hayk_\\.conda\\envs\\youtube\\lib\\site-packages (from google-genai) (2.32.4)\n",
      "Collecting tenacity<9.0.0,>=8.2.3 (from google-genai)\n",
      "  Using cached tenacity-8.5.0-py3-none-any.whl.metadata (1.2 kB)\n",
      "Collecting websockets<15.1.0,>=13.0.0 (from google-genai)\n",
      "  Using cached websockets-15.0.1-cp310-cp310-win_amd64.whl.metadata (7.0 kB)\n",
      "Requirement already satisfied: typing-extensions<5.0.0,>=4.11.0 in c:\\users\\hayk_\\.conda\\envs\\youtube\\lib\\site-packages (from google-genai) (4.14.0)\n",
      "Requirement already satisfied: exceptiongroup>=1.0.2 in c:\\users\\hayk_\\.conda\\envs\\youtube\\lib\\site-packages (from anyio<5.0.0,>=4.8.0->google-genai) (1.3.0)\n",
      "Requirement already satisfied: idna>=2.8 in c:\\users\\hayk_\\.conda\\envs\\youtube\\lib\\site-packages (from anyio<5.0.0,>=4.8.0->google-genai) (3.10)\n",
      "Requirement already satisfied: sniffio>=1.1 in c:\\users\\hayk_\\.conda\\envs\\youtube\\lib\\site-packages (from anyio<5.0.0,>=4.8.0->google-genai) (1.3.1)\n",
      "Requirement already satisfied: cachetools<6.0,>=2.0.0 in c:\\users\\hayk_\\.conda\\envs\\youtube\\lib\\site-packages (from google-auth<3.0.0,>=2.14.1->google-genai) (5.5.2)\n",
      "Requirement already satisfied: pyasn1-modules>=0.2.1 in c:\\users\\hayk_\\.conda\\envs\\youtube\\lib\\site-packages (from google-auth<3.0.0,>=2.14.1->google-genai) (0.4.2)\n",
      "Requirement already satisfied: rsa<5,>=3.1.4 in c:\\users\\hayk_\\.conda\\envs\\youtube\\lib\\site-packages (from google-auth<3.0.0,>=2.14.1->google-genai) (4.9.1)\n",
      "Requirement already satisfied: certifi in c:\\users\\hayk_\\.conda\\envs\\youtube\\lib\\site-packages (from httpx<1.0.0,>=0.28.1->google-genai) (2025.6.15)\n",
      "Requirement already satisfied: httpcore==1.* in c:\\users\\hayk_\\.conda\\envs\\youtube\\lib\\site-packages (from httpx<1.0.0,>=0.28.1->google-genai) (1.0.9)\n",
      "Requirement already satisfied: h11>=0.16 in c:\\users\\hayk_\\.conda\\envs\\youtube\\lib\\site-packages (from httpcore==1.*->httpx<1.0.0,>=0.28.1->google-genai) (0.16.0)\n",
      "Requirement already satisfied: annotated-types>=0.6.0 in c:\\users\\hayk_\\.conda\\envs\\youtube\\lib\\site-packages (from pydantic<3.0.0,>=2.0.0->google-genai) (0.7.0)\n",
      "Requirement already satisfied: pydantic-core==2.33.2 in c:\\users\\hayk_\\.conda\\envs\\youtube\\lib\\site-packages (from pydantic<3.0.0,>=2.0.0->google-genai) (2.33.2)\n",
      "Requirement already satisfied: typing-inspection>=0.4.0 in c:\\users\\hayk_\\.conda\\envs\\youtube\\lib\\site-packages (from pydantic<3.0.0,>=2.0.0->google-genai) (0.4.1)\n",
      "Requirement already satisfied: charset_normalizer<4,>=2 in c:\\users\\hayk_\\.conda\\envs\\youtube\\lib\\site-packages (from requests<3.0.0,>=2.28.1->google-genai) (3.4.2)\n",
      "Requirement already satisfied: urllib3<3,>=1.21.1 in c:\\users\\hayk_\\.conda\\envs\\youtube\\lib\\site-packages (from requests<3.0.0,>=2.28.1->google-genai) (2.5.0)\n",
      "Requirement already satisfied: pyasn1>=0.1.3 in c:\\users\\hayk_\\.conda\\envs\\youtube\\lib\\site-packages (from rsa<5,>=3.1.4->google-auth<3.0.0,>=2.14.1->google-genai) (0.6.1)\n",
      "Using cached google_genai-1.23.0-py3-none-any.whl (223 kB)\n",
      "Using cached tenacity-8.5.0-py3-none-any.whl (28 kB)\n",
      "Using cached websockets-15.0.1-cp310-cp310-win_amd64.whl (176 kB)\n",
      "Installing collected packages: websockets, tenacity, google-genai\n",
      "\n",
      "   ---------------------------------------- 0/3 [websockets]\n",
      "   ---------------------------------------- 0/3 [websockets]\n",
      "   ---------------------------------------- 0/3 [websockets]\n",
      "   ---------------------------------------- 0/3 [websockets]\n",
      "   ---------------------------------------- 0/3 [websockets]\n",
      "   ---------------------------------------- 0/3 [websockets]\n",
      "   ---------------------------------------- 0/3 [websockets]\n",
      "   ------------- -------------------------- 1/3 [tenacity]\n",
      "   -------------------------- ------------- 2/3 [google-genai]\n",
      "   -------------------------- ------------- 2/3 [google-genai]\n",
      "   -------------------------- ------------- 2/3 [google-genai]\n",
      "   -------------------------- ------------- 2/3 [google-genai]\n",
      "   -------------------------- ------------- 2/3 [google-genai]\n",
      "   ---------------------------------------- 3/3 [google-genai]\n",
      "\n",
      "Successfully installed google-genai-1.23.0 tenacity-8.5.0 websockets-15.0.1\n"
     ]
    }
   ],
   "source": [
    "# !pip install --upgrade google-api-python-client\n",
    "!pip install google-genai"
   ]
  },
  {
   "cell_type": "code",
   "execution_count": 43,
   "id": "f1ac76bf",
   "metadata": {},
   "outputs": [
    {
     "data": {
      "text/plain": [
       "True"
      ]
     },
     "execution_count": 43,
     "metadata": {},
     "output_type": "execute_result"
    }
   ],
   "source": [
    "from dotenv import load_dotenv\n",
    "load_dotenv()"
   ]
  },
  {
   "cell_type": "code",
   "execution_count": 25,
   "id": "1a0c4dc8",
   "metadata": {},
   "outputs": [],
   "source": [
    "text = \"\"\"Այն ցուրտ, անձրևոտ օրերին, երբ մոռանում եք ձեր անձրևանոցը և ցանկանում եք հնարավորինս չոր մնալ ... պետք է քայլե՞լ և ավելի շատ ժամանակ անցկացնել անձրևի տակ: Թե՞ պետք է վազել, ինչը նշանակում է, որ կբախվենք նաև կողքից ընկնող անձրևի կաթիլների հետ: \n",
    "...\n",
    "Ենթադրելով, որ դուք դեռ ամբողջությամբ չեք թրջվել և չեք թռչում ջրակույտերի մեջ, պատասխանը պարզ է: Երբ դուք շարժվում եք մի ընկնող անձրևի կաթիլից դուրս, դուք շարժվում եք մեկ այլ կաթիլի ուղղությամբ: Այսպիսով, ձեզ վերևից հարվածող անձրևի կաթիլների քանակը հաստատուն է՝ անկախ նրանից, թե որքան արագ եք շարժվում: \n",
    "...\n",
    "Որպես այլընտրանք՝ կարող եք պատկերացնել, որ անձրևօ կաթիլները անշարքժ են, իսկ դուք (ձեր տակ գտնվող երկրագնդի հետ միասին) շարժվում ենք վերև անձրևի միջով: \n",
    "...\n",
    "Եվ քանի որ զուգահեռանիստի (նույն ինքը՝ երեք դ զուգահեռագծի) ծավալը կախված չէ նրա թեքությունից, ապա անկախ նրանից, թե որքան արագ եք հորիզոնական շարժվում, ամեն վարկյան ձեր վրա ընկած անձևի քանակը նույնն է լինելու։\n",
    "...\n",
    "Եթե դուք չեք շարժվում, ապա վերևից ընկնող անձրևի կաթիլները միակն ենք որոնց կբախվենք: Բայց եթե շարժվում ենք, ապա նաև կբախվենք կողքից եկող անձրևի կաթլիներին և ավելի շատ կթրջվենք: Այսպիսով, ամեն վայրկյան, ամենաչորը մնալու համար պետք է անշարժ կանգնենք, և որքան ավելի արագ շարժվենք, այնքան ավելի շատ կթրջվենք:\n",
    "...\n",
    "Բայց եթե փորձում եք հասնել A կետից B կետ, ապա անշարժ կանգնելը լավագույն միտքը չէ: Եվ A կետից B կետ գնալու ժամանակ, անձրևի ընդհանուր քանակը, որին կբախվեք կողքից, կախված չէ նրանից, թե որքան արագ եք գնում - ճիշտ այնպես, ինչպես ձյունամաքրող մեքենան նույն քանակությամբ ձյուն կմաքրի ճանապարհի մի հատվածից՝ անկախ նրա արագությունից: Անձրևի միջով վազելու դեպքի համար կարող եք դա պարզել կրկին զուգահեռանիստների օգնությամբ:\n",
    "...\n",
    "Այսպիսով, ձեր ընդհանուր թրջվածությունը հավասար է ամեն վարկյան վերևից եկող անձրևի պատճառով թրջվածությանը՝ բազմապատկած անձրևի տակ անցկացրած ժամանակի քանակով, գումարած կողքից եկող անձրևի թրջվածությանը ամեն մետրի համար՝ բազմապատկած ձեր անցած մետրերի քանակով:\n",
    "...\n",
    "Հիշենք որ ֆիքսված ժամանակահատվածում նույն քանակությամբ անձրև կհարվածի ձեզ վերևից՝ անկախ նրանից, թե որքան արագ եք գնում: Եվ տվյալ հեռավորության վրա՝ նույն քանակությամբ անձրև կհարվածի կողքից - կրկին, անկախ նրանից, թե որքան արագ եք գնում:\n",
    "...\n",
    "Իմի բերելով, մի կետից մյուսը գնալիս ամենաչորը մնալու համար, պետք է փորձել նվազագույնի հասցնել վերևից ձեր վրա ընկնող ջրի քանակը: Եվ բավականին պարզ է, որ դա նշանակում է անձրևից հնարավորինս արագ փախչել:\n",
    "\"\"\""
   ]
  },
  {
   "cell_type": "code",
   "execution_count": 26,
   "id": "199cd1ff",
   "metadata": {},
   "outputs": [
    {
     "name": "stdout",
     "output_type": "stream",
     "text": [
      "Num characters 2326 | Num words 354 | Num sentences 4\n"
     ]
    }
   ],
   "source": [
    "tr = text\n",
    "print(f\"Num characters {len(tr)} | Num words {len(tr.split())} | Num sentences {len(tr.split('.'))}\")\n"
   ]
  },
  {
   "cell_type": "code",
   "execution_count": 27,
   "id": "fd2c6665",
   "metadata": {},
   "outputs": [
    {
     "name": "stdout",
     "output_type": "stream",
     "text": [
      "File saved to to: first_attmempt_0.wav\n"
     ]
    }
   ],
   "source": [
    "# To run this code you need to install the following dependencies:\n",
    "# pip install google-genai\n",
    "\n",
    "import base64\n",
    "import mimetypes\n",
    "import os\n",
    "import re\n",
    "import struct\n",
    "from google import genai\n",
    "from google.genai import types\n",
    "\n",
    "\n",
    "def save_binary_file(file_name, data):\n",
    "    f = open(file_name, \"wb\")\n",
    "    f.write(data)\n",
    "    f.close()\n",
    "    print(f\"File saved to to: {file_name}\")\n",
    "\n",
    "\n",
    "def generate():\n",
    "    client = genai.Client(\n",
    "        api_key=os.environ.get(\"GEMINI_API_KEY\"),\n",
    "    )\n",
    "\n",
    "    model = \"gemini-2.5-pro-preview-tts\"\n",
    "    contents = [\n",
    "        types.Content(\n",
    "            role=\"user\",\n",
    "            parts=[\n",
    "                types.Part.from_text(text=text),\n",
    "            ],\n",
    "        ),\n",
    "    ]\n",
    "    generate_content_config = types.GenerateContentConfig(\n",
    "        temperature=1,\n",
    "        response_modalities=[\n",
    "            \"audio\",\n",
    "        ],\n",
    "        speech_config=types.SpeechConfig(\n",
    "            voice_config=types.VoiceConfig(\n",
    "                prebuilt_voice_config=types.PrebuiltVoiceConfig(\n",
    "                    voice_name=\"Zephyr\"\n",
    "                )\n",
    "            )\n",
    "        ),\n",
    "    )\n",
    "\n",
    "    file_index = 0\n",
    "    for chunk in client.models.generate_content_stream(\n",
    "        model=model,\n",
    "        contents=contents,\n",
    "        config=generate_content_config,\n",
    "    ):\n",
    "        if (\n",
    "            chunk.candidates is None\n",
    "            or chunk.candidates[0].content is None\n",
    "            or chunk.candidates[0].content.parts is None\n",
    "        ):\n",
    "            continue\n",
    "        if chunk.candidates[0].content.parts[0].inline_data and chunk.candidates[0].content.parts[0].inline_data.data:\n",
    "            file_name = f\"first_attmempt_{file_index}\"\n",
    "            file_index += 1\n",
    "            inline_data = chunk.candidates[0].content.parts[0].inline_data\n",
    "            data_buffer = inline_data.data\n",
    "            file_extension = mimetypes.guess_extension(inline_data.mime_type)\n",
    "            if file_extension is None:\n",
    "                file_extension = \".wav\"\n",
    "                data_buffer = convert_to_wav(inline_data.data, inline_data.mime_type)\n",
    "            save_binary_file(f\"{file_name}{file_extension}\", data_buffer)\n",
    "        else:\n",
    "            print(chunk.text)\n",
    "\n",
    "def convert_to_wav(audio_data: bytes, mime_type: str) -> bytes:\n",
    "    \"\"\"Generates a WAV file header for the given audio data and parameters.\n",
    "\n",
    "    Args:\n",
    "        audio_data: The raw audio data as a bytes object.\n",
    "        mime_type: Mime type of the audio data.\n",
    "\n",
    "    Returns:\n",
    "        A bytes object representing the WAV file header.\n",
    "    \"\"\"\n",
    "    parameters = parse_audio_mime_type(mime_type)\n",
    "    bits_per_sample = parameters[\"bits_per_sample\"]\n",
    "    sample_rate = parameters[\"rate\"]\n",
    "    num_channels = 1\n",
    "    data_size = len(audio_data)\n",
    "    bytes_per_sample = bits_per_sample // 8\n",
    "    block_align = num_channels * bytes_per_sample\n",
    "    byte_rate = sample_rate * block_align\n",
    "    chunk_size = 36 + data_size  # 36 bytes for header fields before data chunk size\n",
    "\n",
    "    # http://soundfile.sapp.org/doc/WaveFormat/\n",
    "\n",
    "    header = struct.pack(\n",
    "        \"<4sI4s4sIHHIIHH4sI\",\n",
    "        b\"RIFF\",          # ChunkID\n",
    "        chunk_size,       # ChunkSize (total file size - 8 bytes)\n",
    "        b\"WAVE\",          # Format\n",
    "        b\"fmt \",          # Subchunk1ID\n",
    "        16,               # Subchunk1Size (16 for PCM)\n",
    "        1,                # AudioFormat (1 for PCM)\n",
    "        num_channels,     # NumChannels\n",
    "        sample_rate,      # SampleRate\n",
    "        byte_rate,        # ByteRate\n",
    "        block_align,      # BlockAlign\n",
    "        bits_per_sample,  # BitsPerSample\n",
    "        b\"data\",          # Subchunk2ID\n",
    "        data_size         # Subchunk2Size (size of audio data)\n",
    "    )\n",
    "    return header + audio_data\n",
    "\n",
    "def parse_audio_mime_type(mime_type: str) -> dict[str, int | None]:\n",
    "    \"\"\"Parses bits per sample and rate from an audio MIME type string.\n",
    "\n",
    "    Assumes bits per sample is encoded like \"L16\" and rate as \"rate=xxxxx\".\n",
    "\n",
    "    Args:\n",
    "        mime_type: The audio MIME type string (e.g., \"audio/L16;rate=24000\").\n",
    "\n",
    "    Returns:\n",
    "        A dictionary with \"bits_per_sample\" and \"rate\" keys. Values will be\n",
    "        integers if found, otherwise None.\n",
    "    \"\"\"\n",
    "    bits_per_sample = 16\n",
    "    rate = 24000\n",
    "\n",
    "    # Extract rate from parameters\n",
    "    parts = mime_type.split(\";\")\n",
    "    for param in parts: # Skip the main type part\n",
    "        param = param.strip()\n",
    "        if param.lower().startswith(\"rate=\"):\n",
    "            try:\n",
    "                rate_str = param.split(\"=\", 1)[1]\n",
    "                rate = int(rate_str)\n",
    "            except (ValueError, IndexError):\n",
    "                # Handle cases like \"rate=\" with no value or non-integer value\n",
    "                pass # Keep rate as default\n",
    "        elif param.startswith(\"audio/L\"):\n",
    "            try:\n",
    "                bits_per_sample = int(param.split(\"L\", 1)[1])\n",
    "            except (ValueError, IndexError):\n",
    "                pass # Keep bits_per_sample as default if conversion fails\n",
    "\n",
    "    return {\"bits_per_sample\": bits_per_sample, \"rate\": rate}\n",
    "\n",
    "\n",
    "if __name__ == \"__main__\":\n",
    "    generate()\n"
   ]
  },
  {
   "cell_type": "code",
   "execution_count": 30,
   "id": "0c1f80d4",
   "metadata": {},
   "outputs": [],
   "source": [
    "from pytubefix import YouTube"
   ]
  },
  {
   "cell_type": "code",
   "execution_count": 31,
   "id": "fc14efbc",
   "metadata": {},
   "outputs": [],
   "source": [
    "yt_orig = YouTube(\"https://www.youtube.com/watch?v=3MqYE2UuN24\")"
   ]
  },
  {
   "cell_type": "code",
   "execution_count": 33,
   "id": "8513b13e",
   "metadata": {},
   "outputs": [
    {
     "name": "stdout",
     "output_type": "stream",
     "text": [
      "Thumbnail saved as thumbnail.jpg\n"
     ]
    }
   ],
   "source": [
    "import requests\n",
    "\n",
    "url = yt_orig.thumbnail_url\n",
    "response = requests.get(url)\n",
    "if response.status_code == 200:\n",
    "    with open(\"thumbnail.jpg\", \"wb\") as f:\n",
    "        f.write(response.content)\n",
    "    print(\"Thumbnail saved as thumbnail.jpg\")\n",
    "else:\n",
    "    print(\"Failed to fetch thumbnail:\", response.status_code)"
   ]
  },
  {
   "cell_type": "markdown",
   "id": "48fd4eaf",
   "metadata": {},
   "source": [
    "# Audio video download"
   ]
  },
  {
   "cell_type": "code",
   "execution_count": 5,
   "id": "055849c5",
   "metadata": {},
   "outputs": [],
   "source": [
    "from _youtube import YouTubeVideo\n"
   ]
  },
  {
   "cell_type": "code",
   "execution_count": 7,
   "id": "92a8035e",
   "metadata": {},
   "outputs": [],
   "source": [
    "yt = YouTubeVideo(\"https://www.youtube.com/watch?v=3MqYE2UuN24\")\n",
    "\n",
    "yt.download_audio(output_path=\"running_in_the_rain\")"
   ]
  },
  {
   "cell_type": "code",
   "execution_count": 8,
   "id": "bf61c0a3",
   "metadata": {},
   "outputs": [
    {
     "name": "stdout",
     "output_type": "stream",
     "text": [
      "Downloading video 3MqYE2UuN24 to running_in_the_rain with highest quality: True\n"
     ]
    }
   ],
   "source": [
    "yt.download_video(output_path=\"running_in_the_rain\", highest_quality=True)"
   ]
  },
  {
   "cell_type": "code",
   "execution_count": 9,
   "id": "18c7c748",
   "metadata": {},
   "outputs": [],
   "source": [
    "yt.download_transcript(output_path=\"running_in_the_rain\", language=\"en\")"
   ]
  },
  {
   "cell_type": "code",
   "execution_count": 17,
   "id": "40489827",
   "metadata": {},
   "outputs": [],
   "source": [
    "transcript_text = yt.get_transcript(\"en\", return_srt=False)\n"
   ]
  },
  {
   "cell_type": "code",
   "execution_count": 19,
   "id": "bfc3512f",
   "metadata": {},
   "outputs": [
    {
     "data": {
      "text/plain": [
       "'Այդ ցուրտ, անձրեւոտ օրերին, երբ մոռանում ես անձրեւի բաճկոնը կամ հովանոցը, եւ ուզում ես հնարավորինս չոր մնալ ... պետք է քայլես եւ ավելի շատ ժամանակ անցկացիր անձրեւի տակ: Կամ պետք է գործարկեք, ինչը նշանակում է, որ դուք կխորտակվեք ավելի շատ անձրեւաջրերի կողքից: Ենթադրելով, որ դուք դեռ լիովին ներծծված չեք եղել, եւ դուք չեք նետվում պուդլների մեջ, պատասխանը պարզ է: Երբ դուրս եք գալիս անձրեւաջրերի մեկ ճանապարհից, դուք անցնում եք մեկ ուրիշի ճանապարհով: Այսպիսով, ձեր գագաթին հարվածող անձրեւի քանակը կայուն է, անկախ այն բանից, թե որքան արագ եք գնում: Այլապես, կարող եք պատկերացնել, որ անձրեւներն իրենք են գրենական պիտույքներ, եւ դուք (եւ ձեր տակ գտնվող երկիրը) շարժվում են անձրեւի միջով: Եվ քանի որ զուգահեռացված (դա 3D զուգահեռ) ծավալը կախված չէ իր թեքությունից, այնուհետեւ անկախ նրանից, թե որքան արագ եք հորիզոնական շարժվում, նույն քանակությամբ անձրեւի վրա կուղեւորվի ձեզանից յուրաքանչյուր վայրկյան: Հիմա, եթե դուք չեք շարժվում, վերեւից անձրեւը բոլորը կստանաք: Բայց եթե շարժվում ես, կողքից նույնպես վազելու ես անձրեւաջրերի մեջ եւ կթուլես: Այսպիսով, ցանկացած պահի, դուք մնում եք Drouest, կանգնած լինելով, եւ ավելի արագ եք շարժվում այն \\u200b\\u200bթացը: Բայց եթե դուք փորձում եք ստանալ A կետից B կետը, ապա կանգնելը դեռ ձեզ շատ լավ չի անի: Եվ երթուղին դեպի B կետ B կետը, որի մեջ ընկած անձրեւի ընդհանուր քանակը ոչ մի կապ չունի այն մասին, թե որքան արագ եք գնում: Անձրեւի միջով անցնելու դեպքում կարող եք դա կրկին պատկերացնել զուգահեռների օգտագործմամբ: Այսպիսով, տվյալ ժամանակահատվածի ընթացքում նույն քանակությամբ անձրեւը ձեզ կխփի վերեւից, անկախ նրանից, թե որքան արագ եք գնում: Եվ տվյալ հեռավորության վրա, դուք կխփեք նույն քանակությամբ անձրեւից, կրկին, անկախ նրանից, թե որքան արագ եք գնում: Այսպիսով, ձեր ընդհանուր խոնավությունը հավասար է անձրեւի համար մեկ վայրկյանում գտնվող խոնավության համար `անձրեւի ժամանակ անցկացրած ժամանակի քանակը, գումարած մեկ մետրով մեկ մետր հեռավորության վրա գտնվող մետր հեռավորության վրա: Այսպիսով, որպեսզի մնա մի կետից մյուսը, դուք պետք է փորձեք նվազագույնի հասցնել վերեւից ձեզ վրա ընկած ջրի քանակը: Եվ, միանգամայն պարզապես, դա նշանակում է անձրեւից հնարավորինս արագ դուրս գալ:'"
      ]
     },
     "execution_count": 19,
     "metadata": {},
     "output_type": "execute_result"
    }
   ],
   "source": [
    "translation"
   ]
  },
  {
   "cell_type": "code",
   "execution_count": 22,
   "id": "ebe7eb0d",
   "metadata": {},
   "outputs": [],
   "source": [
    "import pandas as pd\n",
    "\n",
    "pd.DataFrame({\"english\": [transcript_text],\n",
    "              \"translation\": [translation]}).to_csv(\"running_in_the_rain/text.csv\")"
   ]
  },
  {
   "cell_type": "markdown",
   "id": "f05e4bba",
   "metadata": {},
   "source": [
    "# Auto dubbing"
   ]
  },
  {
   "cell_type": "markdown",
   "id": "315a3568",
   "metadata": {},
   "source": []
  }
 ],
 "metadata": {
  "kernelspec": {
   "display_name": "youtube",
   "language": "python",
   "name": "python3"
  },
  "language_info": {
   "codemirror_mode": {
    "name": "ipython",
    "version": 3
   },
   "file_extension": ".py",
   "mimetype": "text/x-python",
   "name": "python",
   "nbconvert_exporter": "python",
   "pygments_lexer": "ipython3",
   "version": "3.10.18"
  }
 },
 "nbformat": 4,
 "nbformat_minor": 5
}
