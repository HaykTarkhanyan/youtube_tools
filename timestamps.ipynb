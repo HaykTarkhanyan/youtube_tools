{
 "cells": [
  {
   "cell_type": "code",
   "execution_count": 1,
   "id": "5e07c52f",
   "metadata": {},
   "outputs": [],
   "source": [
    "from tools import Transcript\n",
    "from pytubefix import YouTube, Channel, Playlist"
   ]
  },
  {
   "cell_type": "code",
   "execution_count": 2,
   "id": "271509ad",
   "metadata": {},
   "outputs": [],
   "source": [
    "# channel = \"https://www.youtube.com/@compstatmunich9067\"\n",
    "\n",
    "# slds = Channel(channel)\n",
    "# slds.channel_name"
   ]
  },
  {
   "cell_type": "code",
   "execution_count": 3,
   "id": "5fdd6217",
   "metadata": {},
   "outputs": [],
   "source": [
    "# all_playlists = slds.playlists\n",
    "# print(f\"All playlists for channel '{slds.channel_name}':\")\n",
    "# for playlist in all_playlists:\n",
    "#     print(f\"{playlist} {playlist.title}\")"
   ]
  },
  {
   "cell_type": "markdown",
   "id": "822e24c3",
   "metadata": {},
   "source": [
    "## Specific Platlist"
   ]
  },
  {
   "cell_type": "code",
   "execution_count": 4,
   "id": "7ab7fa42",
   "metadata": {},
   "outputs": [
    {
     "name": "stdout",
     "output_type": "stream",
     "text": [
      "I2ML - 07 Random Forests\n"
     ]
    }
   ],
   "source": [
    "url = \"https://www.youtube.com/playlist?list=PLGViarxWrOJc4drfZKR6uC0j-JFJxl5UI\"\n",
    "\n",
    "rf = Playlist(url)\n",
    "print(rf.title)"
   ]
  },
  {
   "cell_type": "code",
   "execution_count": 5,
   "id": "6dbc1354",
   "metadata": {},
   "outputs": [
    {
     "name": "stdout",
     "output_type": "stream",
     "text": [
      "Got 6 video URLs:\n"
     ]
    }
   ],
   "source": [
    "urls = rf.video_urls\n",
    "\n",
    "print(f\"Got {len(urls)} video URLs:\")"
   ]
  },
  {
   "cell_type": "code",
   "execution_count": 6,
   "id": "dc855de9",
   "metadata": {},
   "outputs": [
    {
     "name": "stdout",
     "output_type": "stream",
     "text": [
      "Automatic English subtitles are available.\n",
      "Using a.en subtitles.\n",
      "Video Title: I2ML__07_Random_Forests__00_In_a_Nutshell\n",
      "Transcript for 'a.en' language has been generated.\n",
      "Transcript info: {'num_sentences': 0, 'num_words': 1706, 'num_chars': 9192}\n",
      "Transcript saved to videos\\I2ML__07_Random_Forests__00_In_a_Nutshell\\I2ML__07_Random_Forests__00_In_a_Nutshell.txt and videos\\I2ML__07_Random_Forests__00_In_a_Nutshell\\I2ML__07_Random_Forests__00_In_a_Nutshell.srt\n",
      "SRT converted to CSV and saved to videos\\I2ML__07_Random_Forests__00_In_a_Nutshell\\I2ML__07_Random_Forests__00_In_a_Nutshell.csv\n",
      "Transcript for 'a.en' language has been generated.\n",
      "Transcript info: {'num_sentences': 0, 'num_words': 1706, 'num_chars': 9192}\n",
      "Transcript saved to videos\\I2ML__07_Random_Forests__00_In_a_Nutshell\\I2ML__07_Random_Forests__00_In_a_Nutshell.txt and videos\\I2ML__07_Random_Forests__00_In_a_Nutshell\\I2ML__07_Random_Forests__00_In_a_Nutshell.srt\n",
      "SRT converted to CSV and saved to videos\\I2ML__07_Random_Forests__00_In_a_Nutshell\\I2ML__07_Random_Forests__00_In_a_Nutshell.csv\n",
      "Automatic English subtitles are available.\n",
      "Using a.en subtitles.\n",
      "Video Title: I2ML__07_Random_Forest__01_Bagging_Ensembles\n",
      "Transcript for 'a.en' language has been generated.\n",
      "Transcript info: {'num_sentences': 0, 'num_words': 1941, 'num_chars': 10741}\n",
      "Transcript saved to videos\\I2ML__07_Random_Forest__01_Bagging_Ensembles\\I2ML__07_Random_Forest__01_Bagging_Ensembles.txt and videos\\I2ML__07_Random_Forest__01_Bagging_Ensembles\\I2ML__07_Random_Forest__01_Bagging_Ensembles.srt\n",
      "SRT converted to CSV and saved to videos\\I2ML__07_Random_Forest__01_Bagging_Ensembles\\I2ML__07_Random_Forest__01_Bagging_Ensembles.csv\n",
      "Transcript for 'a.en' language has been generated.\n",
      "Transcript info: {'num_sentences': 0, 'num_words': 1941, 'num_chars': 10741}\n",
      "Transcript saved to videos\\I2ML__07_Random_Forest__01_Bagging_Ensembles\\I2ML__07_Random_Forest__01_Bagging_Ensembles.txt and videos\\I2ML__07_Random_Forest__01_Bagging_Ensembles\\I2ML__07_Random_Forest__01_Bagging_Ensembles.srt\n",
      "SRT converted to CSV and saved to videos\\I2ML__07_Random_Forest__01_Bagging_Ensembles\\I2ML__07_Random_Forest__01_Bagging_Ensembles.csv\n",
      "Automatic English subtitles are available.\n",
      "Using a.en subtitles.\n",
      "Video Title: I2ML__07_Random_Forest__02_Basics\n",
      "Transcript for 'a.en' language has been generated.\n",
      "Transcript info: {'num_sentences': 0, 'num_words': 4938, 'num_chars': 26866}\n",
      "Transcript saved to videos\\I2ML__07_Random_Forest__02_Basics\\I2ML__07_Random_Forest__02_Basics.txt and videos\\I2ML__07_Random_Forest__02_Basics\\I2ML__07_Random_Forest__02_Basics.srt\n",
      "SRT converted to CSV and saved to videos\\I2ML__07_Random_Forest__02_Basics\\I2ML__07_Random_Forest__02_Basics.csv\n",
      "Transcript for 'a.en' language has been generated.\n",
      "Transcript info: {'num_sentences': 0, 'num_words': 4938, 'num_chars': 26866}\n",
      "Transcript saved to videos\\I2ML__07_Random_Forest__02_Basics\\I2ML__07_Random_Forest__02_Basics.txt and videos\\I2ML__07_Random_Forest__02_Basics\\I2ML__07_Random_Forest__02_Basics.srt\n",
      "SRT converted to CSV and saved to videos\\I2ML__07_Random_Forest__02_Basics\\I2ML__07_Random_Forest__02_Basics.csv\n",
      "Automatic English subtitles are available.\n",
      "Using a.en subtitles.\n",
      "Video Title: I2ML__07_Random_Forests__03_OutofBag_Error_Estimate\n",
      "Transcript for 'a.en' language has been generated.\n",
      "Transcript info: {'num_sentences': 0, 'num_words': 1790, 'num_chars': 9316}\n",
      "Transcript saved to videos\\I2ML__07_Random_Forests__03_OutofBag_Error_Estimate\\I2ML__07_Random_Forests__03_OutofBag_Error_Estimate.txt and videos\\I2ML__07_Random_Forests__03_OutofBag_Error_Estimate\\I2ML__07_Random_Forests__03_OutofBag_Error_Estimate.srt\n",
      "SRT converted to CSV and saved to videos\\I2ML__07_Random_Forests__03_OutofBag_Error_Estimate\\I2ML__07_Random_Forests__03_OutofBag_Error_Estimate.csv\n",
      "Transcript for 'a.en' language has been generated.\n",
      "Transcript info: {'num_sentences': 0, 'num_words': 1790, 'num_chars': 9316}\n",
      "Transcript saved to videos\\I2ML__07_Random_Forests__03_OutofBag_Error_Estimate\\I2ML__07_Random_Forests__03_OutofBag_Error_Estimate.txt and videos\\I2ML__07_Random_Forests__03_OutofBag_Error_Estimate\\I2ML__07_Random_Forests__03_OutofBag_Error_Estimate.srt\n",
      "SRT converted to CSV and saved to videos\\I2ML__07_Random_Forests__03_OutofBag_Error_Estimate\\I2ML__07_Random_Forests__03_OutofBag_Error_Estimate.csv\n",
      "Automatic English subtitles are available.\n",
      "Using a.en subtitles.\n",
      "Video Title: I2ML__07_Random_Forest__04_Feature_Importance\n",
      "Transcript for 'a.en' language has been generated.\n",
      "Transcript info: {'num_sentences': 0, 'num_words': 1603, 'num_chars': 8750}\n",
      "Transcript saved to videos\\I2ML__07_Random_Forest__04_Feature_Importance\\I2ML__07_Random_Forest__04_Feature_Importance.txt and videos\\I2ML__07_Random_Forest__04_Feature_Importance\\I2ML__07_Random_Forest__04_Feature_Importance.srt\n",
      "SRT converted to CSV and saved to videos\\I2ML__07_Random_Forest__04_Feature_Importance\\I2ML__07_Random_Forest__04_Feature_Importance.csv\n",
      "Transcript for 'a.en' language has been generated.\n",
      "Transcript info: {'num_sentences': 0, 'num_words': 1603, 'num_chars': 8750}\n",
      "Transcript saved to videos\\I2ML__07_Random_Forest__04_Feature_Importance\\I2ML__07_Random_Forest__04_Feature_Importance.txt and videos\\I2ML__07_Random_Forest__04_Feature_Importance\\I2ML__07_Random_Forest__04_Feature_Importance.srt\n",
      "SRT converted to CSV and saved to videos\\I2ML__07_Random_Forest__04_Feature_Importance\\I2ML__07_Random_Forest__04_Feature_Importance.csv\n",
      "Automatic English subtitles are available.\n",
      "Using a.en subtitles.\n",
      "Video Title: I2ML__07_Random_Forest__05_Proximities\n",
      "Transcript for 'a.en' language has been generated.\n",
      "Transcript info: {'num_sentences': 0, 'num_words': 1000, 'num_chars': 5285}\n",
      "Transcript saved to videos\\I2ML__07_Random_Forest__05_Proximities\\I2ML__07_Random_Forest__05_Proximities.txt and videos\\I2ML__07_Random_Forest__05_Proximities\\I2ML__07_Random_Forest__05_Proximities.srt\n",
      "SRT converted to CSV and saved to videos\\I2ML__07_Random_Forest__05_Proximities\\I2ML__07_Random_Forest__05_Proximities.csv\n",
      "Transcript for 'a.en' language has been generated.\n",
      "Transcript info: {'num_sentences': 0, 'num_words': 1000, 'num_chars': 5285}\n",
      "Transcript saved to videos\\I2ML__07_Random_Forest__05_Proximities\\I2ML__07_Random_Forest__05_Proximities.txt and videos\\I2ML__07_Random_Forest__05_Proximities\\I2ML__07_Random_Forest__05_Proximities.srt\n",
      "SRT converted to CSV and saved to videos\\I2ML__07_Random_Forest__05_Proximities\\I2ML__07_Random_Forest__05_Proximities.csv\n"
     ]
    }
   ],
   "source": [
    "for url in urls:\n",
    "    transc = Transcript(url, language=\"a.en\")\n",
    "\n",
    "    transc.get_transcript()"
   ]
  },
  {
   "cell_type": "code",
   "execution_count": null,
   "id": "4cdf2bef",
   "metadata": {},
   "outputs": [],
   "source": [
    "tr.get"
   ]
  }
 ],
 "metadata": {
  "kernelspec": {
   "display_name": "youtube",
   "language": "python",
   "name": "python3"
  },
  "language_info": {
   "codemirror_mode": {
    "name": "ipython",
    "version": 3
   },
   "file_extension": ".py",
   "mimetype": "text/x-python",
   "name": "python",
   "nbconvert_exporter": "python",
   "pygments_lexer": "ipython3",
   "version": "3.10.18"
  }
 },
 "nbformat": 4,
 "nbformat_minor": 5
}
