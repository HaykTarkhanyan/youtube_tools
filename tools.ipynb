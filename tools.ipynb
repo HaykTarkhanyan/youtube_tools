{
 "cells": [
  {
   "cell_type": "code",
   "execution_count": 5,
   "id": "12fdfbcf",
   "metadata": {},
   "outputs": [],
   "source": [
    "import os\n",
    "import pandas as pd\n",
    "\n",
    "import toml\n",
    "\n",
    "from dotenv import load_dotenv\n",
    "load_dotenv()\n",
    "\n",
    "import pytubefix\n",
    "from pytubefix import Playlist, Channel, YouTube\n",
    "\n",
    "from _youtube import YouTubeVideo\n",
    "\n",
    "\n",
    "\n",
    "config = toml.load(\"config.toml\")"
   ]
  },
  {
   "cell_type": "code",
   "execution_count": 6,
   "id": "707e6329",
   "metadata": {},
   "outputs": [],
   "source": [
    "def save_video_files(url, only_audio=True, video_highest_quality=False):\n",
    "    video = YouTubeVideo(url)\n",
    "    \n",
    "    title = video.video.title\n",
    "    title = title.replace(\" \", \"_\").replace(\"/\", \"_\")\n",
    "    \n",
    "    path = title\n",
    "    \n",
    "    if not os.path.exists(path):\n",
    "        os.makedirs(path)\n",
    "        \n",
    "    video.download_audio(path)\n",
    "    if not only_audio:\n",
    "        video.download_video(path, highest_quality=video_highest_quality)"
   ]
  },
  {
   "cell_type": "code",
   "execution_count": 7,
   "id": "f52046b2",
   "metadata": {},
   "outputs": [],
   "source": [
    "url = \"https://www.youtube.com/watch?v=lTRiuFIWV54\"\n",
    "\n",
    "save_video_files(url, only_audio=True)"
   ]
  },
  {
   "cell_type": "code",
   "execution_count": null,
   "id": "3b4ad1ce",
   "metadata": {},
   "outputs": [],
   "source": []
  }
 ],
 "metadata": {
  "kernelspec": {
   "display_name": "youtube",
   "language": "python",
   "name": "python3"
  },
  "language_info": {
   "codemirror_mode": {
    "name": "ipython",
    "version": 3
   },
   "file_extension": ".py",
   "mimetype": "text/x-python",
   "name": "python",
   "nbconvert_exporter": "python",
   "pygments_lexer": "ipython3",
   "version": "3.10.18"
  }
 },
 "nbformat": 4,
 "nbformat_minor": 5
}
