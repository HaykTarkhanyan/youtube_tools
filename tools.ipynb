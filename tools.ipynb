{
 "cells": [
  {
   "cell_type": "code",
   "execution_count": 3,
   "id": "12fdfbcf",
   "metadata": {},
   "outputs": [],
   "source": [
    "import os\n",
    "import json\n",
    "import string\n",
    "\n",
    "import pandas as pd\n",
    "\n",
    "import toml\n",
    "\n",
    "from dotenv import load_dotenv\n",
    "load_dotenv()\n",
    "\n",
    "from dataclasses import asdict\n",
    "\n",
    "import pytubefix\n",
    "from pytubefix import Playlist, Channel, YouTube\n",
    "\n",
    "from _youtube import YouTubeVideo\n",
    "\n",
    "\n",
    "\n",
    "config = toml.load(\"config.toml\")"
   ]
  },
  {
   "cell_type": "code",
   "execution_count": null,
   "id": "0f521eb4",
   "metadata": {},
   "outputs": [],
   "source": []
  },
  {
   "cell_type": "code",
   "execution_count": 4,
   "id": "707e6329",
   "metadata": {},
   "outputs": [],
   "source": [
    "def save_video_files(url, only_audio=True, video_highest_quality=False):\n",
    "    print(f\"Processing URL: {url} | Only audio: {only_audio} | Highest quality video: {video_highest_quality}\")\n",
    "    video = YouTubeVideo(url)\n",
    "    \n",
    "    title = video.video.title\n",
    "    # clean the title, remove all the special characters that are not allowed in filenames\n",
    "    title = title.translate(str.maketrans('', '', string.punctuation))\n",
    "    title = title.replace(\" \", \"_\")  # replace spaces with underscores\n",
    "    \n",
    "    print(f\"Downloading video: {title}\")\n",
    "    path = title\n",
    "    \n",
    "    if not os.path.exists(path):\n",
    "        os.makedirs(path)\n",
    "        \n",
    "    video.download_audio(path)\n",
    "    print(f\"Audio downloaded to: {path}\")\n",
    "    if not only_audio:\n",
    "        video.download_video(path, highest_quality=video_highest_quality)\n",
    "        print(f\"Video downloaded to: {path}\")\n",
    "        \n",
    "        print(f\"Downloading with yt-dlp...\")\n",
    "        os.system(f\"yt-dlp {url}\")\n",
    "        print(f\"Video downloaded with yt-dlp to: {path}\")\n",
    "    # save json file with video metadata\n",
    "    video_metadata = asdict(video.get_metadata())\n",
    "    metadata_file = os.path.join(path, f\"{title}.json\")\n",
    "    \n",
    "    with open(metadata_file, 'w') as f:\n",
    "        json.dump(video_metadata, f, indent=4)  \n",
    "        print(f\"Metadata saved to: {metadata_file}\")"
   ]
  },
  {
   "cell_type": "code",
   "execution_count": 5,
   "id": "f52046b2",
   "metadata": {},
   "outputs": [
    {
     "name": "stdout",
     "output_type": "stream",
     "text": [
      "Processing URL: https://www.youtube.com/shorts/WVHw4-62rV4 | Only audio: False | Highest quality video: True\n",
      "Downloading video: The_Greatest_Portrait_Photographer_of_All_Time\n",
      "Audio downloaded to: The_Greatest_Portrait_Photographer_of_All_Time\n",
      "Downloading video WVHw4-62rV4 to The_Greatest_Portrait_Photographer_of_All_Time with highest quality: True\n",
      "Video downloaded to: The_Greatest_Portrait_Photographer_of_All_Time\n",
      "Downloading with yt-dlp...\n",
      "Video downloaded with yt-dlp to: The_Greatest_Portrait_Photographer_of_All_Time\n",
      "Metadata saved to: The_Greatest_Portrait_Photographer_of_All_Time\\The_Greatest_Portrait_Photographer_of_All_Time.json\n"
     ]
    }
   ],
   "source": [
    "url = \"https://www.youtube.com/shorts/WVHw4-62rV4\"\n",
    "\n",
    "save_video_files(url, only_audio=False, video_highest_quality=True)"
   ]
  },
  {
   "cell_type": "code",
   "execution_count": null,
   "id": "a11d4adf",
   "metadata": {},
   "outputs": [],
   "source": []
  }
 ],
 "metadata": {
  "kernelspec": {
   "display_name": "youtube",
   "language": "python",
   "name": "python3"
  },
  "language_info": {
   "codemirror_mode": {
    "name": "ipython",
    "version": 3
   },
   "file_extension": ".py",
   "mimetype": "text/x-python",
   "name": "python",
   "nbconvert_exporter": "python",
   "pygments_lexer": "ipython3",
   "version": "3.10.18"
  }
 },
 "nbformat": 4,
 "nbformat_minor": 5
}
